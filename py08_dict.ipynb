{
  "nbformat": 4,
  "nbformat_minor": 0,
  "metadata": {
    "colab": {
      "provenance": [],
      "authorship_tag": "ABX9TyPT42Yn2PKrjCYJnipC4HX/",
      "include_colab_link": true
    },
    "kernelspec": {
      "name": "python3",
      "display_name": "Python 3"
    },
    "language_info": {
      "name": "python"
    }
  },
  "cells": [
    {
      "cell_type": "markdown",
      "metadata": {
        "id": "view-in-github",
        "colab_type": "text"
      },
      "source": [
        "<a href=\"https://colab.research.google.com/github/JMYoon90/JM_python/blob/main/py08_dict.ipynb\" target=\"_parent\"><img src=\"https://colab.research.google.com/assets/colab-badge.svg\" alt=\"Open In Colab\"/></a>"
      ]
    },
    {
      "cell_type": "markdown",
      "source": [
        "# dict\n",
        "\n",
        "* dictionary(사전) 형식의 데이터 타입.\n",
        "* 키(key)를 기반으로 값(value)를 저장하는 데이터 타입.\n",
        "    * list, tuple: 인덱스(index)를 기반으로 값을 저장하는 데이터 타입.\n",
        "    * dict에서 키(key)의 역할은 리스트나 튜플에서 인덱스와 비슷한 역할: dict의 원소를 참조하기 위한 용도."
      ],
      "metadata": {
        "id": "4qGoSzEHita7"
      }
    },
    {
      "cell_type": "code",
      "source": [
        "students = {1: '홍길동', 2: '김길동', 3: '오쌤'}\n",
        "students"
      ],
      "metadata": {
        "colab": {
          "base_uri": "https://localhost:8080/"
        },
        "id": "phAihQJsj5BF",
        "outputId": "f7ca6f0d-a7c8-4258-9809-a41c8d5cea5f"
      },
      "execution_count": 12,
      "outputs": [
        {
          "output_type": "execute_result",
          "data": {
            "text/plain": [
              "{1: '홍길동', 2: '김길동', 3: '오쌤'}"
            ]
          },
          "metadata": {},
          "execution_count": 12
        }
      ]
    },
    {
      "cell_type": "code",
      "source": [
        "type(students)"
      ],
      "metadata": {
        "colab": {
          "base_uri": "https://localhost:8080/"
        },
        "id": "lJx__dJD2TsL",
        "outputId": "97efaaea-acae-4814-83d8-b30175ec2efd"
      },
      "execution_count": 13,
      "outputs": [
        {
          "output_type": "execute_result",
          "data": {
            "text/plain": [
              "dict"
            ]
          },
          "metadata": {},
          "execution_count": 13
        }
      ]
    },
    {
      "cell_type": "code",
      "source": [
        "students[1]"
      ],
      "metadata": {
        "colab": {
          "base_uri": "https://localhost:8080/",
          "height": 35
        },
        "id": "fVjou8ahlPYU",
        "outputId": "00ec36f4-4f0e-4511-d624-b045c92d3595"
      },
      "execution_count": 14,
      "outputs": [
        {
          "output_type": "execute_result",
          "data": {
            "text/plain": [
              "'홍길동'"
            ],
            "application/vnd.google.colaboratory.intrinsic+json": {
              "type": "string"
            }
          },
          "metadata": {},
          "execution_count": 14
        }
      ]
    },
    {
      "cell_type": "code",
      "source": [
        "students[10] = 'Scott' # 원소 추가: dict[new_key] = new_value\n",
        "students"
      ],
      "metadata": {
        "colab": {
          "base_uri": "https://localhost:8080/"
        },
        "id": "BAm7mYW6lVZ3",
        "outputId": "0e0e613e-0bfc-4480-858a-d0d543057ef4"
      },
      "execution_count": 15,
      "outputs": [
        {
          "output_type": "execute_result",
          "data": {
            "text/plain": [
              "{1: '홍길동', 2: '김길동', 3: '오쌤', 10: 'Scott'}"
            ]
          },
          "metadata": {},
          "execution_count": 15
        }
      ]
    },
    {
      "cell_type": "code",
      "source": [
        "students[2] = '허균' # 원소 변경: dict[old_key] = new_value\n",
        "students"
      ],
      "metadata": {
        "colab": {
          "base_uri": "https://localhost:8080/"
        },
        "id": "IV19gbeUlfNJ",
        "outputId": "62429a06-9bc3-464b-e021-afbd01348f76"
      },
      "execution_count": 16,
      "outputs": [
        {
          "output_type": "execute_result",
          "data": {
            "text/plain": [
              "{1: '홍길동', 2: '허균', 3: '오쌤', 10: 'Scott'}"
            ]
          },
          "metadata": {},
          "execution_count": 16
        }
      ]
    },
    {
      "cell_type": "code",
      "source": [
        "students.pop(3) # 원소 삭제: dict.pop(key)\n",
        "students"
      ],
      "metadata": {
        "colab": {
          "base_uri": "https://localhost:8080/"
        },
        "id": "PSjxmYEIlmvD",
        "outputId": "e69a6b54-9d52-4fc5-d7d1-2258d2798302"
      },
      "execution_count": 17,
      "outputs": [
        {
          "output_type": "execute_result",
          "data": {
            "text/plain": [
              "{1: '홍길동', 2: '허균', 10: 'Scott'}"
            ]
          },
          "metadata": {},
          "execution_count": 17
        }
      ]
    },
    {
      "cell_type": "markdown",
      "source": [
        "dict에서 key와 value는 다양한 타입의 자료들을 사용할 수 있음."
      ],
      "metadata": {
        "id": "XH0GF6WS2lI7"
      }
    },
    {
      "cell_type": "code",
      "source": [
        "contact= {\n",
        "    'no':1,\n",
        "    'name': '오쌤',\n",
        "    'phone': ['010-0000-0000', '02-0000-0000'],\n",
        "    'email': {'company': 'jake@itwill.co.kr', 'personal': 'jake@gmail.com'}\n",
        "    }\n",
        "contact"
      ],
      "metadata": {
        "colab": {
          "base_uri": "https://localhost:8080/"
        },
        "id": "dVVS1bzl2vgG",
        "outputId": "a0c899c6-4ab5-423e-a00b-c04c99566668"
      },
      "execution_count": 20,
      "outputs": [
        {
          "output_type": "execute_result",
          "data": {
            "text/plain": [
              "{'no': 1,\n",
              " 'name': '오쌤',\n",
              " 'phone': ['010-0000-0000', '02-0000-0000'],\n",
              " 'email': {'company': 'jake@itwill.co.kr', 'personal': 'jake@gmail.com'}}"
            ]
          },
          "metadata": {},
          "execution_count": 20
        }
      ]
    },
    {
      "cell_type": "code",
      "source": [
        "contact['no']"
      ],
      "metadata": {
        "colab": {
          "base_uri": "https://localhost:8080/"
        },
        "id": "DNSkZe_u3k9S",
        "outputId": "53f2f0c5-bef3-4cb5-a714-191cf181f9c9"
      },
      "execution_count": 21,
      "outputs": [
        {
          "output_type": "execute_result",
          "data": {
            "text/plain": [
              "1"
            ]
          },
          "metadata": {},
          "execution_count": 21
        }
      ]
    },
    {
      "cell_type": "code",
      "source": [
        "contact['phone']"
      ],
      "metadata": {
        "colab": {
          "base_uri": "https://localhost:8080/"
        },
        "id": "O3FydFcg3oP5",
        "outputId": "7b271a6b-7caa-41f8-e8f0-21f0dd7b64c7"
      },
      "execution_count": 22,
      "outputs": [
        {
          "output_type": "execute_result",
          "data": {
            "text/plain": [
              "['010-0000-0000', '02-0000-0000']"
            ]
          },
          "metadata": {},
          "execution_count": 22
        }
      ]
    },
    {
      "cell_type": "code",
      "source": [
        "contact['phone'][0]"
      ],
      "metadata": {
        "colab": {
          "base_uri": "https://localhost:8080/",
          "height": 35
        },
        "id": "BbitMIxr3xdl",
        "outputId": "0c2428c5-a1af-4e8e-8d5e-f2aa07d7ee02"
      },
      "execution_count": 23,
      "outputs": [
        {
          "output_type": "execute_result",
          "data": {
            "text/plain": [
              "'010-0000-0000'"
            ],
            "application/vnd.google.colaboratory.intrinsic+json": {
              "type": "string"
            }
          },
          "metadata": {},
          "execution_count": 23
        }
      ]
    },
    {
      "cell_type": "code",
      "source": [
        "contact['email']"
      ],
      "metadata": {
        "colab": {
          "base_uri": "https://localhost:8080/"
        },
        "id": "L_QcZK5A35CS",
        "outputId": "3bed3228-3a04-4eed-cfa3-2edf1b57171e"
      },
      "execution_count": 25,
      "outputs": [
        {
          "output_type": "execute_result",
          "data": {
            "text/plain": [
              "{'company': 'jake@itwill.co.kr', 'personal': 'jake@gmail.com'}"
            ]
          },
          "metadata": {},
          "execution_count": 25
        }
      ]
    },
    {
      "cell_type": "code",
      "source": [
        "contact['email']['company']"
      ],
      "metadata": {
        "colab": {
          "base_uri": "https://localhost:8080/",
          "height": 35
        },
        "id": "eHfLGm3r4Hcw",
        "outputId": "986a1bf8-f6f9-4603-db9f-08d168c7639e"
      },
      "execution_count": 27,
      "outputs": [
        {
          "output_type": "execute_result",
          "data": {
            "text/plain": [
              "'jake@itwill.co.kr'"
            ],
            "application/vnd.google.colaboratory.intrinsic+json": {
              "type": "string"
            }
          },
          "metadata": {},
          "execution_count": 27
        }
      ]
    },
    {
      "cell_type": "markdown",
      "source": [
        "# dict와 for 반복문"
      ],
      "metadata": {
        "id": "Z_4SFm6b4QgJ"
      }
    },
    {
      "cell_type": "markdown",
      "source": [
        "for-in 구문에서 dict 타입 객체를 사용하면 key에 대해서 반복(iteration)함."
      ],
      "metadata": {
        "id": "uP9DWrrT4e3r"
      }
    },
    {
      "cell_type": "code",
      "source": [
        "for k in contact:\n",
        "    print(k)"
      ],
      "metadata": {
        "colab": {
          "base_uri": "https://localhost:8080/"
        },
        "id": "q8DzXBal4S4m",
        "outputId": "d0e8dc58-d345-4b81-9853-733aad06c662"
      },
      "execution_count": 29,
      "outputs": [
        {
          "output_type": "stream",
          "name": "stdout",
          "text": [
            "no\n",
            "name\n",
            "phone\n",
            "email\n"
          ]
        }
      ]
    },
    {
      "cell_type": "code",
      "source": [
        "for k in contact:\n",
        "    print(k,': ', contact[k])"
      ],
      "metadata": {
        "colab": {
          "base_uri": "https://localhost:8080/"
        },
        "id": "dRBa-C0q4lEJ",
        "outputId": "40bb558f-7b87-4c54-976c-54c9aa3a47b6"
      },
      "execution_count": 32,
      "outputs": [
        {
          "output_type": "stream",
          "name": "stdout",
          "text": [
            "no :  1\n",
            "name :  오쌤\n",
            "phone :  ['010-0000-0000', '02-0000-0000']\n",
            "email :  {'company': 'jake@itwill.co.kr', 'personal': 'jake@gmail.com'}\n"
          ]
        }
      ]
    },
    {
      "cell_type": "code",
      "source": [
        "contact.items() # (key, value) 튜플들의 리스트"
      ],
      "metadata": {
        "colab": {
          "base_uri": "https://localhost:8080/"
        },
        "id": "upBtrnmi5MrH",
        "outputId": "e600ae6a-838c-42d9-cdee-ef24f2a170fe"
      },
      "execution_count": 34,
      "outputs": [
        {
          "output_type": "execute_result",
          "data": {
            "text/plain": [
              "dict_items([('no', 1), ('name', '오쌤'), ('phone', ['010-0000-0000', '02-0000-0000']), ('email', {'company': 'jake@itwill.co.kr', 'personal': 'jake@gmail.com'})])"
            ]
          },
          "metadata": {},
          "execution_count": 34
        }
      ]
    },
    {
      "cell_type": "code",
      "source": [
        "for k, v in contact.items():\n",
        "    print(k, ':', v)"
      ],
      "metadata": {
        "colab": {
          "base_uri": "https://localhost:8080/"
        },
        "id": "zENw9Jtk5W5H",
        "outputId": "d9ab4001-91a4-41e7-b843-86ec4ee7849d"
      },
      "execution_count": 36,
      "outputs": [
        {
          "output_type": "stream",
          "name": "stdout",
          "text": [
            "no : 1\n",
            "name : 오쌤\n",
            "phone : ['010-0000-0000', '02-0000-0000']\n",
            "email : {'company': 'jake@itwill.co.kr', 'personal': 'jake@gmail.com'}\n"
          ]
        }
      ]
    },
    {
      "cell_type": "markdown",
      "source": [
        "# Dictionary Comprehension"
      ],
      "metadata": {
        "id": "nabtxbqq52EN"
      }
    },
    {
      "cell_type": "code",
      "source": [
        "emp_no = [1000, 1001, 2000, 2001]\n",
        "emp_name = ['King', 'Scott', 'Allen', 'Tiger']"
      ],
      "metadata": {
        "id": "efnmEHFm52Qs"
      },
      "execution_count": 37,
      "outputs": []
    },
    {
      "cell_type": "code",
      "source": [
        "emp = {}\n",
        "for no, name in zip(emp_no, emp_name):\n",
        "    emp[no] = name\n",
        "print(emp)"
      ],
      "metadata": {
        "colab": {
          "base_uri": "https://localhost:8080/"
        },
        "id": "RhdlS_4c6PnZ",
        "outputId": "b1b55c91-c237-4078-d9f9-aaa9127199d3"
      },
      "execution_count": 41,
      "outputs": [
        {
          "output_type": "stream",
          "name": "stdout",
          "text": [
            "{1000: 'King', 1001: 'Scott', 2000: 'Allen', 2001: 'Tiger'}\n"
          ]
        }
      ]
    },
    {
      "cell_type": "code",
      "source": [
        "emp2 = {k:v for k, v in zip(emp_no, emp_name)}\n",
        "emp2"
      ],
      "metadata": {
        "colab": {
          "base_uri": "https://localhost:8080/"
        },
        "id": "uOGEnaYx8I1F",
        "outputId": "a2ff5e86-aaed-4348-f535-470eefe3b6d6"
      },
      "execution_count": 43,
      "outputs": [
        {
          "output_type": "execute_result",
          "data": {
            "text/plain": [
              "{1000: 'King', 1001: 'Scott', 2000: 'Allen', 2001: 'Tiger'}"
            ]
          },
          "metadata": {},
          "execution_count": 43
        }
      ]
    },
    {
      "cell_type": "code",
      "source": [
        "messages = ['Merry, Christmas!', 'Happy New Year!', '새해 복 많이 받으세요.']\n",
        "\n",
        "\n",
        "# messages의 문자열을 키로 하고, 그 문자열의 길이를 값으로 하는 dict\n",
        "message_lengths = {}\n",
        "for m in messages:\n",
        "    message_lengths[m] = len(m)\n",
        "\n",
        "print(message_lengths)"
      ],
      "metadata": {
        "colab": {
          "base_uri": "https://localhost:8080/"
        },
        "id": "PNE3hFyW8Oma",
        "outputId": "54d6ff8f-87d0-43d5-e78d-ce4df2a8ed7a"
      },
      "execution_count": 51,
      "outputs": [
        {
          "output_type": "stream",
          "name": "stdout",
          "text": [
            "{'Merry, Christmas!': 17, 'Happy New Year!': 15, '새해 복 많이 받으세요.': 13}\n"
          ]
        }
      ]
    },
    {
      "cell_type": "code",
      "source": [
        "{m:len(m) for m in messages}"
      ],
      "metadata": {
        "colab": {
          "base_uri": "https://localhost:8080/"
        },
        "id": "Hct6mUc_-MQ_",
        "outputId": "e6329b8f-6910-4640-a928-c9452860b0df"
      },
      "execution_count": 53,
      "outputs": [
        {
          "output_type": "execute_result",
          "data": {
            "text/plain": [
              "{'Merry, Christmas!': 17, 'Happy New Year!': 15, '새해 복 많이 받으세요.': 13}"
            ]
          },
          "metadata": {},
          "execution_count": 53
        }
      ]
    }
  ]
}