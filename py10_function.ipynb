{
  "nbformat": 4,
  "nbformat_minor": 0,
  "metadata": {
    "colab": {
      "provenance": [],
      "authorship_tag": "ABX9TyN0Xi4ONhHNiqHOQzXU80Bs",
      "include_colab_link": true
    },
    "kernelspec": {
      "name": "python3",
      "display_name": "Python 3"
    },
    "language_info": {
      "name": "python"
    }
  },
  "cells": [
    {
      "cell_type": "markdown",
      "metadata": {
        "id": "view-in-github",
        "colab_type": "text"
      },
      "source": [
        "<a href=\"https://colab.research.google.com/github/JMYoon90/JM_python/blob/main/py10_function.ipynb\" target=\"_parent\"><img src=\"https://colab.research.google.com/assets/colab-badge.svg\" alt=\"Open In Colab\"/></a>"
      ]
    },
    {
      "cell_type": "markdown",
      "source": [
        "# 1급 객체(first-class object)로서의 함수\n",
        "\n",
        "\n",
        "함수는 객체(object)다.\n",
        "\n",
        "* 함수는 변수에 할당할 수 있음.\n",
        "* 함수의 파라미터에 다른 함수를 전달할 수 있음.\n",
        "* 함수의 리턴 값이 함수가 될 수 있음.\n",
        "* 함수 내부에서 다른 함수를 정의할 수 있음."
      ],
      "metadata": {
        "id": "eqBSG7YMOWTn"
      }
    },
    {
      "cell_type": "markdown",
      "source": [
        "## 함수를 변수에 할당"
      ],
      "metadata": {
        "id": "uqNyqkLtSR8o"
      }
    },
    {
      "cell_type": "code",
      "source": [
        "def twice(x):\n",
        "    return 2 * x"
      ],
      "metadata": {
        "id": "updGGlYuP6Vy"
      },
      "execution_count": 1,
      "outputs": []
    },
    {
      "cell_type": "code",
      "source": [
        "result = twice(5) # 함수 twice의 호출 결과(리턴 값)를 변수 result에 할당.\n",
        "result"
      ],
      "metadata": {
        "colab": {
          "base_uri": "https://localhost:8080/"
        },
        "id": "GI6kaEWQP-yY",
        "outputId": "b76b69a7-90d9-4cba-bb1a-adb07ecfc912"
      },
      "execution_count": 2,
      "outputs": [
        {
          "output_type": "execute_result",
          "data": {
            "text/plain": [
              "10"
            ]
          },
          "metadata": {},
          "execution_count": 2
        }
      ]
    },
    {
      "cell_type": "code",
      "source": [
        "double = twice # 함수 twice 객체를 변수 double에 할당.\n",
        "double"
      ],
      "metadata": {
        "colab": {
          "base_uri": "https://localhost:8080/"
        },
        "id": "0j4LmVAOQa1B",
        "outputId": "23f59ad2-b86a-47e3-a989-e76896a300ad"
      },
      "execution_count": 3,
      "outputs": [
        {
          "output_type": "execute_result",
          "data": {
            "text/plain": [
              "<function __main__.twice(x)>"
            ]
          },
          "metadata": {},
          "execution_count": 3
        }
      ]
    },
    {
      "cell_type": "code",
      "source": [
        "double(100) # 함수 호출"
      ],
      "metadata": {
        "colab": {
          "base_uri": "https://localhost:8080/"
        },
        "id": "bGJPVTWGZRDz",
        "outputId": "9098d70b-4c71-4896-c934-e7b38dc3e079"
      },
      "execution_count": 14,
      "outputs": [
        {
          "output_type": "execute_result",
          "data": {
            "text/plain": [
              "200"
            ]
          },
          "metadata": {},
          "execution_count": 14
        }
      ]
    },
    {
      "cell_type": "markdown",
      "source": [
        "## 파라미터에 함수를 전달"
      ],
      "metadata": {
        "id": "71n76p8JQfVZ"
      }
    },
    {
      "cell_type": "code",
      "source": [
        "def calculator(x, y, fn):\n",
        "    \"\"\"\n",
        "    x, y: 숫자 타입(int, float)/\n",
        "    fn: 숫자 2개를 argument로 전달받고, 숫자를 리턴하는 함수.\n",
        "    \"\"\"\n",
        "\n",
        "    result = fn(x, y)\n",
        "    return result"
      ],
      "metadata": {
        "id": "0jRcsOOHRHGB"
      },
      "execution_count": 4,
      "outputs": []
    },
    {
      "cell_type": "code",
      "source": [
        "def plus(x, y):\n",
        "    return x + y"
      ],
      "metadata": {
        "id": "c9EOANIQRiQB"
      },
      "execution_count": 5,
      "outputs": []
    },
    {
      "cell_type": "code",
      "source": [
        "calculator(1, 2, plus)"
      ],
      "metadata": {
        "colab": {
          "base_uri": "https://localhost:8080/"
        },
        "id": "KIph9upuRuik",
        "outputId": "2f2cea60-bea5-42f2-c573-9c0ab8d617dc"
      },
      "execution_count": 6,
      "outputs": [
        {
          "output_type": "execute_result",
          "data": {
            "text/plain": [
              "3"
            ]
          },
          "metadata": {},
          "execution_count": 6
        }
      ]
    },
    {
      "cell_type": "markdown",
      "source": [
        "## 내부 함수, 함수 리턴"
      ],
      "metadata": {
        "id": "4gypEGkxRxBA"
      }
    },
    {
      "cell_type": "code",
      "source": [
        "def make_increments(n):\n",
        "    # 내부 함수(inner function). 지역 함수(local function)\n",
        "    def add_n(x):\n",
        "        # 내부 함수는 외부 함수의 지역 변수들을 사용할 수 있음.\n",
        "        return x + n\n",
        "\n",
        "    return add_n # 함수 객체를 리턴."
      ],
      "metadata": {
        "id": "QF-w4C8tSZO0"
      },
      "execution_count": 7,
      "outputs": []
    },
    {
      "cell_type": "code",
      "source": [
        "increase_by_2 = make_increments(2)"
      ],
      "metadata": {
        "id": "A3cNt8JNTwjF"
      },
      "execution_count": 8,
      "outputs": []
    },
    {
      "cell_type": "code",
      "source": [
        "increase_by_2"
      ],
      "metadata": {
        "colab": {
          "base_uri": "https://localhost:8080/"
        },
        "id": "unk0Uhq5T2Gi",
        "outputId": "e48a239b-82d0-4437-9e80-b33486dd3621"
      },
      "execution_count": 11,
      "outputs": [
        {
          "output_type": "execute_result",
          "data": {
            "text/plain": [
              "<function __main__.make_increments.<locals>.add_n(x)>"
            ]
          },
          "metadata": {},
          "execution_count": 11
        }
      ]
    },
    {
      "cell_type": "code",
      "source": [
        "increase_by_2(100)"
      ],
      "metadata": {
        "colab": {
          "base_uri": "https://localhost:8080/"
        },
        "id": "YhnDlDIxT3UJ",
        "outputId": "047ef53f-96c1-4091-f09c-b285615b25cf"
      },
      "execution_count": 12,
      "outputs": [
        {
          "output_type": "execute_result",
          "data": {
            "text/plain": [
              "102"
            ]
          },
          "metadata": {},
          "execution_count": 12
        }
      ]
    },
    {
      "cell_type": "code",
      "source": [
        "increase_by_10 = make_increments(10)\n",
        "increase_by_10(100)"
      ],
      "metadata": {
        "colab": {
          "base_uri": "https://localhost:8080/"
        },
        "id": "fBd0uMOFU1Ba",
        "outputId": "bf297730-3fbe-4b50-e597-3e4034539bdf"
      },
      "execution_count": 15,
      "outputs": [
        {
          "output_type": "execute_result",
          "data": {
            "text/plain": [
              "110"
            ]
          },
          "metadata": {},
          "execution_count": 15
        }
      ]
    },
    {
      "cell_type": "markdown",
      "source": [
        "# 람다 표현식(Lambda expression)\n",
        "\n",
        "* 이름이 없는 함수 표기법\n",
        "* 함수 이름 없이 함수의 파라미터 선언과 반환 값 또는 반환 식으로만 함수를 정의하는 방법.\n",
        "* 파이썬은 2줄 이상의 문장이 포함된 람다 표현식은 제공하지 않음.\n",
        "```\n",
        "lambda p1, p2, ...: expression\n",
        "```"
      ],
      "metadata": {
        "id": "DRpbk-nmaqNy"
      }
    },
    {
      "cell_type": "code",
      "source": [
        "minus = lambda x, y: x - y"
      ],
      "metadata": {
        "id": "rMpQ0ISbbTB3"
      },
      "execution_count": 16,
      "outputs": []
    },
    {
      "cell_type": "code",
      "source": [
        "minus"
      ],
      "metadata": {
        "colab": {
          "base_uri": "https://localhost:8080/"
        },
        "id": "Uri-EruabXs8",
        "outputId": "33783b6f-2848-4205-f804-afecaa5a44b6"
      },
      "execution_count": 18,
      "outputs": [
        {
          "output_type": "execute_result",
          "data": {
            "text/plain": [
              "<function __main__.<lambda>(x, y)>"
            ]
          },
          "metadata": {},
          "execution_count": 18
        }
      ]
    },
    {
      "cell_type": "code",
      "source": [
        "minus(1, 2)"
      ],
      "metadata": {
        "colab": {
          "base_uri": "https://localhost:8080/"
        },
        "id": "lY7YxYCgbuia",
        "outputId": "285ad4bc-79b1-4675-86bb-7ffa862e74aa"
      },
      "execution_count": 20,
      "outputs": [
        {
          "output_type": "execute_result",
          "data": {
            "text/plain": [
              "-1"
            ]
          },
          "metadata": {},
          "execution_count": 20
        }
      ]
    },
    {
      "cell_type": "code",
      "source": [
        "calculator(1, 2, lambda x, y: x / y)"
      ],
      "metadata": {
        "colab": {
          "base_uri": "https://localhost:8080/"
        },
        "id": "4wGnN5p3b0c0",
        "outputId": "b0eb95a9-ee2a-47a1-be00-28b97a12f0dd"
      },
      "execution_count": 21,
      "outputs": [
        {
          "output_type": "execute_result",
          "data": {
            "text/plain": [
              "0.5"
            ]
          },
          "metadata": {},
          "execution_count": 21
        }
      ]
    },
    {
      "cell_type": "markdown",
      "source": [
        "calculator 함수에 더 큰 숫자를 리턴하는 람다 표현식을 argument로 전달."
      ],
      "metadata": {
        "id": "azpaNIzpb6RX"
      }
    },
    {
      "cell_type": "code",
      "source": [
        "calculator(3, 4, lambda x, y: x if x > y else y)"
      ],
      "metadata": {
        "colab": {
          "base_uri": "https://localhost:8080/"
        },
        "id": "gOJinMCocZR9",
        "outputId": "2028498c-733b-4e97-9d93-efb48ac2899e"
      },
      "execution_count": 22,
      "outputs": [
        {
          "output_type": "execute_result",
          "data": {
            "text/plain": [
              "4"
            ]
          },
          "metadata": {},
          "execution_count": 22
        }
      ]
    },
    {
      "cell_type": "markdown",
      "source": [
        "calculator 함수의 첫번째 argument가 크면 True 그렇지 않으면 False를 리턴하는 람다 표현식을 argument로 전달."
      ],
      "metadata": {
        "id": "fOVjKoOfchU2"
      }
    },
    {
      "cell_type": "code",
      "source": [
        "calculator(1, 2, lambda x, y: x > y)"
      ],
      "metadata": {
        "colab": {
          "base_uri": "https://localhost:8080/"
        },
        "id": "bk1X1PKlcx7e",
        "outputId": "ba717188-095e-40f2-e24e-ef2f0247dbf0"
      },
      "execution_count": 24,
      "outputs": [
        {
          "output_type": "execute_result",
          "data": {
            "text/plain": [
              "False"
            ]
          },
          "metadata": {},
          "execution_count": 24
        }
      ]
    },
    {
      "cell_type": "markdown",
      "source": [
        "## filter 함수"
      ],
      "metadata": {
        "id": "mO5rJNXrcyS4"
      }
    },
    {
      "cell_type": "code",
      "source": [
        "def my_filter(iterable, fn):\n",
        "    \"\"\"\n",
        "    리스트 iterable의 원소들 중에서 fn의 결과값이 True인 원소들로만 이루어진 리스트를 리턴.\n",
        "\n",
        "    iterable: 리스트.\n",
        "    fn: argument가 1개이고, 리턴 타입은 bool인 함수.\n",
        "    \"\"\"\n",
        "    result = [] # 필터링된 결과를 저장할 빈 리스트\n",
        "    # for x in iterable: # 원본 리스트의 원소들을 처음부터 끝까지 반복하면서\n",
        "    #     if fn(x): # 필터링 조건을 만족하면 \n",
        "    #         result.append(x) # 결과 리스트에 추가\n",
        "    # return result\n",
        "    return [ x for x in iterable if fn(x)]"
      ],
      "metadata": {
        "id": "DJXck3eZeOpr"
      },
      "execution_count": 28,
      "outputs": []
    },
    {
      "cell_type": "code",
      "source": [
        "num_list = [1, -2, 3, -4, -5, -6, 7, 8]"
      ],
      "metadata": {
        "id": "KSvuuBCggzhm"
      },
      "execution_count": 29,
      "outputs": []
    },
    {
      "cell_type": "code",
      "source": [
        "# num_list에서 짝수들만 필터링\n",
        "my_filter(num_list, lambda x: x % 2 == 0)"
      ],
      "metadata": {
        "colab": {
          "base_uri": "https://localhost:8080/"
        },
        "id": "XOJcOkQroINo",
        "outputId": "5a18f956-34ca-4a0f-c92b-14699d9ae517"
      },
      "execution_count": 30,
      "outputs": [
        {
          "output_type": "execute_result",
          "data": {
            "text/plain": [
              "[-2, -4, -6, 8]"
            ]
          },
          "metadata": {},
          "execution_count": 30
        }
      ]
    },
    {
      "cell_type": "code",
      "source": [
        "# num_list에서 음수들만 필터링\n",
        "my_filter(num_list, lambda x: x < 0)"
      ],
      "metadata": {
        "colab": {
          "base_uri": "https://localhost:8080/"
        },
        "id": "vaJ4DYRdpYLX",
        "outputId": "ea69e7cc-4b13-4b0a-fd25-dadf1012db9a"
      },
      "execution_count": 31,
      "outputs": [
        {
          "output_type": "execute_result",
          "data": {
            "text/plain": [
              "[-2, -4, -5, -6]"
            ]
          },
          "metadata": {},
          "execution_count": 31
        }
      ]
    },
    {
      "cell_type": "code",
      "source": [
        "languages = ['Java', 'JavaScript', 'Python']"
      ],
      "metadata": {
        "id": "NioRQEDfps-E"
      },
      "execution_count": 32,
      "outputs": []
    },
    {
      "cell_type": "code",
      "source": [
        "# languages에서 글자수가 5글자 이상인 문자열들만 필터링\n",
        "my_filter(languages, lambda x: len(x) >= 5)"
      ],
      "metadata": {
        "colab": {
          "base_uri": "https://localhost:8080/"
        },
        "id": "gZCCAhTjp2kD",
        "outputId": "c090239f-8319-4073-b81a-e9af8ce89282"
      },
      "execution_count": 33,
      "outputs": [
        {
          "output_type": "execute_result",
          "data": {
            "text/plain": [
              "['JavaScript', 'Python']"
            ]
          },
          "metadata": {},
          "execution_count": 33
        }
      ]
    },
    {
      "cell_type": "markdown",
      "source": [],
      "metadata": {
        "id": "ueYOYvl9oHtS"
      }
    },
    {
      "cell_type": "markdown",
      "source": [
        "## map 함수"
      ],
      "metadata": {
        "id": "yRpJLbejfT1Z"
      }
    },
    {
      "cell_type": "code",
      "source": [
        "def my_mapper(iterable, fn):\n",
        "    \"\"\"\n",
        "    리스트 iterable의 원소들을 함수 fn의 리턴 값으로 변환한 리스트를 리턴.\n",
        "    \n",
        "\n",
        "    iterable: 리스트.\n",
        "    fn: argument가 1개이고 리턴 값이 있는 값.\n",
        "    \"\"\"\n",
        "\n",
        "    return [fn(x) for x in iterable]"
      ],
      "metadata": {
        "id": "zbkmd4VPfWFs"
      },
      "execution_count": 35,
      "outputs": []
    },
    {
      "cell_type": "code",
      "source": [
        "print(num_list)\n",
        "print(languages)"
      ],
      "metadata": {
        "colab": {
          "base_uri": "https://localhost:8080/"
        },
        "id": "nCliWVRxqqqW",
        "outputId": "229d5b36-d0c8-4d5a-f635-1ed6335b1ff2"
      },
      "execution_count": 37,
      "outputs": [
        {
          "output_type": "stream",
          "name": "stdout",
          "text": [
            "[1, -2, 3, -4, -5, -6, 7, 8]\n",
            "['Java', 'JavaScript', 'Python']\n"
          ]
        }
      ]
    },
    {
      "cell_type": "code",
      "source": [
        "# num_list의 원소들을 짝수는 True, 홀수는 False로 매핑\n",
        "my_mapper(num_list, lambda x: x % 2 == 0)"
      ],
      "metadata": {
        "colab": {
          "base_uri": "https://localhost:8080/"
        },
        "id": "9s-Nabm9quZJ",
        "outputId": "165bac5b-7241-4526-aa2e-6f92855960f2"
      },
      "execution_count": 38,
      "outputs": [
        {
          "output_type": "execute_result",
          "data": {
            "text/plain": [
              "[False, True, False, True, False, True, False, True]"
            ]
          },
          "metadata": {},
          "execution_count": 38
        }
      ]
    },
    {
      "cell_type": "code",
      "source": [
        "# num_list의 원소들을 0 이상인 숫자들은 True, 음수들은 False로 매핑\n",
        "my_mapper(num_list, lambda x: x >= 0)"
      ],
      "metadata": {
        "colab": {
          "base_uri": "https://localhost:8080/"
        },
        "id": "xAdn5VITq-7x",
        "outputId": "916fe218-18df-436f-d831-63d969ee98f1"
      },
      "execution_count": 40,
      "outputs": [
        {
          "output_type": "execute_result",
          "data": {
            "text/plain": [
              "[True, False, True, False, False, False, True, True]"
            ]
          },
          "metadata": {},
          "execution_count": 40
        }
      ]
    },
    {
      "cell_type": "code",
      "source": [
        "# languages의 문자열들을 그 문자열의 길이로 매핑\n",
        "my_mapper(languages, lambda x: len(x))"
      ],
      "metadata": {
        "colab": {
          "base_uri": "https://localhost:8080/"
        },
        "id": "CyrYGybsrj8Y",
        "outputId": "c7f69c90-d3dc-4e77-f89e-64906d4635ea"
      },
      "execution_count": 42,
      "outputs": [
        {
          "output_type": "execute_result",
          "data": {
            "text/plain": [
              "[4, 10, 6]"
            ]
          },
          "metadata": {},
          "execution_count": 42
        }
      ]
    },
    {
      "cell_type": "markdown",
      "source": [
        "Python에서 구현된 filter, map"
      ],
      "metadata": {
        "id": "eJLnQJTqrsmW"
      }
    },
    {
      "cell_type": "code",
      "source": [
        "result = filter(lambda x:x > 0, num_list)\n",
        "result # 필터링된 결과를 저장하고 있는 객체. 리스트 타입은 아님."
      ],
      "metadata": {
        "colab": {
          "base_uri": "https://localhost:8080/"
        },
        "id": "d6vHpeX8sxEq",
        "outputId": "6287f2b3-1ea5-41c4-f5f8-1b41220e7cc9"
      },
      "execution_count": 44,
      "outputs": [
        {
          "output_type": "execute_result",
          "data": {
            "text/plain": [
              "<filter at 0x7fd53963b070>"
            ]
          },
          "metadata": {},
          "execution_count": 44
        }
      ]
    },
    {
      "cell_type": "code",
      "source": [
        "list(result) # 필터링된 결과를 list 타입으로 변환."
      ],
      "metadata": {
        "colab": {
          "base_uri": "https://localhost:8080/"
        },
        "id": "xs7zvpq-s1zN",
        "outputId": "3f12d9ad-e134-4848-dc22-5956df72f93d"
      },
      "execution_count": 45,
      "outputs": [
        {
          "output_type": "execute_result",
          "data": {
            "text/plain": [
              "[1, 3, 7, 8]"
            ]
          },
          "metadata": {},
          "execution_count": 45
        }
      ]
    },
    {
      "cell_type": "code",
      "source": [
        "result = map(lambda x: x >= 0, num_list)\n",
        "print(result)\n",
        "list(result)"
      ],
      "metadata": {
        "colab": {
          "base_uri": "https://localhost:8080/"
        },
        "id": "onze8bNGs5C6",
        "outputId": "1ed31ea5-5427-41c8-e8fa-39cae663018f"
      },
      "execution_count": 46,
      "outputs": [
        {
          "output_type": "stream",
          "name": "stdout",
          "text": [
            "<map object at 0x7fd53964f5e0>\n"
          ]
        },
        {
          "output_type": "execute_result",
          "data": {
            "text/plain": [
              "[True, False, True, False, False, False, True, True]"
            ]
          },
          "metadata": {},
          "execution_count": 46
        }
      ]
    }
  ]
}