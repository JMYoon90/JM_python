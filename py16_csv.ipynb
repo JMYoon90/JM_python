{
  "nbformat": 4,
  "nbformat_minor": 0,
  "metadata": {
    "colab": {
      "provenance": [],
      "include_colab_link": true
    },
    "kernelspec": {
      "name": "python3",
      "display_name": "Python 3"
    },
    "language_info": {
      "name": "python"
    }
  },
  "cells": [
    {
      "cell_type": "markdown",
      "metadata": {
        "id": "view-in-github",
        "colab_type": "text"
      },
      "source": [
        "<a href=\"https://colab.research.google.com/github/JMYoon90/JM_python/blob/main/py16_csv.ipynb\" target=\"_parent\"><img src=\"https://colab.research.google.com/assets/colab-badge.svg\" alt=\"Open In Colab\"/></a>"
      ]
    },
    {
      "cell_type": "markdown",
      "source": [
        "* Colab 연결.\n",
        "* Google Drive 마운트(연결).\n",
        "* csv_exam.csv 파일을 Google Drive의 lab_python 폴더에 업로드."
      ],
      "metadata": {
        "id": "Nl6WD5ZHz_ZY"
      }
    },
    {
      "cell_type": "markdown",
      "source": [
        "\n",
        "1. csv_exam.csv 파일을 읽기 모드로 오픈\n",
        "1. 파일의 첫번째 줄은 (컬럼 이름이기 때문에) 읽고 아무 동작 없이 건너뜀.\n",
        "1. 파일의 두번째 줄부터 마지막 줄까지 반복:\n",
        "    * 각 줄에서 읽은 내용을 쉼표(,)로 구분한 리스트들을 저장하는 리스트를 만듦.\n",
        "    ```\n",
        "    [['1', '1', '50', '98' , '50'], ['2', '1', '60', '97', '60'], ...]\n",
        "    ```\n",
        "1. 2차원 리스트의 모든 값들을 숫자로 변환.\n",
        "    ```\n",
        "    [[1, 1, 50, 98 , 50], [2, 1, 60, 97, 60], ...]\n",
        "    ```\n",
        "1. 2차원 리스트에서 수학 점수들로만 이루어진 1차원 리스트를 만듦.\n",
        "    ```\n",
        "    [50, 60, 45, ...]\n",
        "    ```\n",
        "1. 수학 점수의 평균, 최댓값, 최솟값을 찾음.\n",
        "1. 1반 학생들의 수학 점수의 총점, 평균, 최댓값, 최솟값 찾음.\n"
      ],
      "metadata": {
        "id": "Gh8x_ktHzsog"
      }
    },
    {
      "cell_type": "code",
      "source": [
        "from google.colab import drive\n",
        "drive.mount('/content/drive')"
      ],
      "metadata": {
        "colab": {
          "base_uri": "https://localhost:8080/"
        },
        "id": "FiOpEZtL_Lm6",
        "outputId": "4ab6cf0e-fa7e-4cf4-9553-2aa90663ba66"
      },
      "execution_count": 1,
      "outputs": [
        {
          "output_type": "stream",
          "name": "stdout",
          "text": [
            "Mounted at /content/drive\n"
          ]
        }
      ]
    },
    {
      "cell_type": "code",
      "source": [
        "dir_path = '/content/drive/MyDrive/Colab Notebooks/labPython'\n",
        "file_name = 'csv_exam.csv'"
      ],
      "metadata": {
        "id": "TbtXPeUBC6yB"
      },
      "execution_count": 2,
      "outputs": []
    },
    {
      "cell_type": "code",
      "source": [
        "import os\n",
        "import math"
      ],
      "metadata": {
        "id": "75luntu7DJXs"
      },
      "execution_count": 3,
      "outputs": []
    },
    {
      "cell_type": "code",
      "source": [
        "file_path = os.path.join(dir_path, file_name)\n",
        "file_path"
      ],
      "metadata": {
        "colab": {
          "base_uri": "https://localhost:8080/",
          "height": 35
        },
        "id": "zAQzB7TpDK_h",
        "outputId": "add390cb-2962-4ced-e843-402e80752b8d"
      },
      "execution_count": 4,
      "outputs": [
        {
          "output_type": "execute_result",
          "data": {
            "text/plain": [
              "'/content/drive/MyDrive/Colab Notebooks/labPython/csv_exam.csv'"
            ],
            "application/vnd.google.colaboratory.intrinsic+json": {
              "type": "string"
            }
          },
          "metadata": {},
          "execution_count": 4
        }
      ]
    },
    {
      "cell_type": "code",
      "execution_count": 13,
      "metadata": {
        "id": "YVUAdlq3znkk",
        "colab": {
          "base_uri": "https://localhost:8080/"
        },
        "outputId": "16598729-18bf-4c81-f654-9e0678061a64"
      },
      "outputs": [
        {
          "output_type": "stream",
          "name": "stdout",
          "text": [
            "csv_list = [[1, 1, 50, 98, 50], [2, 1, 60, 97, 60], [3, 1, 45, 86, 78], [4, 1, 30, 98, 58], [5, 2, 25, 80, 65], [6, 2, 50, 89, 98], [7, 2, 80, 90, 45], [8, 2, 90, 78, 25], [9, 3, 20, 98, 15], [10, 3, 50, 98, 45], [11, 3, 65, 65, 65], [12, 3, 45, 85, 32], [13, 4, 46, 98, 65], [14, 4, 48, 87, 12], [15, 4, 75, 56, 78], [16, 4, 58, 98, 65], [17, 5, 65, 68, 98], [18, 5, 80, 78, 90], [19, 5, 89, 68, 87], [20, 5, 78, 83, 58]]\n"
          ]
        }
      ],
      "source": [
        "with open(file_path, mode='rt') as f:\n",
        "    lines = f.readlines()\n",
        "    csv_list = []\n",
        "    for line in lines[1:]:\n",
        "        a = line.strip().split(',')\n",
        "        csv_list.append([int (i) for i in a])\n",
        "    print(f'csv_list = {csv_list}')"
      ]
    },
    {
      "cell_type": "code",
      "source": [
        "# math_score = [i[2] for i in csv_list]\n",
        "# math_score_1class = [x[2] for x in csv_list if x[1] == 1]\n",
        "# print(f'math_score = {math_score}')\n",
        "# print(f'math_score_1class = {math_score_1class}')\n",
        "\n",
        "# math_sum = 0\n",
        "# math_mean = 0\n",
        "# math_max = math_score[0]\n",
        "# math_min = math_score[0]\n",
        "\n",
        "# for m in math_score:\n",
        "#     math_sum += m\n",
        "#     if m > math_max:\n",
        "#         math_max = m\n",
        "#     if m < math_min:\n",
        "#         math_min = m\n",
        "# math_mean = math_sum / len(math_score)\n",
        "\n",
        "# print(f'수학점수 합계={math_sum}, 평균={math_mean}, 최고점={math_max}, 최저점={math_min}')\n",
        "\n",
        "# math_sum_1class = 0\n",
        "# math_mean_1class = 0\n",
        "# math_max_1class = math_score_1class[0]\n",
        "# math_min_1class = math_score_1class[0]\n",
        "\n",
        "# for m in math_score_1class:\n",
        "#     math_sum_1class += m\n",
        "#     if m > math_max_1class:\n",
        "#         math_max_1class = m\n",
        "#     if m < math_min_1class:\n",
        "#         math_min_1class = m\n",
        "# math_mean = math_sum / len(math_score)\n",
        "\n",
        "# print(f'1반 수학점수 합계={math_sum_1class}, 평균={math_mean_1class}, 최고점={math_max_1class}, 최저점={math_min_1class}')   "
      ],
      "metadata": {
        "id": "gwDTklvanRvo"
      },
      "execution_count": 14,
      "outputs": []
    },
    {
      "cell_type": "code",
      "source": [
        "# math = [] # 수학 점수들만 저장할 (1차원) 리스트\n",
        "# for row in csv_list: # 2차원 리스트에서  1차원 리스트를 순서대로 반복하면서\n",
        "#     math.append(row[2]) # 수학점수(1차원  리스트의 인덱스 2번 원소)를 리스트에 추가.\n",
        "\n",
        "math = [row[2] for row in csv_list]\n",
        "print(math)"
      ],
      "metadata": {
        "colab": {
          "base_uri": "https://localhost:8080/"
        },
        "id": "lptXG7mcs_2D",
        "outputId": "0ee1a2f0-61f8-4b49-fde8-f07cf599e901"
      },
      "execution_count": 15,
      "outputs": [
        {
          "output_type": "stream",
          "name": "stdout",
          "text": [
            "[50, 60, 45, 30, 25, 50, 80, 90, 20, 50, 65, 45, 46, 48, 75, 58, 65, 80, 89, 78]\n"
          ]
        }
      ]
    },
    {
      "cell_type": "code",
      "source": [
        "sum(math) / len(math)"
      ],
      "metadata": {
        "colab": {
          "base_uri": "https://localhost:8080/"
        },
        "id": "Vy3F2DjDtb3E",
        "outputId": "82494994-c502-4c20-fbb7-640b433d1a99"
      },
      "execution_count": 17,
      "outputs": [
        {
          "output_type": "execute_result",
          "data": {
            "text/plain": [
              "57.45"
            ]
          },
          "metadata": {},
          "execution_count": 17
        }
      ]
    },
    {
      "cell_type": "code",
      "source": [
        "max(math)"
      ],
      "metadata": {
        "colab": {
          "base_uri": "https://localhost:8080/"
        },
        "id": "XMUMu-USt2l1",
        "outputId": "51fd420b-c791-461c-dc69-1201f2ef7b5e"
      },
      "execution_count": 18,
      "outputs": [
        {
          "output_type": "execute_result",
          "data": {
            "text/plain": [
              "90"
            ]
          },
          "metadata": {},
          "execution_count": 18
        }
      ]
    },
    {
      "cell_type": "code",
      "source": [
        "min(math)"
      ],
      "metadata": {
        "colab": {
          "base_uri": "https://localhost:8080/"
        },
        "id": "c0NpeGtrt3rB",
        "outputId": "f05a806e-d39e-4422-a515-e10913b0791e"
      },
      "execution_count": 19,
      "outputs": [
        {
          "output_type": "execute_result",
          "data": {
            "text/plain": [
              "20"
            ]
          },
          "metadata": {},
          "execution_count": 19
        }
      ]
    },
    {
      "cell_type": "code",
      "source": [
        "math_class1 = math[:4]\n",
        "math_class1"
      ],
      "metadata": {
        "colab": {
          "base_uri": "https://localhost:8080/"
        },
        "id": "OmDO5nIgt4c9",
        "outputId": "4b6ad498-2bb7-4d08-e3e2-36cdfc93c29c"
      },
      "execution_count": 22,
      "outputs": [
        {
          "output_type": "execute_result",
          "data": {
            "text/plain": [
              "[50, 60, 45, 30]"
            ]
          },
          "metadata": {},
          "execution_count": 22
        }
      ]
    },
    {
      "cell_type": "code",
      "source": [
        "# math_class1 = []\n",
        "# for row in csv_list:\n",
        "#     if row[1] == 1:\n",
        "#         math_class1.append(row[2])\n",
        "\n",
        "math_class1 = [row[2] for row in csv_list if row[1] == 1]"
      ],
      "metadata": {
        "id": "km6toGVFvSyx"
      },
      "execution_count": 24,
      "outputs": []
    },
    {
      "cell_type": "code",
      "source": [
        "sum(math_class1) / len(math_class1)"
      ],
      "metadata": {
        "colab": {
          "base_uri": "https://localhost:8080/"
        },
        "id": "VuBNNTOdwO9_",
        "outputId": "721b6c8d-4d5e-43e3-e841-092027cbf8c6"
      },
      "execution_count": 26,
      "outputs": [
        {
          "output_type": "execute_result",
          "data": {
            "text/plain": [
              "46.25"
            ]
          },
          "metadata": {},
          "execution_count": 26
        }
      ]
    },
    {
      "cell_type": "code",
      "source": [
        "max(math_class1)"
      ],
      "metadata": {
        "colab": {
          "base_uri": "https://localhost:8080/"
        },
        "id": "d7A82psowTy0",
        "outputId": "7ff9831d-c36d-4b14-cb7b-4b3f206ad79a"
      },
      "execution_count": 27,
      "outputs": [
        {
          "output_type": "execute_result",
          "data": {
            "text/plain": [
              "60"
            ]
          },
          "metadata": {},
          "execution_count": 27
        }
      ]
    },
    {
      "cell_type": "code",
      "source": [
        "min(math_class1)"
      ],
      "metadata": {
        "colab": {
          "base_uri": "https://localhost:8080/"
        },
        "id": "xXUjdAgswWRY",
        "outputId": "e846bfd6-c858-4915-8e5a-065a58a3e41a"
      },
      "execution_count": 28,
      "outputs": [
        {
          "output_type": "execute_result",
          "data": {
            "text/plain": [
              "30"
            ]
          },
          "metadata": {},
          "execution_count": 28
        }
      ]
    }
  ]
}