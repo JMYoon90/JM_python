{
  "nbformat": 4,
  "nbformat_minor": 0,
  "metadata": {
    "colab": {
      "provenance": [],
      "authorship_tag": "ABX9TyMp2oPJe0tw4Y24VPPOaxyH",
      "include_colab_link": true
    },
    "kernelspec": {
      "name": "python3",
      "display_name": "Python 3"
    },
    "language_info": {
      "name": "python"
    }
  },
  "cells": [
    {
      "cell_type": "markdown",
      "metadata": {
        "id": "view-in-github",
        "colab_type": "text"
      },
      "source": [
        "<a href=\"https://colab.research.google.com/github/JMYoon90/JM_python/blob/main/py06_tuple.ipynb\" target=\"_parent\"><img src=\"https://colab.research.google.com/assets/colab-badge.svg\" alt=\"Open In Colab\"/></a>"
      ]
    },
    {
      "cell_type": "markdown",
      "source": [
        "# tuple(튜플)\n",
        "\n",
        "* 저장된 원소들을 변경할 수 없는 리스트\n",
        "* indexing, slicing\n",
        "* append(), remove() 와 같은 원소를 변경하는 메서드는 제공되지 않음."
      ],
      "metadata": {
        "id": "Z8b1gTyxH_-F"
      }
    },
    {
      "cell_type": "code",
      "source": [
        "numbers = (1, 2, 3, 10, 20, 30)\n",
        "numbers"
      ],
      "metadata": {
        "colab": {
          "base_uri": "https://localhost:8080/"
        },
        "id": "EU2qgMqvI0d1",
        "outputId": "9f44034d-7318-4f04-cc7e-9393703f81fa"
      },
      "execution_count": 2,
      "outputs": [
        {
          "output_type": "execute_result",
          "data": {
            "text/plain": [
              "(1, 2, 3, 10, 20, 30)"
            ]
          },
          "metadata": {},
          "execution_count": 2
        }
      ]
    },
    {
      "cell_type": "code",
      "source": [
        "type(numbers)"
      ],
      "metadata": {
        "colab": {
          "base_uri": "https://localhost:8080/"
        },
        "id": "_hoeM_uZJYUY",
        "outputId": "84122287-12e6-4184-8e7c-f6a73eacee21"
      },
      "execution_count": 4,
      "outputs": [
        {
          "output_type": "execute_result",
          "data": {
            "text/plain": [
              "tuple"
            ]
          },
          "metadata": {},
          "execution_count": 4
        }
      ]
    },
    {
      "cell_type": "markdown",
      "source": [
        "# indexing\n",
        "\n",
        "인덱스를 사용해서 원소 1개를 참조하는 방법"
      ],
      "metadata": {
        "id": "Up8welnFJaW6"
      }
    },
    {
      "cell_type": "code",
      "source": [
        "numbers[0] # 튜플에 첫번쨰 원소"
      ],
      "metadata": {
        "colab": {
          "base_uri": "https://localhost:8080/"
        },
        "id": "N-9KMcwZJgtv",
        "outputId": "5ae9f133-da2f-4b92-f59d-a3489ae9f29a"
      },
      "execution_count": 5,
      "outputs": [
        {
          "output_type": "execute_result",
          "data": {
            "text/plain": [
              "1"
            ]
          },
          "metadata": {},
          "execution_count": 5
        }
      ]
    },
    {
      "cell_type": "code",
      "source": [
        "numbers[-1]# 튜플의 마지막 원소"
      ],
      "metadata": {
        "colab": {
          "base_uri": "https://localhost:8080/"
        },
        "id": "koiWpQS1JlOo",
        "outputId": "e1f053ca-b18f-4315-8296-94f99eb1282e"
      },
      "execution_count": 6,
      "outputs": [
        {
          "output_type": "execute_result",
          "data": {
            "text/plain": [
              "30"
            ]
          },
          "metadata": {},
          "execution_count": 6
        }
      ]
    },
    {
      "cell_type": "markdown",
      "source": [
        "# slicing"
      ],
      "metadata": {
        "id": "FV9KnrisJwnv"
      }
    },
    {
      "cell_type": "code",
      "source": [
        "# 튜플에서 첫 2개가 원소를 잘라내기\n",
        "numbers[:2]"
      ],
      "metadata": {
        "colab": {
          "base_uri": "https://localhost:8080/"
        },
        "id": "Trw_s5euKnHa",
        "outputId": "5c82b182-d194-46d6-b773-2320eb98b8f6"
      },
      "execution_count": 8,
      "outputs": [
        {
          "output_type": "execute_result",
          "data": {
            "text/plain": [
              "(1, 2)"
            ]
          },
          "metadata": {},
          "execution_count": 8
        }
      ]
    },
    {
      "cell_type": "code",
      "source": [
        "# 튜플에서 마지막 2개 원소를 잘라내기\n",
        "numbers[-2:]"
      ],
      "metadata": {
        "colab": {
          "base_uri": "https://localhost:8080/"
        },
        "id": "uHFZRi-nKtvb",
        "outputId": "a880cdea-e987-4d75-ca6e-0fca6731ec24"
      },
      "execution_count": 9,
      "outputs": [
        {
          "output_type": "execute_result",
          "data": {
            "text/plain": [
              "(20, 30)"
            ]
          },
          "metadata": {},
          "execution_count": 9
        }
      ]
    },
    {
      "cell_type": "markdown",
      "source": [
        "# decomposition(분해)"
      ],
      "metadata": {
        "id": "GGz2ZFGGKzIp"
      }
    },
    {
      "cell_type": "code",
      "source": [
        "x, y, z = (1, 2, 3)\n",
        "print(f'x = {x}')\n",
        "print(f'y = {y}')\n",
        "print(f'z = {z}')"
      ],
      "metadata": {
        "colab": {
          "base_uri": "https://localhost:8080/"
        },
        "id": "t1U7Ta9jK86W",
        "outputId": "7336d013-1fd6-43a6-e377-e285c9569a0b"
      },
      "execution_count": 11,
      "outputs": [
        {
          "output_type": "stream",
          "name": "stdout",
          "text": [
            "x = 1\n",
            "y = 2\n",
            "z = 3\n"
          ]
        }
      ]
    },
    {
      "cell_type": "markdown",
      "source": [
        "# tuple과 for 반복문"
      ],
      "metadata": {
        "id": "qF3iDD-QQR-K"
      }
    },
    {
      "cell_type": "code",
      "source": [
        "numbers = (1,3,5,7,9)\n",
        "for x in numbers:\n",
        "    print(x, end=',')"
      ],
      "metadata": {
        "colab": {
          "base_uri": "https://localhost:8080/"
        },
        "id": "vMInLKgCQVcR",
        "outputId": "11a4c131-8184-467a-8692-603b209617b5"
      },
      "execution_count": 13,
      "outputs": [
        {
          "output_type": "stream",
          "name": "stdout",
          "text": [
            "1,3,5,7,9,"
          ]
        }
      ]
    },
    {
      "cell_type": "code",
      "source": [
        "for i in range(len(numbers)):\n",
        "    print(numbers[i], end=',')"
      ],
      "metadata": {
        "colab": {
          "base_uri": "https://localhost:8080/"
        },
        "id": "pOjSknslQ1zK",
        "outputId": "d610c4bb-4089-4ba9-8403-63c9bf0d1c35"
      },
      "execution_count": 15,
      "outputs": [
        {
          "output_type": "stream",
          "name": "stdout",
          "text": [
            "1,3,5,7,9,"
          ]
        }
      ]
    },
    {
      "cell_type": "markdown",
      "source": [
        "# 2차원 리스트, 튜플"
      ],
      "metadata": {
        "id": "0YpbSq3nRHyf"
      }
    },
    {
      "cell_type": "code",
      "source": [
        "numbers = [\n",
        "    [1, 2, 3],\n",
        "    [4, 5, 6]\n",
        "]\n",
        "numbers"
      ],
      "metadata": {
        "colab": {
          "base_uri": "https://localhost:8080/"
        },
        "id": "CdTfKKyIRL6r",
        "outputId": "329f0c4c-3013-4414-b450-aff9ef4bae28"
      },
      "execution_count": 18,
      "outputs": [
        {
          "output_type": "execute_result",
          "data": {
            "text/plain": [
              "[[1, 2, 3], [4, 5, 6]]"
            ]
          },
          "metadata": {},
          "execution_count": 18
        }
      ]
    },
    {
      "cell_type": "code",
      "source": [
        "len(numbers)"
      ],
      "metadata": {
        "colab": {
          "base_uri": "https://localhost:8080/"
        },
        "id": "0WbV_GsUSQVk",
        "outputId": "d4ec14a8-38c5-44b9-d88d-b1474987961e"
      },
      "execution_count": 19,
      "outputs": [
        {
          "output_type": "execute_result",
          "data": {
            "text/plain": [
              "2"
            ]
          },
          "metadata": {},
          "execution_count": 19
        }
      ]
    },
    {
      "cell_type": "code",
      "source": [
        "numbers[0]"
      ],
      "metadata": {
        "colab": {
          "base_uri": "https://localhost:8080/"
        },
        "id": "feosLkD8SRaH",
        "outputId": "ef3997ed-3f7b-4165-f83b-da8402e1af17"
      },
      "execution_count": 20,
      "outputs": [
        {
          "output_type": "execute_result",
          "data": {
            "text/plain": [
              "[1, 2, 3]"
            ]
          },
          "metadata": {},
          "execution_count": 20
        }
      ]
    },
    {
      "cell_type": "code",
      "source": [
        "numbers[0][0]"
      ],
      "metadata": {
        "colab": {
          "base_uri": "https://localhost:8080/"
        },
        "id": "Brmdsc-1STom",
        "outputId": "659b390e-4c20-452e-b65b-fa2a9124781d"
      },
      "execution_count": 21,
      "outputs": [
        {
          "output_type": "execute_result",
          "data": {
            "text/plain": [
              "1"
            ]
          },
          "metadata": {},
          "execution_count": 21
        }
      ]
    },
    {
      "cell_type": "code",
      "source": [
        "numbers[1][1]"
      ],
      "metadata": {
        "colab": {
          "base_uri": "https://localhost:8080/"
        },
        "id": "auzsQtpPSl80",
        "outputId": "e19dbf21-f88b-40e9-be12-f52df4515fa8"
      },
      "execution_count": 23,
      "outputs": [
        {
          "output_type": "execute_result",
          "data": {
            "text/plain": [
              "5"
            ]
          },
          "metadata": {},
          "execution_count": 23
        }
      ]
    },
    {
      "cell_type": "code",
      "source": [
        "for row in numbers:\n",
        "    for x in row:\n",
        "        print(x, end=' ')\n",
        "    print()"
      ],
      "metadata": {
        "colab": {
          "base_uri": "https://localhost:8080/"
        },
        "id": "CWuekcwAS_ob",
        "outputId": "a64185f3-659e-4d6e-cd8b-c65c15ec09d7"
      },
      "execution_count": 27,
      "outputs": [
        {
          "output_type": "stream",
          "name": "stdout",
          "text": [
            "1 2 3 \n",
            "4 5 6 \n"
          ]
        }
      ]
    },
    {
      "cell_type": "markdown",
      "source": [
        "## Exercise\n",
        "\n",
        "1. 2x2 모양의 난수를 저장하는 2차원 리스트 array1을 만듦.\n",
        "2. 2x2 모양의 난수를 저장하는 2차원 리스트 array2을 만듦.\n",
        "3. array1과 array2의 같은 인덱스의 원소들끼리 덧셈 결과를 갖는 2차원 리스트를 만듦."
      ],
      "metadata": {
        "id": "0XaxkXHXTCdH"
      }
    },
    {
      "cell_type": "code",
      "source": [
        "import random"
      ],
      "metadata": {
        "id": "jEY82_1xUy_Z"
      },
      "execution_count": 29,
      "outputs": []
    },
    {
      "cell_type": "code",
      "source": [
        "array1 = [] # 1차원 리스트들을 저장할 빈 리스트\n",
        "for _ in range(2):\n",
        "    row = [] # 난수들을 저장할 빈 리스트\n",
        "    for _ in range(2):\n",
        "        row.append(random.randrange(0, 10))\n",
        "    array1.append(row)\n",
        "print(array1)"
      ],
      "metadata": {
        "colab": {
          "base_uri": "https://localhost:8080/"
        },
        "id": "pigYYa_zUB0C",
        "outputId": "425ead8b-610c-4929-e8f9-bab33de3210a"
      },
      "execution_count": 39,
      "outputs": [
        {
          "output_type": "stream",
          "name": "stdout",
          "text": [
            "[[0, 2], [1, 6]]\n"
          ]
        }
      ]
    },
    {
      "cell_type": "code",
      "source": [
        "array2 = []\n",
        "for _ in range(2):\n",
        "    array2.append([random.randrange(10) for _ in range(2)])\n",
        "array2"
      ],
      "metadata": {
        "colab": {
          "base_uri": "https://localhost:8080/"
        },
        "id": "IPsqn812U4xC",
        "outputId": "fd383489-abe6-422e-d1d7-9f4bb760a951"
      },
      "execution_count": 47,
      "outputs": [
        {
          "output_type": "execute_result",
          "data": {
            "text/plain": [
              "[[9, 9], [9, 0]]"
            ]
          },
          "metadata": {},
          "execution_count": 47
        }
      ]
    },
    {
      "cell_type": "code",
      "source": [
        "array3 = [[random.randrange(10) for _ in range(2)] for _ in range(2)]\n",
        "array3"
      ],
      "metadata": {
        "colab": {
          "base_uri": "https://localhost:8080/"
        },
        "id": "GNwY0GcIdE7r",
        "outputId": "51509718-0f48-451a-8c0b-cb40efebfb3e"
      },
      "execution_count": 45,
      "outputs": [
        {
          "output_type": "execute_result",
          "data": {
            "text/plain": [
              "[[3, 9], [9, 8]]"
            ]
          },
          "metadata": {},
          "execution_count": 45
        }
      ]
    },
    {
      "cell_type": "code",
      "source": [
        "adds = [[x + y for x, y in zip(row1, row2)]\n",
        "        for row1, row2 in zip(array1, array2)]\n",
        "adds"
      ],
      "metadata": {
        "colab": {
          "base_uri": "https://localhost:8080/"
        },
        "id": "oAGHk3VPdxZN",
        "outputId": "1a644fba-4ba4-45cc-ff9c-89542b8207fb"
      },
      "execution_count": 48,
      "outputs": [
        {
          "output_type": "execute_result",
          "data": {
            "text/plain": [
              "[[9, 11], [10, 6]]"
            ]
          },
          "metadata": {},
          "execution_count": 48
        }
      ]
    }
  ]
}