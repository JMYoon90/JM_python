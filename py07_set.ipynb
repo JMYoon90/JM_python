{
  "nbformat": 4,
  "nbformat_minor": 0,
  "metadata": {
    "colab": {
      "provenance": [],
      "authorship_tag": "ABX9TyMCYkAmEjNdqiwirww3B3lP",
      "include_colab_link": true
    },
    "kernelspec": {
      "name": "python3",
      "display_name": "Python 3"
    },
    "language_info": {
      "name": "python"
    }
  },
  "cells": [
    {
      "cell_type": "markdown",
      "metadata": {
        "id": "view-in-github",
        "colab_type": "text"
      },
      "source": [
        "<a href=\"https://colab.research.google.com/github/JMYoon90/JM_python/blob/main/py07_set.ipynb\" target=\"_parent\"><img src=\"https://colab.research.google.com/assets/colab-badge.svg\" alt=\"Open In Colab\"/></a>"
      ]
    },
    {
      "cell_type": "markdown",
      "source": [
        "# set(집합)\n",
        "\n",
        "* 중복된 데이터를 허용하지 않음: `{1, 2, 2, 3, 3, 3} = {1, 2, 3}`\n",
        "* 데이터 저장 순서가 없음: `{1, 2, 3} = {3, 1, 2}`\n",
        "    * 인덱스가 없음 -> indexing, slicing 기능을 제공하지 않음.\n",
        "    "
      ],
      "metadata": {
        "id": "0FU4MiXsesql"
      }
    },
    {
      "cell_type": "code",
      "source": [
        "s = {1, 2, 2, 3, 3, 3}\n",
        "s"
      ],
      "metadata": {
        "colab": {
          "base_uri": "https://localhost:8080/"
        },
        "id": "WhdFhcHTfio3",
        "outputId": "b47eeb08-14b7-49cf-c118-ae42f2d9f66e"
      },
      "execution_count": null,
      "outputs": [
        {
          "output_type": "execute_result",
          "data": {
            "text/plain": [
              "{1, 2, 3}"
            ]
          },
          "metadata": {},
          "execution_count": 1
        }
      ]
    },
    {
      "cell_type": "markdown",
      "source": [
        "set 객체는 list, tuple 객체와 같은 방법으로 for 반복문으로 사용할 수 있음."
      ],
      "metadata": {
        "id": "LkARGUyufmIS"
      }
    },
    {
      "cell_type": "code",
      "source": [
        "for x in s:\n",
        "    print(x, end=', ')"
      ],
      "metadata": {
        "colab": {
          "base_uri": "https://localhost:8080/"
        },
        "id": "FEKJSbfCgOIe",
        "outputId": "8d451849-7461-4f15-fc62-3a6e8aa93e43"
      },
      "execution_count": null,
      "outputs": [
        {
          "output_type": "stream",
          "name": "stdout",
          "text": [
            "1, 2, 3, "
          ]
        }
      ]
    },
    {
      "cell_type": "code",
      "source": [
        "# set의 기능(메서드)"
      ],
      "metadata": {
        "id": "Y051KJY7gZHf"
      },
      "execution_count": null,
      "outputs": []
    },
    {
      "cell_type": "code",
      "source": [
        "s.add(10)\n",
        "s"
      ],
      "metadata": {
        "colab": {
          "base_uri": "https://localhost:8080/"
        },
        "id": "-xoeIyxKgbf-",
        "outputId": "9effdf82-9f73-4493-af49-4917df8a398f"
      },
      "execution_count": null,
      "outputs": [
        {
          "output_type": "execute_result",
          "data": {
            "text/plain": [
              "{1, 2, 3, 10}"
            ]
          },
          "metadata": {},
          "execution_count": 6
        }
      ]
    },
    {
      "cell_type": "code",
      "source": [
        "s.remove(3) # set에서 원소 삭제"
      ],
      "metadata": {
        "id": "hghcHjJIgzKQ"
      },
      "execution_count": null,
      "outputs": []
    },
    {
      "cell_type": "code",
      "source": [
        "print(s)"
      ],
      "metadata": {
        "colab": {
          "base_uri": "https://localhost:8080/"
        },
        "id": "isVADm9Tg2XT",
        "outputId": "29d88c19-cfa5-4e36-ec5c-37e1ce7805d1"
      },
      "execution_count": null,
      "outputs": [
        {
          "output_type": "stream",
          "name": "stdout",
          "text": [
            "{10, 1, 2}\n"
          ]
        }
      ]
    },
    {
      "cell_type": "code",
      "source": [
        "s1 = {1, 2, 3, 4}\n",
        "s2 = {2, 3, 5, 6}\n",
        "\n",
        "print(s1.union(s2)) # 합집합\n",
        "print(s1.intersection(s2)) # 교집합\n",
        "print(s1.difference(s2)) # 차집합"
      ],
      "metadata": {
        "colab": {
          "base_uri": "https://localhost:8080/"
        },
        "id": "oK0CvtLrg8JC",
        "outputId": "b501cfd9-da5a-48b3-a043-a585113f77da"
      },
      "execution_count": null,
      "outputs": [
        {
          "output_type": "stream",
          "name": "stdout",
          "text": [
            "{1, 2, 3, 4, 5, 6}\n",
            "{2, 3}\n",
            "{1, 4}\n"
          ]
        }
      ]
    },
    {
      "cell_type": "code",
      "source": [
        "print(s1 | s2) # 합집합 연산자\n",
        "print(s1 & s2) # 교집합 연산자\n",
        "print(s1 - s2) # 차집합 연산자"
      ],
      "metadata": {
        "colab": {
          "base_uri": "https://localhost:8080/"
        },
        "id": "CUbBwPF4iMKi",
        "outputId": "6c04ab4d-599a-483a-e559-333e36e86234"
      },
      "execution_count": null,
      "outputs": [
        {
          "output_type": "stream",
          "name": "stdout",
          "text": [
            "{1, 2, 3, 4, 5, 6}\n",
            "{2, 3}\n",
            "{1, 4}\n"
          ]
        }
      ]
    }
  ]
}