{
  "nbformat": 4,
  "nbformat_minor": 0,
  "metadata": {
    "colab": {
      "provenance": [],
      "authorship_tag": "ABX9TyOEHVh8xF6T63TiQYAaupHj",
      "include_colab_link": true
    },
    "kernelspec": {
      "name": "python3",
      "display_name": "Python 3"
    },
    "language_info": {
      "name": "python"
    }
  },
  "cells": [
    {
      "cell_type": "markdown",
      "metadata": {
        "id": "view-in-github",
        "colab_type": "text"
      },
      "source": [
        "<a href=\"https://colab.research.google.com/github/JMYoon90/JM_python/blob/main/py11_oop.ipynb\" target=\"_parent\"><img src=\"https://colab.research.google.com/assets/colab-badge.svg\" alt=\"Open In Colab\"/></a>"
      ]
    },
    {
      "cell_type": "markdown",
      "source": [
        "# OOP(Object-Oriented Programming, 객체지향 프로그래밍)"
      ],
      "metadata": {
        "id": "YhbdIBpUCsTJ"
      }
    },
    {
      "cell_type": "markdown",
      "source": [
        "## list, dict 데이터 타입 사용 프로그래밍\n"
      ],
      "metadata": {
        "id": "mR7vh4--D0PP"
      }
    },
    {
      "cell_type": "code",
      "source": [
        "students = [\n",
        "    {'name': 'aaa', 'java': 100, 'python': 90, 'javascript': 70},\n",
        "    {'name': 'bbb', 'java': 90, 'python': 80, 'javascript': 90},\n",
        "    {'name': 'ccc', 'java': 50, 'python': 100, 'javascript': 99}\n",
        "]"
      ],
      "metadata": {
        "id": "pb7HKniUD4xQ"
      },
      "execution_count": 1,
      "outputs": []
    },
    {
      "cell_type": "code",
      "source": [
        "# 각 학생의 3과 총점과 평균 출력\n",
        "for s in students:\n",
        "    total = s['java'] + s['javascript'] + s['python']\n",
        "    mean = total / 3\n",
        "    print(f'이름: {s[\"name\"]}, 총점: {total}, 평균: {mean}')"
      ],
      "metadata": {
        "colab": {
          "base_uri": "https://localhost:8080/"
        },
        "id": "9QYWQ08NEWy8",
        "outputId": "ddd3de49-467d-42ee-b22c-89ecfb95a4bb"
      },
      "execution_count": 3,
      "outputs": [
        {
          "output_type": "stream",
          "name": "stdout",
          "text": [
            "이름: aaa, 총점: 260, 평균: 86.66666666666667\n",
            "이름: bbb, 총점: 260, 평균: 86.66666666666667\n",
            "이름: ccc, 총점: 249, 평균: 83.0\n"
          ]
        }
      ]
    },
    {
      "cell_type": "markdown",
      "source": [
        "## 함수형 프로그래밍(Functional programming)\n"
      ],
      "metadata": {
        "id": "_AF0gLBEGmZx"
      }
    },
    {
      "cell_type": "code",
      "source": [
        "def create_student(name, java, python, javascript):\n",
        "    student = {\n",
        "        'name': name,\n",
        "        'java': java,\n",
        "        'python': python,\n",
        "        'javascript': javascript\n",
        "    }\n",
        "    return student"
      ],
      "metadata": {
        "id": "8UQJpV9tGsKM"
      },
      "execution_count": 4,
      "outputs": []
    },
    {
      "cell_type": "code",
      "source": [
        "students = [\n",
        "    create_student('김길동', 100, 90, 80),\n",
        "    create_student('이길동', 50, 60, 70),\n",
        "    create_student('박길동', 100, 100, 99)\n",
        "]"
      ],
      "metadata": {
        "id": "lIx3K3qfHsLy"
      },
      "execution_count": 5,
      "outputs": []
    },
    {
      "cell_type": "code",
      "source": [
        "def get_total(student):\n",
        "    return student['java'] + student['python'] + student['javascript']"
      ],
      "metadata": {
        "id": "9Gf51-8SH9aP"
      },
      "execution_count": 6,
      "outputs": []
    },
    {
      "cell_type": "code",
      "source": [
        "def get_mean(student):\n",
        "    return get_total(student) / 3"
      ],
      "metadata": {
        "id": "Prkxdn7KIOu3"
      },
      "execution_count": 7,
      "outputs": []
    },
    {
      "cell_type": "code",
      "source": [
        "for s in students:\n",
        "    name = s['name']\n",
        "    total = get_total(s)\n",
        "    mean = get_mean(s)\n",
        "    print(f'이름: {name}, 총점: {total}, 평균: {mean}')"
      ],
      "metadata": {
        "colab": {
          "base_uri": "https://localhost:8080/"
        },
        "id": "YunmMVunIVr2",
        "outputId": "f2c005f5-894e-48c2-e0f1-1471946f26b1"
      },
      "execution_count": 9,
      "outputs": [
        {
          "output_type": "stream",
          "name": "stdout",
          "text": [
            "이름: 김길동, 총점: 270, 평균: 90.0\n",
            "이름: 이길동, 총점: 180, 평균: 60.0\n",
            "이름: 박길동, 총점: 299, 평균: 99.66666666666667\n"
          ]
        }
      ]
    },
    {
      "cell_type": "markdown",
      "source": [
        "## 객체 지향 프로그래밍(OOP)"
      ],
      "metadata": {
        "id": "gs0YWasXJkv4"
      }
    },
    {
      "cell_type": "code",
      "source": [
        "class Student:\n",
        "    # 생성자 함수: 생성자를 호출하면 파이썬 인터프리터에 의해서 자동으로 호출되는 메서드.\n",
        "    def __init__(self, name, java, python, javascript):\n",
        "        self.name = name\n",
        "        self.java = java\n",
        "        self.python = python\n",
        "        self.javascript = javascript\n",
        "\n",
        "    def get_total(self):\n",
        "        return self.java + self.python + self.javascript\n",
        "\n",
        "    def get_mean(self):\n",
        "        return self.get_total() / 3\n",
        "\n",
        "    def print_info(self):\n",
        "        print(f'이름: {self.name}, 총점: {self.get_total()}, 평균 {self.get_mean()}')\n"
      ],
      "metadata": {
        "id": "IMvbsKXHJofb"
      },
      "execution_count": 10,
      "outputs": []
    },
    {
      "cell_type": "code",
      "source": [
        "student1 = Student('홍길동', 100, 100, 100)"
      ],
      "metadata": {
        "id": "fSIe0nkNKmYt"
      },
      "execution_count": 11,
      "outputs": []
    },
    {
      "cell_type": "code",
      "source": [
        "student1.print_info()"
      ],
      "metadata": {
        "colab": {
          "base_uri": "https://localhost:8080/"
        },
        "id": "7ozkxK-TKz2N",
        "outputId": "d666d4c6-798b-428d-92a0-04d324d6bf5f"
      },
      "execution_count": 12,
      "outputs": [
        {
          "output_type": "stream",
          "name": "stdout",
          "text": [
            "이름: 홍길동, 총점: 300, 평균 100.0\n"
          ]
        }
      ]
    },
    {
      "cell_type": "markdown",
      "source": [
        "# 클래스 작성 연습"
      ],
      "metadata": {
        "id": "kFtoiSSGK3dX"
      }
    },
    {
      "cell_type": "code",
      "source": [
        "import math # sqrt() 함수 사용을 위해"
      ],
      "metadata": {
        "id": "S7Q2it6nURxH"
      },
      "execution_count": 14,
      "outputs": []
    },
    {
      "cell_type": "markdown",
      "source": [
        "* 2차원 평면의 점의 좌표(x, y)를 표현하는 클래스.\n",
        "* 메서드: \n",
        "    * 점의 좌표를 원래 위치에서 dx, dy만큼 이동시키는 메서드.\n",
        "    * 두 점 간의 거리를 리턴하는 메서드."
      ],
      "metadata": {
        "id": "FDGkNGdMUT5H"
      }
    },
    {
      "cell_type": "code",
      "source": [
        "class Point:\n",
        "    def __init__(self, x=0, y=0):\n",
        "        # 인스턴스 변수(객체 속성) 선언과 초기화\n",
        "        self.x = x\n",
        "        self.y = y\n",
        "\n",
        "    def __str__(self):\n",
        "        return f'Point(x={self.x}, y={self.y})'\n",
        "\n",
        "    def move_position(self, dx, dy):\n",
        "        self.x += dx\n",
        "        self.y += dy\n",
        "        return self\n",
        "    \n",
        "    def distance(self, pt):\n",
        "        return math.sqrt((self.x - pt.x) ** 2 + (self.y - pt.y) ** 2)"
      ],
      "metadata": {
        "id": "CvFtYnnFVQu0"
      },
      "execution_count": 23,
      "outputs": []
    },
    {
      "cell_type": "code",
      "source": [
        "# 좌표가 원점(0, 0)인 Point 타입 객체 생성\n",
        "point0 = Point(0, 0)\n",
        "point0"
      ],
      "metadata": {
        "colab": {
          "base_uri": "https://localhost:8080/"
        },
        "id": "h-_gTMg9X7n8",
        "outputId": "e9ab33d2-4a37-47d5-bb61-448be400e4f4"
      },
      "execution_count": 17,
      "outputs": [
        {
          "output_type": "execute_result",
          "data": {
            "text/plain": [
              "<__main__.Point at 0x7fc6ca6b4ac0>"
            ]
          },
          "metadata": {},
          "execution_count": 17
        }
      ]
    },
    {
      "cell_type": "code",
      "source": [
        "print(point0.x) # point 인스턴스의 속성(필드)\n",
        "print(point0.y)"
      ],
      "metadata": {
        "colab": {
          "base_uri": "https://localhost:8080/"
        },
        "id": "BejYGWZ0YhK_",
        "outputId": "be048a71-7b9c-4c75-ddfc-72f50cfbdb2a"
      },
      "execution_count": 19,
      "outputs": [
        {
          "output_type": "stream",
          "name": "stdout",
          "text": [
            "0\n",
            "0\n"
          ]
        }
      ]
    },
    {
      "cell_type": "code",
      "source": [
        "point0.move_position(1,2)"
      ],
      "metadata": {
        "colab": {
          "base_uri": "https://localhost:8080/"
        },
        "id": "hJgDtdbqYugu",
        "outputId": "37c19150-5109-4205-a549-0970b354032d"
      },
      "execution_count": 20,
      "outputs": [
        {
          "output_type": "execute_result",
          "data": {
            "text/plain": [
              "<__main__.Point at 0x7fc6ca6b4ac0>"
            ]
          },
          "metadata": {},
          "execution_count": 20
        }
      ]
    },
    {
      "cell_type": "code",
      "source": [
        "print(point0.x)\n",
        "print(point0.y)"
      ],
      "metadata": {
        "colab": {
          "base_uri": "https://localhost:8080/"
        },
        "id": "L-u_16cFZmvf",
        "outputId": "f71f82c2-fc7e-4091-fd00-a442d4b24852"
      },
      "execution_count": 21,
      "outputs": [
        {
          "output_type": "stream",
          "name": "stdout",
          "text": [
            "1\n",
            "2\n"
          ]
        }
      ]
    },
    {
      "cell_type": "code",
      "source": [
        "point1 = Point(1, 0)\n",
        "point0.distance(point1)"
      ],
      "metadata": {
        "colab": {
          "base_uri": "https://localhost:8080/"
        },
        "id": "Okl-Bj-7ZpUH",
        "outputId": "fa856428-0726-4488-ab99-c9cc29e33d37"
      },
      "execution_count": 22,
      "outputs": [
        {
          "output_type": "execute_result",
          "data": {
            "text/plain": [
              "2.0"
            ]
          },
          "metadata": {},
          "execution_count": 22
        }
      ]
    },
    {
      "cell_type": "code",
      "source": [
        "pt1 = Point()\n",
        "print(pt1)"
      ],
      "metadata": {
        "colab": {
          "base_uri": "https://localhost:8080/"
        },
        "id": "BfjFAFYIaBIh",
        "outputId": "3937e2fb-943d-47f4-9195-a82f13daba4d"
      },
      "execution_count": 24,
      "outputs": [
        {
          "output_type": "stream",
          "name": "stdout",
          "text": [
            "Point(x=0, y=0)\n"
          ]
        }
      ]
    },
    {
      "cell_type": "code",
      "source": [
        "pt2 = Point(1) # positional argument -> x좌표, y좌표 순서\n",
        "print(pt2)"
      ],
      "metadata": {
        "colab": {
          "base_uri": "https://localhost:8080/"
        },
        "id": "0yO4VFFnhOAY",
        "outputId": "cbdd3b98-cc42-4412-ddc7-744d35ee18a5"
      },
      "execution_count": 26,
      "outputs": [
        {
          "output_type": "stream",
          "name": "stdout",
          "text": [
            "Point(x=1, y=0)\n"
          ]
        }
      ]
    },
    {
      "cell_type": "code",
      "source": [
        "pt3 = Point(y=1) # keyword argument\n",
        "print(pt3)"
      ],
      "metadata": {
        "colab": {
          "base_uri": "https://localhost:8080/"
        },
        "id": "5Yo8qUrJhZP-",
        "outputId": "6399ac9f-dd84-48bf-a38e-ad33ba2c39f5"
      },
      "execution_count": 28,
      "outputs": [
        {
          "output_type": "stream",
          "name": "stdout",
          "text": [
            "Point(x=0, y=1)\n"
          ]
        }
      ]
    },
    {
      "cell_type": "code",
      "source": [
        "pt4 = Point(x=1)\n",
        "print(pt4)"
      ],
      "metadata": {
        "colab": {
          "base_uri": "https://localhost:8080/"
        },
        "id": "RkKyrpBlhurg",
        "outputId": "30266036-6c9b-4a0c-f047-49bf0c207b1b"
      },
      "execution_count": 29,
      "outputs": [
        {
          "output_type": "stream",
          "name": "stdout",
          "text": [
            "Point(x=1, y=0)\n"
          ]
        }
      ]
    },
    {
      "cell_type": "code",
      "source": [
        "pt5 = Point(x=1, y=2)\n",
        "print(pt5)"
      ],
      "metadata": {
        "colab": {
          "base_uri": "https://localhost:8080/"
        },
        "id": "KZxkjN-Oh6o4",
        "outputId": "de7b4685-77eb-44b3-aca0-750a012b36ee"
      },
      "execution_count": 30,
      "outputs": [
        {
          "output_type": "stream",
          "name": "stdout",
          "text": [
            "Point(x=1, y=2)\n"
          ]
        }
      ]
    },
    {
      "cell_type": "markdown",
      "source": [
        "# magic method\n",
        "\n",
        "모든 클래스가 같은 이름으로 가지고 있는 메서드. 특별한 경우에 자동으로 호출되는 메서드\n",
        "\n",
        "* `__init__(self)`: 생성자를 호출하면 자동으로 호출되는 메서드. 인스턴스 변수 선언 & 초기화.\n",
        "* `__str__(self)`: 문자열을 리턴하는 메서드. `print()` 함수 안에서 자동으로 호출됨.\n",
        "* `__repr__(self)`: 문자열을 리턴하는 메서드. 식(expression)을 출력할 때 자동으로 호출되는 메서드. representation\n",
        "    * 클래스에서 `__str__` 메서드와 `__repr__`메서드를 다르게 구현하면, print() 함수로 출력하는 내용과 식을 자동으로 출력하는 내용이 서로 다름.\n",
        "    * print() 함수는 `__str__` 메서드가 구현되어 있으면 `__str__` 메서드를 호출하고, `__str__` 메서드가 구현되어 있지 않으면 `__repr__` 메서드를 호출함.\n",
        "* `__eq__(self, o)`: 두 객체가 같은지(True) 다른지(False)를 리턴하는 메서드. `==` 연산자를 사용했을 때 자동으로 호출되는 메서드.\n",
        "* `__add__(self, o)`: `+` 연산자를 사용했을 때 자동으로 호출되는 메서드."
      ],
      "metadata": {
        "id": "8PLI9Uweh_Wg"
      }
    },
    {
      "cell_type": "code",
      "source": [
        "class T:\n",
        "    def __str__(self):\n",
        "        return 'class T instance';\n",
        "\n",
        "    def __repr__(self):\n",
        "        return 'T'\n",
        "t = T()\n",
        "print(t) # print 함수를 사용한 출력\n",
        "t # 셀의 가장 마지막 줄에 있는 표현식의 자동 출력"
      ],
      "metadata": {
        "colab": {
          "base_uri": "https://localhost:8080/"
        },
        "id": "7UVesIsRj1-8",
        "outputId": "770eaded-4a5d-4065-b30f-004dc8a6983e"
      },
      "execution_count": 34,
      "outputs": [
        {
          "output_type": "stream",
          "name": "stdout",
          "text": [
            "class T instance\n"
          ]
        },
        {
          "output_type": "execute_result",
          "data": {
            "text/plain": [
              "T"
            ]
          },
          "metadata": {},
          "execution_count": 34
        }
      ]
    },
    {
      "cell_type": "code",
      "source": [
        "list1 = [1, 2, 3]\n",
        "list2 = [1, 2, 3]"
      ],
      "metadata": {
        "id": "1hIzyJiUuM4l"
      },
      "execution_count": 35,
      "outputs": []
    },
    {
      "cell_type": "code",
      "source": [
        "list1 == list2 # list1.__eq__(list2)"
      ],
      "metadata": {
        "colab": {
          "base_uri": "https://localhost:8080/"
        },
        "id": "Tc10tSSLuQpl",
        "outputId": "57ef165e-1556-4326-cdc4-7afc588deffc"
      },
      "execution_count": 37,
      "outputs": [
        {
          "output_type": "execute_result",
          "data": {
            "text/plain": [
              "True"
            ]
          },
          "metadata": {},
          "execution_count": 37
        }
      ]
    },
    {
      "cell_type": "code",
      "source": [
        "list1 + list2 # list1.__add__(list2)"
      ],
      "metadata": {
        "colab": {
          "base_uri": "https://localhost:8080/"
        },
        "id": "_J2fM3zEupM6",
        "outputId": "5f40c64e-01ed-4c33-a1ef-e7b23f9377cd"
      },
      "execution_count": 39,
      "outputs": [
        {
          "output_type": "execute_result",
          "data": {
            "text/plain": [
              "[1, 2, 3, 1, 2, 3]"
            ]
          },
          "metadata": {},
          "execution_count": 39
        }
      ]
    },
    {
      "cell_type": "code",
      "source": [
        "list1 * 3"
      ],
      "metadata": {
        "colab": {
          "base_uri": "https://localhost:8080/"
        },
        "id": "AUhOEW4XvU1F",
        "outputId": "e583b773-e858-477f-dcee-921b4815cf80"
      },
      "execution_count": 40,
      "outputs": [
        {
          "output_type": "execute_result",
          "data": {
            "text/plain": [
              "[1, 2, 3, 1, 2, 3, 1, 2, 3]"
            ]
          },
          "metadata": {},
          "execution_count": 40
        }
      ]
    },
    {
      "cell_type": "code",
      "source": [
        "class Number:\n",
        "    def __init__(self, x):\n",
        "        self.x = x\n",
        "\n",
        "    def __repr__ (self):\n",
        "        return f'{self.x}'\n",
        "\n",
        "    def __eq__(self, other):\n",
        "        return self.x == other.x\n",
        "\n",
        "    def __add__(self, other):\n",
        "        return Number(self.x + other.x)"
      ],
      "metadata": {
        "id": "QdnmOm3cvWWg"
      },
      "execution_count": 65,
      "outputs": []
    },
    {
      "cell_type": "code",
      "source": [
        "n1 = Number(10)\n",
        "n2 = Number(20)\n",
        "n3 = Number(10)"
      ],
      "metadata": {
        "id": "pfiylQHfvcJS"
      },
      "execution_count": 66,
      "outputs": []
    },
    {
      "cell_type": "code",
      "source": [
        "print(n1, n2, n3)"
      ],
      "metadata": {
        "colab": {
          "base_uri": "https://localhost:8080/"
        },
        "id": "foC2kSPovlxJ",
        "outputId": "9f2801a4-7f50-4674-c2b7-a405ca529d2c"
      },
      "execution_count": 67,
      "outputs": [
        {
          "output_type": "stream",
          "name": "stdout",
          "text": [
            "10 20 10\n"
          ]
        }
      ]
    },
    {
      "cell_type": "code",
      "source": [
        "print(n1 == n2)\n",
        "print(n1 == n3)"
      ],
      "metadata": {
        "colab": {
          "base_uri": "https://localhost:8080/"
        },
        "id": "vt0Y4jm_wVV6",
        "outputId": "5c23d81c-57d0-4567-9839-66ec1bfbbc34"
      },
      "execution_count": 68,
      "outputs": [
        {
          "output_type": "stream",
          "name": "stdout",
          "text": [
            "False\n",
            "True\n"
          ]
        }
      ]
    },
    {
      "cell_type": "code",
      "source": [
        "n1 + n2 # + 연산 결과 => Number 객체 => __repr__ 호출"
      ],
      "metadata": {
        "colab": {
          "base_uri": "https://localhost:8080/"
        },
        "id": "gopKZE9Zxj6h",
        "outputId": "2b5f2ac1-ec52-491e-aa36-ca2efd0156dc"
      },
      "execution_count": 70,
      "outputs": [
        {
          "output_type": "execute_result",
          "data": {
            "text/plain": [
              "30"
            ]
          },
          "metadata": {},
          "execution_count": 70
        }
      ]
    },
    {
      "cell_type": "markdown",
      "source": [
        "# 클래스 작성 연습"
      ],
      "metadata": {
        "id": "RPLNq78YymZ6"
      }
    },
    {
      "cell_type": "markdown",
      "source": [
        "* class Score\n",
        "    * 속성: korean, english, math\n",
        "    * 메서드: 총점, 평균, `__repr__`,`__eq__`\n",
        "* class Student\n",
        "    * 속성: stu_no, stu_name, score(Score 객체 타입)\n",
        "    * 메서드: `__repr__`\n",
        "    "
      ],
      "metadata": {
        "id": "fy2uuvgCypYd"
      }
    },
    {
      "cell_type": "code",
      "source": [
        "class Score"
      ],
      "metadata": {
        "id": "N1C58rzDzaz5"
      },
      "execution_count": null,
      "outputs": []
    }
  ]
}