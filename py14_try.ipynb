{
  "nbformat": 4,
  "nbformat_minor": 0,
  "metadata": {
    "colab": {
      "provenance": [],
      "authorship_tag": "ABX9TyOPfaKLKFFvrVtfInIG7phY",
      "include_colab_link": true
    },
    "kernelspec": {
      "name": "python3",
      "display_name": "Python 3"
    },
    "language_info": {
      "name": "python"
    }
  },
  "cells": [
    {
      "cell_type": "markdown",
      "metadata": {
        "id": "view-in-github",
        "colab_type": "text"
      },
      "source": [
        "<a href=\"https://colab.research.google.com/github/JMYoon90/JM_python/blob/main/py14_try.ipynb\" target=\"_parent\"><img src=\"https://colab.research.google.com/assets/colab-badge.svg\" alt=\"Open In Colab\"/></a>"
      ]
    },
    {
      "cell_type": "markdown",
      "source": [
        "# 오류(Error) 처리 구문\n",
        "\n",
        "* 오류가 발생한 위치와 원인을 파악해서 오류가 발생하지 않도록 코드 수정.\n",
        "* 오류가 발생하더라도 프로그램이 비정상적으로 종료되지 않고 계속 실행될 수 있도록 처리 -> try 구문\n",
        "    * Java는 반드시 try-catch 구문을 사용해야만 하는 Exception 종류들이 있음.\n",
        "        * nullPointerException: try-catch가 불필요.\n",
        "        * SQLException: try-catch가 반드시 필요.\n",
        "    * Python은 모든 오류 처리에서 try-catch는 필수가 아님."
      ],
      "metadata": {
        "id": "Wo9Hf_tFZ6kX"
      }
    },
    {
      "cell_type": "markdown",
      "source": [
        "\n",
        "```\n",
        "try:\n",
        "    (1) 실행할 코드 블록\n",
        "except [에러 클래스 이름 [as 별명]]:\n",
        "    (2) 에러가 발생했을 때 실행할 코드 블록\n",
        "[else:\n",
        "    (3) 에러가 발생하지 않았을 때 실행할 코드 블록]\n",
        "[finally:\n",
        "    (4) try블록을 실행 중에 에러 발생 여부와 상관 없이 항상 실행할 코드 블록]\n",
        "```\n",
        "\n",
        "* 에러가 발생하지 않는 경우: (1) -> (3) -> (4)\n",
        "* 에러가 발생하는 경우 : (1) -> (2) -> (4)"
      ],
      "metadata": {
        "id": "C61wTNpocH4M"
      }
    },
    {
      "cell_type": "code",
      "source": [
        "try:\n",
        "    x = int(input('정수 입력>>> '))\n",
        "    print(f'x = {x}')\n",
        "except: # 모든 종류의 에러를 처리\n",
        "    print(' 정수로 입력해야 함!')"
      ],
      "metadata": {
        "colab": {
          "base_uri": "https://localhost:8080/"
        },
        "id": "Mr67N2pgejOd",
        "outputId": "c72475c9-da63-4dae-c7fc-72ae35bdae3a"
      },
      "execution_count": 2,
      "outputs": [
        {
          "output_type": "stream",
          "name": "stdout",
          "text": [
            " 정수로 입력해야 함!\n"
          ]
        }
      ]
    },
    {
      "cell_type": "code",
      "source": [
        "try:\n",
        "    x = int(input('정수 입력>>> ')) # 1.\n",
        "except ValueError as e:\n",
        "    print(e) # 2.\n",
        "else:\n",
        "    print(f'x = {x}') # 3.\n",
        "finally:\n",
        "    print('=== end ===') # 4."
      ],
      "metadata": {
        "colab": {
          "base_uri": "https://localhost:8080/"
        },
        "id": "gsfMvlCJfnK1",
        "outputId": "565dcb29-7ef6-466a-bb68-b4c4d507337d"
      },
      "execution_count": 6,
      "outputs": [
        {
          "output_type": "stream",
          "name": "stdout",
          "text": [
            "정수 입력>>> 100\n",
            "x = 100\n",
            "=== end ===\n"
          ]
        }
      ]
    },
    {
      "cell_type": "markdown",
      "source": [
        "# Ex 1.\n",
        "정수 1개를 입력받고, 입력받은 정수를 출력.\n",
        "\n",
        "정수로 변환할 수 없는 문자열이 입력된 경우에는 적절한 오류 메시지를 출력한 후\n",
        "다시 입력을 받아아 함."
      ],
      "metadata": {
        "id": "PTuV6vQhhbdh"
      }
    },
    {
      "cell_type": "code",
      "source": [
        "while True:\n",
        "    try:\n",
        "        x = int(input('정수 입력>>> '))\n",
        "        print(f'x = {x}')\n",
        "        break\n",
        "    except:\n",
        "        print('정수만 입력해주세요')"
      ],
      "metadata": {
        "colab": {
          "base_uri": "https://localhost:8080/"
        },
        "id": "mdunp6HukyrR",
        "outputId": "823efb96-8397-4dd6-ba40-a54e50e44140"
      },
      "execution_count": 12,
      "outputs": [
        {
          "output_type": "stream",
          "name": "stdout",
          "text": [
            "정수 입력>>> 123\n",
            "x = 123\n"
          ]
        }
      ]
    },
    {
      "cell_type": "markdown",
      "source": [
        "Ex 2. 단어 개수 세기\n",
        "\n",
        "리스트 words가 가지고 있는 단어들을 key로 하고, 그 단어가 리스트에 나오는 횟수를 값으로 하는 dict를 생성."
      ],
      "metadata": {
        "id": "bePS_0CZhvDx"
      }
    },
    {
      "cell_type": "code",
      "source": [
        "words = ['java', 'python', 'java', 'javascript', 'python', 'kotlin', 'html', 'python']\n",
        "words_counts = {}\n",
        "\n",
        "for w in words:\n",
        "    if w in words_counts:\n",
        "        words_counts[w] += 1\n",
        "    else:\n",
        "        words_counts[w] = 1\n",
        "    print(words_counts)"
      ],
      "metadata": {
        "colab": {
          "base_uri": "https://localhost:8080/"
        },
        "id": "nqPvvUzkiAG7",
        "outputId": "67d0a0db-7ee4-4197-a9d6-2053e469ad51"
      },
      "execution_count": 18,
      "outputs": [
        {
          "output_type": "stream",
          "name": "stdout",
          "text": [
            "{'java': 1}\n",
            "{'java': 1, 'python': 1}\n",
            "{'java': 2, 'python': 1}\n",
            "{'java': 2, 'python': 1, 'javascript': 1}\n",
            "{'java': 2, 'python': 2, 'javascript': 1}\n",
            "{'java': 2, 'python': 2, 'javascript': 1, 'kotlin': 1}\n",
            "{'java': 2, 'python': 2, 'javascript': 1, 'kotlin': 1, 'html': 1}\n",
            "{'java': 2, 'python': 3, 'javascript': 1, 'kotlin': 1, 'html': 1}\n"
          ]
        }
      ]
    },
    {
      "cell_type": "code",
      "source": [
        "word_counts2 = {}\n",
        "for w in words:\n",
        "    try:\n",
        "        word_counts2[w] += 1\n",
        "    except:\n",
        "        word_counts2[w] = 1\n",
        "print(word_counts2)\n"
      ],
      "metadata": {
        "colab": {
          "base_uri": "https://localhost:8080/"
        },
        "id": "KZe7QjpDsiSl",
        "outputId": "b41954c7-df4b-4f1d-9e74-f282369a8d3d"
      },
      "execution_count": 19,
      "outputs": [
        {
          "output_type": "stream",
          "name": "stdout",
          "text": [
            "{'java': 2, 'python': 3, 'javascript': 1, 'kotlin': 1, 'html': 1}\n"
          ]
        }
      ]
    }
  ]
}