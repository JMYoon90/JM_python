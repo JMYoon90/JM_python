{
  "nbformat": 4,
  "nbformat_minor": 0,
  "metadata": {
    "colab": {
      "provenance": [],
      "authorship_tag": "ABX9TyO/wl+gwyKY5JCGBN1EGKMx",
      "include_colab_link": true
    },
    "kernelspec": {
      "name": "python3",
      "display_name": "Python 3"
    },
    "language_info": {
      "name": "python"
    }
  },
  "cells": [
    {
      "cell_type": "markdown",
      "metadata": {
        "id": "view-in-github",
        "colab_type": "text"
      },
      "source": [
        "<a href=\"https://colab.research.google.com/github/JMYoon90/JM_python/blob/main/py12_inheritance.ipynb\" target=\"_parent\"><img src=\"https://colab.research.google.com/assets/colab-badge.svg\" alt=\"Open In Colab\"/></a>"
      ]
    },
    {
      "cell_type": "markdown",
      "source": [
        "# 상속(Inheritance)\n",
        "\n",
        "* super class(상위 클래스), parent class(부모 클래스), base class(기본 클래스)\n",
        "* sub class(하위 클래스), child class(자식 클래스), drived class(유도 클래스)\n",
        "* 상속: 상위 클래스의 속성(데이터)들과 기능(메서드)들을 하위 클래스에서 재사용하는 것.\n",
        "* 일반적으로 **IS-A** 관계가 성립하는 객체들을 상속을 사용해서 구현함.\n",
        "    * 학생은 사람이다. Student IS A person.\n",
        "        * Person - super class\n",
        "        * Student - sub class\n",
        "* **HAS-A** 관계가 성립하는 객체들은 일반적으로 상속이 아니라 클래스의 속성(멤버 변수)로 구현함.\n",
        "    * 학생은 성적을 가지고 있다."
      ],
      "metadata": {
        "id": "ycmYP3oUldqI"
      }
    },
    {
      "cell_type": "markdown",
      "source": [
        "파이썬에서 상속을 구현:\n",
        "```\n",
        "class SubClass(SuperClass):\n",
        "    구현 코드\n",
        "```"
      ],
      "metadata": {
        "id": "aEFaEKetnJjP"
      }
    },
    {
      "cell_type": "code",
      "source": [
        "class Person:\n",
        "    def __init__(self, name, age):\n",
        "        self.name = name\n",
        "        self.__age = age # 파이썬에서 private 인스턴스 변수 선언\n",
        "\n",
        "    def hello(self):\n",
        "        print(f'안녕하세요, 저는 {self.name}입니다.')\n",
        "\n",
        "    def get_age(self):\n",
        "        return self.__age # private 변수는 class 내부에서만 접근 가능."
      ],
      "metadata": {
        "id": "D_7RktWxnvXb"
      },
      "execution_count": 12,
      "outputs": []
    },
    {
      "cell_type": "code",
      "source": [
        "JM = Person('Jaeman', 33)\n",
        "JM.hello()"
      ],
      "metadata": {
        "colab": {
          "base_uri": "https://localhost:8080/"
        },
        "id": "b6574UgcoKAO",
        "outputId": "bc038c40-c3ad-48dd-be33-81796b557300"
      },
      "execution_count": 13,
      "outputs": [
        {
          "output_type": "stream",
          "name": "stdout",
          "text": [
            "안녕하세요, 저는 Jaeman입니다.\n"
          ]
        }
      ]
    },
    {
      "cell_type": "code",
      "source": [
        "# print(JM.__age) # 에러 발생 : private 변수는 직접 접근 불가\n",
        "JM.get_age()"
      ],
      "metadata": {
        "colab": {
          "base_uri": "https://localhost:8080/"
        },
        "id": "yrfZhu74otxV",
        "outputId": "f8842f5b-1214-464b-8768-241154851f76"
      },
      "execution_count": 16,
      "outputs": [
        {
          "output_type": "execute_result",
          "data": {
            "text/plain": [
              "33"
            ]
          },
          "metadata": {},
          "execution_count": 16
        }
      ]
    },
    {
      "cell_type": "code",
      "source": [
        "class Student(Person):\n",
        "    pass"
      ],
      "metadata": {
        "id": "9l1cW5l7qOkE"
      },
      "execution_count": 17,
      "outputs": []
    },
    {
      "cell_type": "code",
      "source": [
        "student1 = Student('홍길동', 16)"
      ],
      "metadata": {
        "id": "zqIxZShoqRTy"
      },
      "execution_count": 21,
      "outputs": []
    },
    {
      "cell_type": "code",
      "source": [
        "student1.hello()"
      ],
      "metadata": {
        "colab": {
          "base_uri": "https://localhost:8080/"
        },
        "id": "j2qtdaw3wiT8",
        "outputId": "87ae744e-dd5a-4f83-c216-1d19ba3b1a34"
      },
      "execution_count": 22,
      "outputs": [
        {
          "output_type": "stream",
          "name": "stdout",
          "text": [
            "안녕하세요, 저는 홍길동입니다.\n"
          ]
        }
      ]
    },
    {
      "cell_type": "markdown",
      "source": [
        "# Method Override\n",
        "\n",
        "* 상위 클래스의 메서드를 하위 클래스에서 재정의하는 것.\n",
        "    * 파이썬에서는 메서드의 이름만 같으면 (파라미터 타입/개수와 상관 없이) 메서드가 재정의됨.\n",
        "        * 파이썬은 같은 이름으로 2개 이상의 메서드(함수)를 가질 수 없음 - overloading은 제공하지 않음.\n",
        "    * 자바에서는 메서드 이름, 파라미터 타입/개수/순서가 모두 동일한 경우에 메서드가 재정의됨.\n",
        "        * 파라미터가 다르면 같은 이름의 메서드가 2개 이상 있을 수 있음 -overloading\n",
        "* 하위 클래스에서 재정의(override)된 상위 클래스의 메서드를 명시적으로 호출하기 위해서는 `super().method_name(...)`의 형식으로 호출함."
      ],
      "metadata": {
        "id": "4sqrf_T8rBHf"
      }
    },
    {
      "cell_type": "code",
      "source": [
        "class BusinessPerson(Person):\n",
        "    def __init__(self, name, age, company):\n",
        "        # 상위 클래스의 __init__ 메서드를 호출\n",
        "        super().__init__(name, age)\n",
        "        self.company = company # 하위 클래스에서 상위 클래스를 확장한 속성.\n",
        "\n",
        "    # 상위 클래스의 hello() 메서드 override\n",
        "    def hello(self):\n",
        "        # 상위 클래스에서 정의된 메서드를 명시적으로 호출\n",
        "        super().hello()\n",
        "        print(f'저는 {self.company} 사원입니다.')"
      ],
      "metadata": {
        "id": "dTlBdE76wwLS"
      },
      "execution_count": 26,
      "outputs": []
    },
    {
      "cell_type": "code",
      "source": [
        "person1 = BusinessPerson('홍길동', 16, '아이티윌')"
      ],
      "metadata": {
        "id": "-yRRKI1jyVBb"
      },
      "execution_count": 27,
      "outputs": []
    },
    {
      "cell_type": "code",
      "source": [
        "person1.hello()"
      ],
      "metadata": {
        "colab": {
          "base_uri": "https://localhost:8080/"
        },
        "id": "C-gVKdoryboG",
        "outputId": "3aab884e-049c-402a-9277-68401a9df7ab"
      },
      "execution_count": 28,
      "outputs": [
        {
          "output_type": "stream",
          "name": "stdout",
          "text": [
            "안녕하세요, 저는 홍길동입니다.\n",
            "저는 아이티윌 사원입니다.\n"
          ]
        }
      ]
    },
    {
      "cell_type": "code",
      "source": [
        "person1.get_age()"
      ],
      "metadata": {
        "colab": {
          "base_uri": "https://localhost:8080/"
        },
        "id": "fCddduXsy6od",
        "outputId": "a7f1817d-40bd-403f-9dfd-6c8f33534245"
      },
      "execution_count": 29,
      "outputs": [
        {
          "output_type": "execute_result",
          "data": {
            "text/plain": [
              "16"
            ]
          },
          "metadata": {},
          "execution_count": 29
        }
      ]
    },
    {
      "cell_type": "markdown",
      "source": [
        "# isinstance 메서드"
      ],
      "metadata": {
        "id": "zbOPSxK4y848"
      }
    },
    {
      "cell_type": "code",
      "source": [
        "isinstance(person1, Person)"
      ],
      "metadata": {
        "colab": {
          "base_uri": "https://localhost:8080/"
        },
        "id": "UBrhaajGzXVS",
        "outputId": "5b017087-a4a2-4964-c263-f0ab99108892"
      },
      "execution_count": 30,
      "outputs": [
        {
          "output_type": "execute_result",
          "data": {
            "text/plain": [
              "True"
            ]
          },
          "metadata": {},
          "execution_count": 30
        }
      ]
    },
    {
      "cell_type": "code",
      "source": [
        "isinstance(person1, BusinessPerson)"
      ],
      "metadata": {
        "colab": {
          "base_uri": "https://localhost:8080/"
        },
        "id": "2RWYbTYtzu75",
        "outputId": "7ea288ca-9f80-49df-d66e-409e30e55b52"
      },
      "execution_count": 31,
      "outputs": [
        {
          "output_type": "execute_result",
          "data": {
            "text/plain": [
              "True"
            ]
          },
          "metadata": {},
          "execution_count": 31
        }
      ]
    },
    {
      "cell_type": "code",
      "source": [
        "person2 = Person('무명씨', 20)"
      ],
      "metadata": {
        "id": "VXhNXo8B0MCV"
      },
      "execution_count": 32,
      "outputs": []
    },
    {
      "cell_type": "code",
      "source": [
        "isinstance(person2, Person)"
      ],
      "metadata": {
        "colab": {
          "base_uri": "https://localhost:8080/"
        },
        "id": "c3ah_4xh0PuZ",
        "outputId": "28fa0c7c-f572-4dec-c08b-ea4a95c95df0"
      },
      "execution_count": 33,
      "outputs": [
        {
          "output_type": "execute_result",
          "data": {
            "text/plain": [
              "True"
            ]
          },
          "metadata": {},
          "execution_count": 33
        }
      ]
    },
    {
      "cell_type": "code",
      "source": [
        "isinstance(person2, BusinessPerson)"
      ],
      "metadata": {
        "colab": {
          "base_uri": "https://localhost:8080/"
        },
        "id": "-32y2XZy0Q1O",
        "outputId": "e8a171ef-2988-4062-fcb2-6f98aea56dcb"
      },
      "execution_count": 36,
      "outputs": [
        {
          "output_type": "execute_result",
          "data": {
            "text/plain": [
              "False"
            ]
          },
          "metadata": {},
          "execution_count": 36
        }
      ]
    },
    {
      "cell_type": "code",
      "source": [
        "class Animal:\n",
        "    def move(self):\n",
        "        pass\n",
        "\n",
        "class Dog(Animal):\n",
        "    def move(self):\n",
        "        print('댕댕이는 총총총...')\n",
        "\n",
        "class Bird(Animal):\n",
        "    def move(self):\n",
        "        print('새는 펄럭펄럭...')\n",
        "\n",
        "class Tree:\n",
        "    pass"
      ],
      "metadata": {
        "id": "zJ2iCfpo0zek"
      },
      "execution_count": 37,
      "outputs": []
    },
    {
      "cell_type": "code",
      "source": [
        "array = [Dog(), Bird(), Tree()]\n",
        "for x in array:\n",
        "    if isinstance(x, Animal):\n",
        "        x.move()"
      ],
      "metadata": {
        "colab": {
          "base_uri": "https://localhost:8080/"
        },
        "id": "p6UqxnnU1yCh",
        "outputId": "26af5611-aa61-4bd9-be33-2fee11f54c23"
      },
      "execution_count": 39,
      "outputs": [
        {
          "output_type": "stream",
          "name": "stdout",
          "text": [
            "댕댕이는 총총총...\n",
            "새는 펄럭펄럭...\n"
          ]
        }
      ]
    }
  ]
}