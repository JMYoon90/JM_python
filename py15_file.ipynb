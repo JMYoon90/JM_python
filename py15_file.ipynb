{
  "nbformat": 4,
  "nbformat_minor": 0,
  "metadata": {
    "colab": {
      "provenance": [],
      "mount_file_id": "1ZzU2dwcWO0IB_dnGdyvab6v54OUiJGc0",
      "authorship_tag": "ABX9TyMA8v3B05azx5sP6FXLCltH",
      "include_colab_link": true
    },
    "kernelspec": {
      "name": "python3",
      "display_name": "Python 3"
    },
    "language_info": {
      "name": "python"
    }
  },
  "cells": [
    {
      "cell_type": "markdown",
      "metadata": {
        "id": "view-in-github",
        "colab_type": "text"
      },
      "source": [
        "<a href=\"https://colab.research.google.com/github/JMYoon90/JM_python/blob/main/py15_file.ipynb\" target=\"_parent\"><img src=\"https://colab.research.google.com/assets/colab-badge.svg\" alt=\"Open In Colab\"/></a>"
      ]
    },
    {
      "cell_type": "markdown",
      "source": [
        "# 파일 쓰기(write)"
      ],
      "metadata": {
        "id": "WJDLfyFzt8H3"
      }
    },
    {
      "cell_type": "markdown",
      "source": [
        "1. 파일 열기(open)\n",
        "2. 파일 내용 쓰기(write)\n",
        "3. 파일 닫기(close)\n",
        "\n",
        "```\n",
        "open(file, mode='rt', ...)\n",
        "```\n",
        "\n",
        "* file: 폴더(디렉토리)를 포함한 파일 이름\n",
        "* mode:\n",
        "    * r(read): 읽기. 기본값.\n",
        "    * w(write): 쓰기. 파일이 없으면 새로운 파일을 생성하고, 파일이 있으면 기존 내용이 모두 삭제되고 파일의 처음부터 다시 쓰기 시작.\n",
        "    * a(append): 이어쓰기. 기존 내용 이후부터 이어서 쓰기.\n",
        "    * t(text): 텍스트 (읽기/쓰기). 기본값.\n",
        "    * b(binary): 이진 데이터 (읽기/쓰기). (예) 이미지, 동영상, ...\n"
      ],
      "metadata": {
        "id": "h7_XlD0RuX6t"
      }
    },
    {
      "cell_type": "code",
      "source": [
        "# 1. 파일 텍스트 쓰기 모드로 열기\n",
        "f = open('text1.txt',mode='wt') # mode= 'w'와 동일\n",
        "\n",
        "# 2. 열린 파일에 내용을 작성.\n",
        "f.write('Hello, Python!\\n')\n",
        "f.write('안녕하세요...\\n')\n",
        "f.write('1234567890\\n')\n",
        "\n",
        "# 3. 파일 닫기.\n",
        "f.close()"
      ],
      "metadata": {
        "id": "fQO7Je_60VrE"
      },
      "execution_count": 2,
      "outputs": []
    },
    {
      "cell_type": "code",
      "source": [
        "# with ~ as ... 구문: 오픈된 리소스(파일)에서 close() 메서드를 자동으로 호출.\n",
        "with open('test2.txt', mode='w') as f:\n",
        "    f.write('안녕하세요...\\n')\n",
        "    f.write('Hello... \\n')\n"
      ],
      "metadata": {
        "id": "VdMUvPj42WdM"
      },
      "execution_count": 4,
      "outputs": []
    },
    {
      "cell_type": "code",
      "source": [
        "# 파일 읽기"
      ],
      "metadata": {
        "id": "duISd1I73TAH"
      },
      "execution_count": 5,
      "outputs": []
    },
    {
      "cell_type": "code",
      "source": [
        "with open('text1.txt', mode='rt') as f:\n",
        "    # mode='rt'가 기본값이기 때문에 생략 가능.\n",
        "    line = f.readline()\n",
        "    print(line.strip())\n",
        "    line = f.readline()\n",
        "    print(line.strip())\n",
        "    line = f.readline()\n",
        "    print(line.strip())"
      ],
      "metadata": {
        "colab": {
          "base_uri": "https://localhost:8080/"
        },
        "id": "50hUUuJo3Uy3",
        "outputId": "9e5db8f3-6aef-4307-befd-36589900451a"
      },
      "execution_count": 9,
      "outputs": [
        {
          "output_type": "stream",
          "name": "stdout",
          "text": [
            "Hello, Python!\n",
            "안녕하세요...\n",
            "1234567890\n"
          ]
        }
      ]
    },
    {
      "cell_type": "code",
      "source": [
        "with open('text1.txt') as f:\n",
        "    for line in f: # 파일이 처음부터 끝까지 readline() 자동으로 호출\n",
        "        print(line.strip())"
      ],
      "metadata": {
        "colab": {
          "base_uri": "https://localhost:8080/"
        },
        "id": "p_I1kZaY4wI5",
        "outputId": "3bfd7e39-c21e-4a50-945d-ef0dcd456db6"
      },
      "execution_count": 10,
      "outputs": [
        {
          "output_type": "stream",
          "name": "stdout",
          "text": [
            "Hello, Python!\n",
            "안녕하세요...\n",
            "1234567890\n"
          ]
        }
      ]
    },
    {
      "cell_type": "markdown",
      "source": [
        "* 지금까지 과정은 google colab에서 임대한 가상 머신의 하드디스크에서 파일을 읽고 쓰는 기능을 수행\n",
        "* google colab과 연결이 끝어진 후 재연결(가상 머신 재할당)을 하면, 가상 머신의 리소스(RAM, HDD, CPU, ...)가 초기화 됨."
      ],
      "metadata": {
        "id": "4TRSHvAI5bdM"
      }
    },
    {
      "cell_type": "markdown",
      "source": [
        "# Colab 가상 머신으로 구글 드라이브 연결(Mount)"
      ],
      "metadata": {
        "id": "AkFrF24Y6kfX"
      }
    },
    {
      "cell_type": "code",
      "source": [
        "dir_path = '/content/drive/MyDrive/Colab Notebooks/labPython'\n",
        "file_name = 'emails.txt'"
      ],
      "metadata": {
        "id": "ku8gVXFS6rrR"
      },
      "execution_count": 12,
      "outputs": []
    },
    {
      "cell_type": "code",
      "source": [
        "import os # os 모듈을 import - os.path.join() 함수를 사용하기 위해서"
      ],
      "metadata": {
        "id": "2le6YXXs78le"
      },
      "execution_count": 14,
      "outputs": []
    },
    {
      "cell_type": "code",
      "source": [
        "# os.path.join(): 폴더 경로 + 파일 구분자 + 파일 이름\n",
        "file_path = os.path.join(dir_path, file_name)\n",
        "file_path"
      ],
      "metadata": {
        "colab": {
          "base_uri": "https://localhost:8080/",
          "height": 35
        },
        "id": "_AIij9NV8DRW",
        "outputId": "bfafb121-2b8a-4bbb-9dbc-24722b8b5745"
      },
      "execution_count": 16,
      "outputs": [
        {
          "output_type": "execute_result",
          "data": {
            "text/plain": [
              "'/content/drive/MyDrive/Colab Notebooks/labPython/emails.txt'"
            ],
            "application/vnd.google.colaboratory.intrinsic+json": {
              "type": "string"
            }
          },
          "metadata": {},
          "execution_count": 16
        }
      ]
    },
    {
      "cell_type": "code",
      "source": [
        "with open(file_path, mode='wt') as f:\n",
        "    f.write('admin@itwill.co.kr \\n')\n",
        "    f.write('guest@itwill.co.kr \\n')\n",
        "    f.write('user@oracle.com \\n')"
      ],
      "metadata": {
        "id": "lypxQ8ot8q1j"
      },
      "execution_count": 18,
      "outputs": []
    },
    {
      "cell_type": "code",
      "source": [],
      "metadata": {
        "id": "iDUcw3LB9Cbd"
      },
      "execution_count": null,
      "outputs": []
    }
  ]
}