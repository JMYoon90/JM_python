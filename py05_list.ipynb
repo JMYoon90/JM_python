{
  "nbformat": 4,
  "nbformat_minor": 0,
  "metadata": {
    "colab": {
      "provenance": [],
      "authorship_tag": "ABX9TyPdQdtPdmwW+5FiSEILF6yb",
      "include_colab_link": true
    },
    "kernelspec": {
      "name": "python3",
      "display_name": "Python 3"
    },
    "language_info": {
      "name": "python"
    }
  },
  "cells": [
    {
      "cell_type": "markdown",
      "metadata": {
        "id": "view-in-github",
        "colab_type": "text"
      },
      "source": [
        "<a href=\"https://colab.research.google.com/github/JMYoon90/JM_python/blob/main/py05_list.ipynb\" target=\"_parent\"><img src=\"https://colab.research.google.com/assets/colab-badge.svg\" alt=\"Open In Colab\"/></a>"
      ]
    },
    {
      "cell_type": "markdown",
      "source": [
        "# List(리스트)\n",
        "\n",
        "list: 여러개의 값들을 하나의 변수에 저장하기 위한 데이터 타입.\n",
        "\n",
        "* element(원소, 요소): 리스트에 저장되는 각각의 값.\n",
        "* index(인덱스): 리스트에 원소들의 저장된 위치.\n",
        "    * 리스트의 인덱스는 **0**부터 시작\n",
        "    * 리스트의 마지막 인덱스는 **(원소 개수 -1)**\n",
        "* 리스트는 원소들을 추가/삭제/변경할 수 있음.\n",
        "    * tulbe과 다른 점!"
      ],
      "metadata": {
        "id": "lRZXZv8dXWSD"
      }
    },
    {
      "cell_type": "code",
      "source": [
        "# 숫자들을 저장하는 리스트\n",
        "numbers = [1, 2, 3, 10, 20, 30]\n",
        "print(numbers)"
      ],
      "metadata": {
        "colab": {
          "base_uri": "https://localhost:8080/"
        },
        "id": "5CQrMvCJYh2I",
        "outputId": "8aa31238-a8ae-4b0d-9e3c-cd3411d65ad8"
      },
      "execution_count": 18,
      "outputs": [
        {
          "output_type": "stream",
          "name": "stdout",
          "text": [
            "[1, 2, 3, 10, 20, 30]\n"
          ]
        }
      ]
    },
    {
      "cell_type": "code",
      "source": [
        "numbers"
      ],
      "metadata": {
        "colab": {
          "base_uri": "https://localhost:8080/"
        },
        "id": "H4ktNfd3YrSM",
        "outputId": "66072fe3-0c8d-4ac7-b78f-389e462d0999"
      },
      "execution_count": 19,
      "outputs": [
        {
          "output_type": "execute_result",
          "data": {
            "text/plain": [
              "[1, 2, 3, 10, 20, 30]"
            ]
          },
          "metadata": {},
          "execution_count": 19
        }
      ]
    },
    {
      "cell_type": "markdown",
      "source": [
        "## indexing\n",
        "\n",
        "인덱스를 사용해서 리스트에서 원소를 참조하는 방법."
      ],
      "metadata": {
        "id": "WritLfp3Ys9P"
      }
    },
    {
      "cell_type": "code",
      "source": [
        "numbers[0] # 리스트의 첫번째 원소 값"
      ],
      "metadata": {
        "colab": {
          "base_uri": "https://localhost:8080/"
        },
        "id": "XE0XTs5BZpzK",
        "outputId": "d5fd5554-08a2-45ed-d0c3-1d9bea67fd81"
      },
      "execution_count": 20,
      "outputs": [
        {
          "output_type": "execute_result",
          "data": {
            "text/plain": [
              "1"
            ]
          },
          "metadata": {},
          "execution_count": 20
        }
      ]
    },
    {
      "cell_type": "code",
      "source": [
        "numbers[5]# 리스트의 마지막 원소 값"
      ],
      "metadata": {
        "colab": {
          "base_uri": "https://localhost:8080/"
        },
        "id": "iBNpRXguZtNl",
        "outputId": "32df6b9a-4cb0-41a7-8a4a-28e2148e8578"
      },
      "execution_count": 21,
      "outputs": [
        {
          "output_type": "execute_result",
          "data": {
            "text/plain": [
              "30"
            ]
          },
          "metadata": {},
          "execution_count": 21
        }
      ]
    },
    {
      "cell_type": "code",
      "source": [
        "numbers[-1]"
      ],
      "metadata": {
        "colab": {
          "base_uri": "https://localhost:8080/"
        },
        "id": "016RhiqHZ16Q",
        "outputId": "47a903b1-9e34-4aa0-9570-dc011cdd3d69"
      },
      "execution_count": 22,
      "outputs": [
        {
          "output_type": "execute_result",
          "data": {
            "text/plain": [
              "30"
            ]
          },
          "metadata": {},
          "execution_count": 22
        }
      ]
    },
    {
      "cell_type": "markdown",
      "source": [
        "## slicing\n",
        "\n",
        "인덱스를 사용해서 리스트의 부분집합(리스트)를 잘라내는 방법.\n",
        "\n",
        "```\n",
        "list[start:end]\n",
        "```\n",
        "\n",
        "* start <= index < end 범위의 인덱스 위치의 원소들을 잘라냄.\n",
        "* start를 생략한 경우에는 첫번째 원소부터 잘라냄.\n",
        "* end를 생략한 경우에는 마지막 원소까지 잘라냄.\n",
        "* 리스트를 slicing한 결과는 또다른 새로운 리스트!"
      ],
      "metadata": {
        "id": "igfai19ebIQZ"
      }
    },
    {
      "cell_type": "code",
      "source": [
        "# 리스트 numbers에서 첫번째 원소부터 순서대로 3개를 잘라냄\n",
        "numbers[:3]"
      ],
      "metadata": {
        "colab": {
          "base_uri": "https://localhost:8080/"
        },
        "id": "cKlJA8e8tbvy",
        "outputId": "df0e5746-a74c-4736-f253-b201946baaba"
      },
      "execution_count": 27,
      "outputs": [
        {
          "output_type": "execute_result",
          "data": {
            "text/plain": [
              "[1, 2, 3]"
            ]
          },
          "metadata": {},
          "execution_count": 27
        }
      ]
    },
    {
      "cell_type": "code",
      "source": [
        "# 리스트 numbers에서 끝에서 3개의 원소를 잘라냄\n",
        "numbers[-3:]"
      ],
      "metadata": {
        "colab": {
          "base_uri": "https://localhost:8080/"
        },
        "id": "KKInyBpYtrkP",
        "outputId": "a464f740-c8ae-4914-a90f-4a3510c1133d"
      },
      "execution_count": 31,
      "outputs": [
        {
          "output_type": "execute_result",
          "data": {
            "text/plain": [
              "[10, 20, 30]"
            ]
          },
          "metadata": {},
          "execution_count": 31
        }
      ]
    },
    {
      "cell_type": "code",
      "source": [
        "print(numbers[0:1]) # slicing => list\n",
        "print(numbers[0]) # indexing => element"
      ],
      "metadata": {
        "colab": {
          "base_uri": "https://localhost:8080/"
        },
        "id": "dpwinF0zvN1q",
        "outputId": "b12e000f-285d-4f6d-d6cd-ef8766b92517"
      },
      "execution_count": 33,
      "outputs": [
        {
          "output_type": "stream",
          "name": "stdout",
          "text": [
            "[1]\n",
            "1\n"
          ]
        }
      ]
    },
    {
      "cell_type": "markdown",
      "source": [
        "# 문자열\n",
        "\n",
        "문자열: 문자들의 리스트. indexing, slicing을 사용할 수 있음."
      ],
      "metadata": {
        "id": "gKZsYawmv6HX"
      }
    },
    {
      "cell_type": "code",
      "source": [
        "message = '안녕하세요, 파이썬!' # 11개의 문자들을 원소로 갖는 문자열"
      ],
      "metadata": {
        "id": "Mmv9Yrt6wHed"
      },
      "execution_count": 34,
      "outputs": []
    },
    {
      "cell_type": "code",
      "source": [
        "message[0] # 문자열의 첫번째 글자\n"
      ],
      "metadata": {
        "colab": {
          "base_uri": "https://localhost:8080/",
          "height": 35
        },
        "id": "3kwQ1UWiwTLe",
        "outputId": "9e224253-7a70-422a-bcb4-251460ac77d6"
      },
      "execution_count": 35,
      "outputs": [
        {
          "output_type": "execute_result",
          "data": {
            "text/plain": [
              "'안'"
            ],
            "application/vnd.google.colaboratory.intrinsic+json": {
              "type": "string"
            }
          },
          "metadata": {},
          "execution_count": 35
        }
      ]
    },
    {
      "cell_type": "code",
      "source": [
        "message[-1] # 문자열의 마지막 글자"
      ],
      "metadata": {
        "colab": {
          "base_uri": "https://localhost:8080/",
          "height": 35
        },
        "id": "43eQNktcwbcF",
        "outputId": "6a0a49f1-5ad9-4d18-d6a4-2cb2974991e1"
      },
      "execution_count": 36,
      "outputs": [
        {
          "output_type": "execute_result",
          "data": {
            "text/plain": [
              "'!'"
            ],
            "application/vnd.google.colaboratory.intrinsic+json": {
              "type": "string"
            }
          },
          "metadata": {},
          "execution_count": 36
        }
      ]
    },
    {
      "cell_type": "code",
      "source": [
        "message[:3] # 앞에서 3글자"
      ],
      "metadata": {
        "colab": {
          "base_uri": "https://localhost:8080/",
          "height": 35
        },
        "id": "bhQoX-EOw4YY",
        "outputId": "0f10e839-5069-4b37-9669-a42e6451ed52"
      },
      "execution_count": 38,
      "outputs": [
        {
          "output_type": "execute_result",
          "data": {
            "text/plain": [
              "'안녕하'"
            ],
            "application/vnd.google.colaboratory.intrinsic+json": {
              "type": "string"
            }
          },
          "metadata": {},
          "execution_count": 38
        }
      ]
    },
    {
      "cell_type": "code",
      "source": [
        "message[-3:] # 뒤에서 3글자"
      ],
      "metadata": {
        "colab": {
          "base_uri": "https://localhost:8080/",
          "height": 35
        },
        "id": "dDiblI89w9hM",
        "outputId": "b404c071-5a29-4b99-ae87-39b66749a071"
      },
      "execution_count": 40,
      "outputs": [
        {
          "output_type": "execute_result",
          "data": {
            "text/plain": [
              "'이썬!'"
            ],
            "application/vnd.google.colaboratory.intrinsic+json": {
              "type": "string"
            }
          },
          "metadata": {},
          "execution_count": 40
        }
      ]
    },
    {
      "cell_type": "code",
      "source": [
        "# 문자열 + 문자열\n",
        "'Hello' + 'Python'"
      ],
      "metadata": {
        "colab": {
          "base_uri": "https://localhost:8080/",
          "height": 35
        },
        "id": "T912YYk5xVFP",
        "outputId": "225c7282-c315-47e2-ce0a-a6184374b6fd"
      },
      "execution_count": 41,
      "outputs": [
        {
          "output_type": "execute_result",
          "data": {
            "text/plain": [
              "'HelloPython'"
            ],
            "application/vnd.google.colaboratory.intrinsic+json": {
              "type": "string"
            }
          },
          "metadata": {},
          "execution_count": 41
        }
      ]
    },
    {
      "cell_type": "code",
      "source": [
        "# 문자열 * 정수 또는 정수 * 문자열\n",
        "'Hello' * 3"
      ],
      "metadata": {
        "colab": {
          "base_uri": "https://localhost:8080/",
          "height": 35
        },
        "id": "F4nutTa9xjXb",
        "outputId": "f818e1b0-9839-4725-d352-5455c46459ee"
      },
      "execution_count": 42,
      "outputs": [
        {
          "output_type": "execute_result",
          "data": {
            "text/plain": [
              "'HelloHelloHello'"
            ],
            "application/vnd.google.colaboratory.intrinsic+json": {
              "type": "string"
            }
          },
          "metadata": {},
          "execution_count": 42
        }
      ]
    },
    {
      "cell_type": "markdown",
      "source": [
        "# list의 산술 연산\n",
        "\n",
        "* `list + list`\n",
        "* `list * 정수` 또는 `정수 * list`"
      ],
      "metadata": {
        "id": "roaxIEZXxo7q"
      }
    },
    {
      "cell_type": "code",
      "source": [
        "[1,2,3] + [4,5,6]"
      ],
      "metadata": {
        "colab": {
          "base_uri": "https://localhost:8080/"
        },
        "id": "brqE0op9yB4J",
        "outputId": "b4f0c582-3891-484e-f508-6c3d0f1850b4"
      },
      "execution_count": 44,
      "outputs": [
        {
          "output_type": "execute_result",
          "data": {
            "text/plain": [
              "[1, 2, 3, 4, 5, 6]"
            ]
          },
          "metadata": {},
          "execution_count": 44
        }
      ]
    },
    {
      "cell_type": "code",
      "source": [
        "3 * [1,2,3]"
      ],
      "metadata": {
        "colab": {
          "base_uri": "https://localhost:8080/"
        },
        "id": "U0N5y8VryFtt",
        "outputId": "899d5321-08b1-4675-9bfd-1208051bca67"
      },
      "execution_count": 47,
      "outputs": [
        {
          "output_type": "execute_result",
          "data": {
            "text/plain": [
              "[1, 2, 3, 1, 2, 3, 1, 2, 3]"
            ]
          },
          "metadata": {},
          "execution_count": 47
        }
      ]
    },
    {
      "cell_type": "markdown",
      "source": [
        "# list 객체의 기능(메서드)\n",
        "\n",
        "* `list.append(arg)` : 리스트의 가장 마지막에 새로운 원소(value)를 추가.\n",
        "* `list.insert(index, value)` : 리스트의 index 위치에 value를 추가.\n",
        "* `list.extend(interable)` : list1 + list2.\n",
        "* `list.remove(value)` : 리스트에서 처음 등장하는 value를 삭제.\n",
        "* `list.pop(index)` : 리스트에서 index 위치에 있는 원소를 삭제.\n",
        "* `list.clear()` : 리스트의 모든 원소를 삭제."
      ],
      "metadata": {
        "id": "HO_G-XV9yYAr"
      }
    },
    {
      "cell_type": "code",
      "source": [
        "list1 = [1,2,3,4,5]"
      ],
      "metadata": {
        "id": "U4vxtsCoz0XP"
      },
      "execution_count": 48,
      "outputs": []
    },
    {
      "cell_type": "code",
      "source": [
        "list1.append(10)"
      ],
      "metadata": {
        "id": "KKDkeHIh0LrE"
      },
      "execution_count": 50,
      "outputs": []
    },
    {
      "cell_type": "code",
      "source": [
        "list1"
      ],
      "metadata": {
        "colab": {
          "base_uri": "https://localhost:8080/"
        },
        "id": "69OIRsSq0NFN",
        "outputId": "cc065a83-b53d-475c-e9eb-4539ae399c65"
      },
      "execution_count": 51,
      "outputs": [
        {
          "output_type": "execute_result",
          "data": {
            "text/plain": [
              "[1, 2, 3, 4, 5, 10]"
            ]
          },
          "metadata": {},
          "execution_count": 51
        }
      ]
    },
    {
      "cell_type": "code",
      "source": [
        "list1.extend([100,200,300])"
      ],
      "metadata": {
        "id": "92NuRbe_0RLj"
      },
      "execution_count": 52,
      "outputs": []
    },
    {
      "cell_type": "code",
      "source": [
        "list1"
      ],
      "metadata": {
        "colab": {
          "base_uri": "https://localhost:8080/"
        },
        "id": "TwAwM-mh00yR",
        "outputId": "c99e220a-eb7a-49dd-fd76-cfa0fd2c1c23"
      },
      "execution_count": 53,
      "outputs": [
        {
          "output_type": "execute_result",
          "data": {
            "text/plain": [
              "[1, 2, 3, 4, 5, 10, 100, 200, 300]"
            ]
          },
          "metadata": {},
          "execution_count": 53
        }
      ]
    },
    {
      "cell_type": "code",
      "source": [
        "list1.append([1,2,3,4,5])"
      ],
      "metadata": {
        "id": "4LaQNx4z01xS"
      },
      "execution_count": 55,
      "outputs": []
    },
    {
      "cell_type": "code",
      "source": [
        "list1"
      ],
      "metadata": {
        "colab": {
          "base_uri": "https://localhost:8080/"
        },
        "id": "ryBYvEEW040x",
        "outputId": "c24bdc40-eff0-4929-fb49-d9fa242d31b5"
      },
      "execution_count": 56,
      "outputs": [
        {
          "output_type": "execute_result",
          "data": {
            "text/plain": [
              "[1, 2, 3, 4, 5, 10, 100, 200, 300, [1, 2, 3, 4, 5]]"
            ]
          },
          "metadata": {},
          "execution_count": 56
        }
      ]
    },
    {
      "cell_type": "code",
      "source": [
        "list1.clear()"
      ],
      "metadata": {
        "id": "fCaEt1qa07Po"
      },
      "execution_count": 57,
      "outputs": []
    },
    {
      "cell_type": "code",
      "source": [
        "list1"
      ],
      "metadata": {
        "colab": {
          "base_uri": "https://localhost:8080/"
        },
        "id": "jeSuJRR71dO3",
        "outputId": "325d250b-a018-497a-b1dc-7f016693e54a"
      },
      "execution_count": 58,
      "outputs": [
        {
          "output_type": "execute_result",
          "data": {
            "text/plain": [
              "[]"
            ]
          },
          "metadata": {},
          "execution_count": 58
        }
      ]
    },
    {
      "cell_type": "markdown",
      "source": [
        "# list와 for 반복문"
      ],
      "metadata": {
        "id": "QYXXgSd31d_Q"
      }
    },
    {
      "cell_type": "code",
      "source": [
        "for x in '안녕하세요':\n",
        "    print(x)"
      ],
      "metadata": {
        "colab": {
          "base_uri": "https://localhost:8080/"
        },
        "id": "_nnzN37f148O",
        "outputId": "7410bfd9-3a93-4db6-eb86-efd5ce887f05"
      },
      "execution_count": 59,
      "outputs": [
        {
          "output_type": "stream",
          "name": "stdout",
          "text": [
            "안\n",
            "녕\n",
            "하\n",
            "세\n",
            "요\n"
          ]
        }
      ]
    },
    {
      "cell_type": "code",
      "source": [
        "numbers= [1,3,10,20]\n",
        "for x in numbers:\n",
        "    print(x)"
      ],
      "metadata": {
        "colab": {
          "base_uri": "https://localhost:8080/"
        },
        "id": "x9WQ_LMN2DZA",
        "outputId": "60927d12-1051-4dc1-d972-c9c5beb6e38e"
      },
      "execution_count": 61,
      "outputs": [
        {
          "output_type": "stream",
          "name": "stdout",
          "text": [
            "1\n",
            "3\n",
            "10\n",
            "20\n"
          ]
        }
      ]
    },
    {
      "cell_type": "code",
      "source": [
        "for i, v in enumerate(numbers):\n",
        "    print(i, ':', v)"
      ],
      "metadata": {
        "colab": {
          "base_uri": "https://localhost:8080/"
        },
        "id": "e8pcMSc42mvi",
        "outputId": "868651c8-48e3-4af5-d957-eb656f53abb2"
      },
      "execution_count": 62,
      "outputs": [
        {
          "output_type": "stream",
          "name": "stdout",
          "text": [
            "0 : 1\n",
            "1 : 3\n",
            "2 : 10\n",
            "3 : 20\n"
          ]
        }
      ]
    },
    {
      "cell_type": "markdown",
      "source": [
        "Python에서 난수 생성: `random` 모듈을 import하고 `random` 모듈의 함수를 사용."
      ],
      "metadata": {
        "id": "yhdeDlrF2upr"
      }
    },
    {
      "cell_type": "code",
      "source": [
        "import random"
      ],
      "metadata": {
        "id": "-xtgYmVP7527"
      },
      "execution_count": 63,
      "outputs": []
    },
    {
      "cell_type": "code",
      "source": [
        "random.random() # [0,1) 범위의 실수 난수 1개를 리턴."
      ],
      "metadata": {
        "colab": {
          "base_uri": "https://localhost:8080/"
        },
        "id": "FCMi-Ik07_D1",
        "outputId": "c5c92b53-1bb6-4918-85ce-322581affc01"
      },
      "execution_count": 64,
      "outputs": [
        {
          "output_type": "execute_result",
          "data": {
            "text/plain": [
              "0.11912220484655756"
            ]
          },
          "metadata": {},
          "execution_count": 64
        }
      ]
    },
    {
      "cell_type": "code",
      "source": [
        "random.randrange(10) # [0, 10) 범위의 정수 난수 1개를 리턴."
      ],
      "metadata": {
        "colab": {
          "base_uri": "https://localhost:8080/"
        },
        "id": "2d97Mi6s8jaU",
        "outputId": "d600fa26-caff-4b8b-9bf3-9e30a5459138"
      },
      "execution_count": 65,
      "outputs": [
        {
          "output_type": "execute_result",
          "data": {
            "text/plain": [
              "9"
            ]
          },
          "metadata": {},
          "execution_count": 65
        }
      ]
    },
    {
      "cell_type": "code",
      "source": [
        "random.randint(0,2) # [0,2] 범위의 정수 난수 1개를 리턴."
      ],
      "metadata": {
        "id": "lFryPK5m9MrA"
      },
      "execution_count": null,
      "outputs": []
    },
    {
      "cell_type": "markdown",
      "source": [
        "# Exercises"
      ],
      "metadata": {
        "id": "Rqd-EXTf-Bhv"
      }
    },
    {
      "cell_type": "markdown",
      "source": [
        "## Ex 1.\n",
        "\n",
        "1. 빈 리스트를 생성\n",
        "2. `[1,10]`정수 난수 5개를 저장.\n",
        "3. 리스트의 모든 정수들의 합을 출력.\n",
        "4. 리스트의 모든 정수들의 평균을 출력."
      ],
      "metadata": {
        "id": "vKAQQbfo-Epr"
      }
    },
    {
      "cell_type": "code",
      "source": [
        "list = []\n",
        "listsum = 0\n",
        "avg = 0\n",
        "for _ in range(5):\n",
        "    list.append(random.randrange(1,11))\n",
        "    \n",
        "print(list)\n",
        "\n",
        "listsum = sum(list)\n",
        "avg = listsum / len(list)\n",
        "print(listsum)\n",
        "print(avg)"
      ],
      "metadata": {
        "colab": {
          "base_uri": "https://localhost:8080/"
        },
        "id": "kZsgCh44-aac",
        "outputId": "3f35faca-29c4-43ad-e972-ba9eb11ba458"
      },
      "execution_count": 101,
      "outputs": [
        {
          "output_type": "stream",
          "name": "stdout",
          "text": [
            "[9, 9, 1, 10, 6]\n",
            "35\n",
            "7.0\n"
          ]
        }
      ]
    },
    {
      "cell_type": "markdown",
      "source": [
        "## Ex 2.\n",
        "\n",
        "1. 빈 리스트(numbers)를 생성\n",
        "2. `[10, 100)`의 정수 난수 10개를 저장.\n",
        "3. numbers에서 짝수들만 선택해서 evens 리스트를 작성.\n",
        "4. numbers에서 홀수들만 선택해서 odds 리스트를 작성."
      ],
      "metadata": {
        "id": "q9qki8r--cJK"
      }
    },
    {
      "cell_type": "code",
      "source": [
        "numbers = []\n",
        "evens = []\n",
        "odds = []\n",
        "for _ in range(10):\n",
        "    numbers.append(random.randrange(10,100))\n",
        "\n",
        "print(numbers)\n",
        "for x in numbers: # numbers의 원소들을 첫번째 원소부터 마지막 원소까지 순서대로 반복하면서\n",
        "    if x % 2: # 2로 나눈 나머지가 있다면(홀수이면)\n",
        "        odds.append(x)\n",
        "    else: # 2로 나눈 나머지가 없다면(짝수이면)\n",
        "        evens.append(x)\n",
        "\n",
        "print(f'짝수 evens 리스트 = {evens}')\n",
        "print(f'홀수 odds 리스트 = {odds}')"
      ],
      "metadata": {
        "colab": {
          "base_uri": "https://localhost:8080/"
        },
        "id": "TBWVtJWQ_P5U",
        "outputId": "f1074b33-abd3-42dd-e6c7-710ca79fd0f5"
      },
      "execution_count": 106,
      "outputs": [
        {
          "output_type": "stream",
          "name": "stdout",
          "text": [
            "[84, 20, 90, 14, 39, 59, 16, 58, 97, 77]\n",
            "짝수 evens 리스트 = [84, 20, 90, 14, 16, 58]\n",
            "홀수 odds 리스트 = [39, 59, 97, 77]\n"
          ]
        }
      ]
    },
    {
      "cell_type": "markdown",
      "source": [
        "## Ex 3.\n",
        "\n",
        "1. 빈 리스트 numbers를 만듦.\n",
        "2. `[-10, 10]` 범위의 정수 난수 10개를 numbers에 저장.\n",
        "3. numbers의 원소가 양수이면 ture, 그렇지 않으면 false를 저장하는 is_positives 리스트 작성.\n"
      ],
      "metadata": {
        "id": "00X8780s_QlH"
      }
    },
    {
      "cell_type": "code",
      "source": [
        "numbers= []\n",
        "is_positives = []\n",
        "for _ in range(10):\n",
        "    numbers.append(random.randrange(-10,11))\n",
        "print(numbers)\n",
        "for i in range(0,10):\n",
        "    if numbers[i] <= 0:\n",
        "        is_positives.append(False)\n",
        "    else:\n",
        "        is_positives.append(True)\n",
        "print(is_positives)"
      ],
      "metadata": {
        "colab": {
          "base_uri": "https://localhost:8080/"
        },
        "id": "SxIlmLIp__HU",
        "outputId": "68de3084-bdff-413b-d3d5-313f466f413b"
      },
      "execution_count": 87,
      "outputs": [
        {
          "output_type": "stream",
          "name": "stdout",
          "text": [
            "[-6, -4, 5, 5, -6, -3, 2, 1, -8, -4]\n",
            "[False, False, True, True, False, False, True, True, False, False]\n"
          ]
        }
      ]
    },
    {
      "cell_type": "markdown",
      "source": [
        "## Ex. 4\n",
        "\n",
        "1. gender_codes 리스트에 0 또는 1을 랜덤하게 10개를 저장.\n",
        "2. gender_codes의 값이 0이면 'Male', 그렇지 않으면 'Female'을 저장하는 genders리스트를 작성"
      ],
      "metadata": {
        "id": "K_0iOjbF__Oq"
      }
    },
    {
      "cell_type": "code",
      "source": [
        "gender_codes = []\n",
        "genders = []\n",
        "for i in range(1, 11):\n",
        "    gender_codes.append(random.randrange(0,2))\n",
        "print(gender_codes)\n",
        "for i in range(0,10):\n",
        "    if gender_codes[i] == 0:\n",
        "        genders.append('Male')\n",
        "    else:\n",
        "        genders.append('Female')\n",
        "print(genders)"
      ],
      "metadata": {
        "colab": {
          "base_uri": "https://localhost:8080/"
        },
        "id": "IhyfoAI3EFHC",
        "outputId": "d003ae3e-0925-43c7-80a4-d12b23d03e9e"
      },
      "execution_count": 93,
      "outputs": [
        {
          "output_type": "stream",
          "name": "stdout",
          "text": [
            "[1, 1, 1, 0, 1, 1, 0, 1, 1, 1]\n",
            "['Female', 'Female', 'Female', 'Male', 'Female', 'Female', 'Male', 'Female', 'Female', 'Female']\n"
          ]
        }
      ]
    }
  ]
}