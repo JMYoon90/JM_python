{
  "nbformat": 4,
  "nbformat_minor": 0,
  "metadata": {
    "colab": {
      "provenance": [],
      "authorship_tag": "ABX9TyOd0sqGD7fRCUJaX37ENKfJ",
      "include_colab_link": true
    },
    "kernelspec": {
      "name": "python3",
      "display_name": "Python 3"
    },
    "language_info": {
      "name": "python"
    }
  },
  "cells": [
    {
      "cell_type": "markdown",
      "metadata": {
        "id": "view-in-github",
        "colab_type": "text"
      },
      "source": [
        "<a href=\"https://colab.research.google.com/github/JMYoon90/JM_python/blob/main/py09_function.ipynb\" target=\"_parent\"><img src=\"https://colab.research.google.com/assets/colab-badge.svg\" alt=\"Open In Colab\"/></a>"
      ]
    },
    {
      "cell_type": "markdown",
      "source": [
        "# 함수(function)\n",
        "\n",
        "* 함수(function): 기능을 수행하는 코드 블록.\n",
        "* 인수(argument): 함수를 호출할 때, 함수에게 전달하는 값(들).\n",
        "* 매개변수(parameter): argument를 저장하기 위해서 함수를 정의할 때, 선언하는 (지역)변수\n",
        "* 반환 값(return value): 함수가 기능의 수행 결과로 반환하는 값.\n",
        "    * 반환 값이 있는 함수\n",
        "    * 반환 값이 없는 함수"
      ],
      "metadata": {
        "id": "6BiMxZ2p_BDE"
      }
    },
    {
      "cell_type": "markdown",
      "source": [
        "파이썬에서 함수 정의하는 방법:\n",
        "\n",
        "```\n",
        "def function_name([param, ...]):\n",
        "    [\"\"\"문서화 주석: 함수 설명, 파라미터 설명, 리턴 값 설명\"\"\"]\n",
        "    함수 기능 코드 블록\n",
        "    [return 값]\n",
        "```"
      ],
      "metadata": {
        "id": "b3fiWp_HALt9"
      }
    },
    {
      "cell_type": "code",
      "source": [
        "def subtract(x, y):\n",
        "    \"\"\"숫자 x, y를 전달받아서, x-y를 리턴하는 함수.\n",
        "    \"\"\"\n",
        "    return x - y"
      ],
      "metadata": {
        "id": "wgV1U6JHBci-"
      },
      "execution_count": 1,
      "outputs": []
    },
    {
      "cell_type": "code",
      "source": [
        "result = subtract(1,2)\n",
        "result"
      ],
      "metadata": {
        "colab": {
          "base_uri": "https://localhost:8080/"
        },
        "id": "nQFT1UCfB0OH",
        "outputId": "46cc2e10-0d6f-4c49-ce3f-d7e54fe34f04"
      },
      "execution_count": 3,
      "outputs": [
        {
          "output_type": "execute_result",
          "data": {
            "text/plain": [
              "-1"
            ]
          },
          "metadata": {},
          "execution_count": 3
        }
      ]
    },
    {
      "cell_type": "markdown",
      "source": [
        "파이썬의 함수는 2개 이상의 값을 반환할 수 있음. 튜플을 리턴하는 것."
      ],
      "metadata": {
        "id": "Q00Jko5LGY-y"
      }
    },
    {
      "cell_type": "code",
      "source": [
        "def plus_and_minus(x, y):\n",
        "    \"\"\"2개의 숫자 x,y를 전달받아서, x+y와 x-y를 리턴하는 함수\"\"\"\n",
        "    return x + y, x - y"
      ],
      "metadata": {
        "id": "Cy9HcAKAGuf1"
      },
      "execution_count": 4,
      "outputs": []
    },
    {
      "cell_type": "code",
      "source": [
        "result = plus_and_minus(1, 2)\n",
        "result"
      ],
      "metadata": {
        "colab": {
          "base_uri": "https://localhost:8080/"
        },
        "id": "uPBmHSt-G5s0",
        "outputId": "11246e20-074b-4ec7-d944-8d199c9ccee0"
      },
      "execution_count": 6,
      "outputs": [
        {
          "output_type": "execute_result",
          "data": {
            "text/plain": [
              "(3, -1)"
            ]
          },
          "metadata": {},
          "execution_count": 6
        }
      ]
    },
    {
      "cell_type": "code",
      "source": [
        "plus, minus = plus_and_minus(1, 2)\n",
        "print(plus)\n",
        "print(minus)"
      ],
      "metadata": {
        "colab": {
          "base_uri": "https://localhost:8080/"
        },
        "id": "K0sI_rIaHJpj",
        "outputId": "1f12fbc6-9dd7-4959-e0f7-6224a5f9fa66"
      },
      "execution_count": 8,
      "outputs": [
        {
          "output_type": "stream",
          "name": "stdout",
          "text": [
            "3\n",
            "-1\n"
          ]
        }
      ]
    },
    {
      "cell_type": "markdown",
      "source": [
        "값을 반환하지 않는 함수."
      ],
      "metadata": {
        "id": "6xbUcWb3HvyW"
      }
    },
    {
      "cell_type": "code",
      "source": [
        "def repeat_message(message, n):\n",
        "    \"\"\"문자열 message와 반복 횟수 n을 전달받아서, 문자열을 n번 출력하는 함수\"\"\"\n",
        "    for _ in range(n):\n",
        "        print(message)\n",
        "\n",
        "\n",
        "    return None # 반환 값이 없음을 명시적으로 작성.\n",
        "    # 반환 값이 없는 경우에 retrun None 문장은 보통 생략함."
      ],
      "metadata": {
        "id": "h6p8MbzlHzOy"
      },
      "execution_count": 12,
      "outputs": []
    },
    {
      "cell_type": "code",
      "source": [
        "result = repeat_message('안녕하세요', 3)\n",
        "print(f'result = {result}')"
      ],
      "metadata": {
        "colab": {
          "base_uri": "https://localhost:8080/"
        },
        "id": "YixwdQI2IGQ5",
        "outputId": "99811c1a-2b22-4743-f317-e1c2f5bcc7b6"
      },
      "execution_count": 14,
      "outputs": [
        {
          "output_type": "stream",
          "name": "stdout",
          "text": [
            "안녕하세요\n",
            "안녕하세요\n",
            "안녕하세요\n",
            "result = None\n"
          ]
        }
      ]
    },
    {
      "cell_type": "markdown",
      "source": [
        "# 함수 작성 연습"
      ],
      "metadata": {
        "id": "ceL1lzwrJbKX"
      }
    },
    {
      "cell_type": "code",
      "source": [
        "import random # 난수 생성\n",
        "import math # sqrt() 함수"
      ],
      "metadata": {
        "id": "TuubQXxZMPiI"
      },
      "execution_count": 15,
      "outputs": []
    },
    {
      "cell_type": "markdown",
      "source": [
        "## Ex 1.\n",
        "\n",
        "* 함수 이름: make_list\n",
        "* 기능: start 이상 end 미만의 정수 난수 n개를 갖는 리스트를 반환하는 함수.\n"
      ],
      "metadata": {
        "id": "TRih8MHpJeJv"
      }
    },
    {
      "cell_type": "code",
      "source": [
        "def make_list(start, end, n):\n",
        "    return [random.randrange(start, end) for _ in range(n)]"
      ],
      "metadata": {
        "id": "HMzWPc9PJ73Z"
      },
      "execution_count": 50,
      "outputs": []
    },
    {
      "cell_type": "code",
      "source": [
        "result = make_list(0, 10, 5)\n",
        "print(result)"
      ],
      "metadata": {
        "colab": {
          "base_uri": "https://localhost:8080/"
        },
        "id": "Jw85_g3wMmor",
        "outputId": "08325b2c-5a0d-411c-9029-f5481f190097"
      },
      "execution_count": 53,
      "outputs": [
        {
          "output_type": "stream",
          "name": "stdout",
          "text": [
            "[8, 5, 7, 7, 1]\n"
          ]
        }
      ]
    },
    {
      "cell_type": "markdown",
      "source": [
        "## Ex 2.\n",
        "\n",
        "* 함수 이름: calc_sum\n",
        "* 기능: 숫자들의 리스트를 전달받아서, 리스트의 모든 원소들의 합을 리턴하는 함수."
      ],
      "metadata": {
        "id": "hkFJr8ekKH3I"
      }
    },
    {
      "cell_type": "code",
      "source": [
        "def calc_sum(num_list):\n",
        "    total = 0\n",
        "    for x in num_list:\n",
        "        total += x\n",
        "    \n",
        "    return total"
      ],
      "metadata": {
        "id": "3_ewz6TPNmTf"
      },
      "execution_count": 55,
      "outputs": []
    },
    {
      "cell_type": "code",
      "source": [
        "result2 = calc_sum(result)\n",
        "print(result2)"
      ],
      "metadata": {
        "colab": {
          "base_uri": "https://localhost:8080/"
        },
        "id": "vwpGd4gdOQ3a",
        "outputId": "d70d95e9-1066-47bf-fcfa-dbeaa2721b9c"
      },
      "execution_count": 56,
      "outputs": [
        {
          "output_type": "stream",
          "name": "stdout",
          "text": [
            "28\n"
          ]
        }
      ]
    },
    {
      "cell_type": "markdown",
      "source": [
        "## Ex 3.\n",
        "\n",
        "* 함수 이름: calc_mean\n",
        "* 기능: 숫자들의 리스트를 전달받아서, 리스트의 원소들의 평균을 리턴하는 함수."
      ],
      "metadata": {
        "id": "KJ0n1VN9KTZr"
      }
    },
    {
      "cell_type": "code",
      "source": [
        "def calc_mean(num_list):\n",
        "    return calc_sum(num_list) / len(num_list)"
      ],
      "metadata": {
        "id": "6t-L3LOjQB6r"
      },
      "execution_count": 57,
      "outputs": []
    },
    {
      "cell_type": "code",
      "source": [
        "result3 = calc_mean(result)\n",
        "print(result3)"
      ],
      "metadata": {
        "colab": {
          "base_uri": "https://localhost:8080/"
        },
        "id": "5nE6h5XiQXzY",
        "outputId": "c59ee659-66e6-473d-f941-66821d413b46"
      },
      "execution_count": 58,
      "outputs": [
        {
          "output_type": "stream",
          "name": "stdout",
          "text": [
            "5.6\n"
          ]
        }
      ]
    },
    {
      "cell_type": "markdown",
      "source": [
        "## Ex 4.\n",
        "\n",
        "* 함수 이름: calc_var\n",
        "* 기능: 숫자들의 리스트를 전달받아서, 리스트의 원소들의 분산(variance)을 리턴하는 함수.\n",
        "    * 분산 = (값 - 평균)^2 들의 평균"
      ],
      "metadata": {
        "id": "CfQtTvoIKgKk"
      }
    },
    {
      "cell_type": "code",
      "source": [
        "def calc_var(num_list):\n",
        "    mean = calc_mean(num_list)\n",
        "    squares = [(x - mean) ** 2 for x in num_list]\n",
        "    return calc_mean(squares)"
      ],
      "metadata": {
        "id": "nAWLl16tQffv"
      },
      "execution_count": 59,
      "outputs": []
    },
    {
      "cell_type": "code",
      "source": [
        "result4 = calc_var(result)\n",
        "print(result4)"
      ],
      "metadata": {
        "colab": {
          "base_uri": "https://localhost:8080/"
        },
        "id": "yjD6wMVwQ9S7",
        "outputId": "6111e712-b724-413a-cc1b-ecf9b72f36c5"
      },
      "execution_count": 60,
      "outputs": [
        {
          "output_type": "stream",
          "name": "stdout",
          "text": [
            "6.24\n"
          ]
        }
      ]
    },
    {
      "cell_type": "markdown",
      "source": [
        "## Ex 5.\n",
        "\n",
        "* 함수 이름: calc_stddev\n",
        "* 기능: 숫자들의 리스트를 전달받아서, 리스트의 원소들의 표준편차(standard deviation)를 리턴하는 함수.\n",
        "    * 표준 편차 = root(분산)"
      ],
      "metadata": {
        "id": "2zytB6FwLvIt"
      }
    },
    {
      "cell_type": "code",
      "source": [
        "def calc_stddev(num_list):\n",
        "    return math.sqrt(calc_var(num_list))"
      ],
      "metadata": {
        "id": "fyNF4d-vRGmb"
      },
      "execution_count": 44,
      "outputs": []
    },
    {
      "cell_type": "code",
      "source": [
        "result5 = calc_stddev(result)\n",
        "print(result5)"
      ],
      "metadata": {
        "colab": {
          "base_uri": "https://localhost:8080/"
        },
        "id": "L_scI_GcRUGm",
        "outputId": "d6d8eed1-5c43-4de2-890f-d2be83b578f5"
      },
      "execution_count": 61,
      "outputs": [
        {
          "output_type": "stream",
          "name": "stdout",
          "text": [
            "2.4979991993593593\n"
          ]
        }
      ]
    },
    {
      "cell_type": "markdown",
      "source": [
        "## Ex 6.\n",
        "\n",
        "* 함수 이름: find_max_and_min\n",
        "* 기능: 숫자들의 리스트에서 최댓값과 최솟값을 리턴하는 함수."
      ],
      "metadata": {
        "id": "zKXlIKgHMxlZ"
      }
    },
    {
      "cell_type": "code",
      "source": [
        "def find_max_and_min(num_list):\n",
        "    max = num_list[0] # 리스트에서 첫번째 원소를 최대값이라고 가정.\n",
        "    min = num_list[0] # 리스트에서 첫번째 원소를 최소값이라고 가정.\n",
        "    for x in num_list: # 리시트의 원소들을 처음부터 끝까지 반복하면서,\n",
        "        if x > max: # 리스트에 있는 값이 max보다 크다면\n",
        "            max = x\n",
        "        if x < min: # 리스트에 있는 값이 min보다 작다면\n",
        "            min = x\n",
        "    return max, min"
      ],
      "metadata": {
        "id": "Hz8o22yFRcvZ"
      },
      "execution_count": 65,
      "outputs": []
    },
    {
      "cell_type": "code",
      "source": [
        "find_max_and_min(result)"
      ],
      "metadata": {
        "colab": {
          "base_uri": "https://localhost:8080/"
        },
        "id": "GJeSx3dJSk_H",
        "outputId": "21bfc3bd-e33d-4389-9aae-d1f6c9da3f3d"
      },
      "execution_count": 67,
      "outputs": [
        {
          "output_type": "execute_result",
          "data": {
            "text/plain": [
              "(8, 1)"
            ]
          },
          "metadata": {},
          "execution_count": 67
        }
      ]
    },
    {
      "cell_type": "markdown",
      "source": [
        "# Default argument(기본 인수)\n",
        "\n",
        "* 함수를 정의할 때, 파라미터에 설정한 기본값.\n",
        "* 함수를 호출할 때, default argument가 있는 파라미터에 값을 전달하지 않으면, 기본값이 사용됨.\n",
        "* 함수를 호출할 때, default argument가 있는 파라미터에 값을 전달하면, 기본값은 무시되고 전달한 값을 사용함.\n",
        "* **(주의)** 함수를 정의할 때,  default argument가 있는 파라미터들은 default argument가 없는 파라미터들 뒤에 선언해야 함!"
      ],
      "metadata": {
        "id": "CCNvsSfka35e"
      }
    },
    {
      "cell_type": "code",
      "source": [
        "def repeat_message2(msg, n=1):\n",
        "    for _ in range(n):\n",
        "        print(msg)"
      ],
      "metadata": {
        "id": "E9aYi_nebmls"
      },
      "execution_count": 68,
      "outputs": []
    },
    {
      "cell_type": "code",
      "source": [
        "repeat_message2('Hello')"
      ],
      "metadata": {
        "colab": {
          "base_uri": "https://localhost:8080/"
        },
        "id": "zrceQXcnbwbR",
        "outputId": "14462d8a-f40f-496b-e352-8338b1360dfa"
      },
      "execution_count": 70,
      "outputs": [
        {
          "output_type": "stream",
          "name": "stdout",
          "text": [
            "Hello\n"
          ]
        }
      ]
    },
    {
      "cell_type": "code",
      "source": [
        "repeat_message2('Hello', 3)"
      ],
      "metadata": {
        "colab": {
          "base_uri": "https://localhost:8080/"
        },
        "id": "uitZS70IcOWX",
        "outputId": "3d037e57-7b94-4405-8c42-8314f3a96504"
      },
      "execution_count": 73,
      "outputs": [
        {
          "output_type": "stream",
          "name": "stdout",
          "text": [
            "Hello\n",
            "Hello\n",
            "Hello\n"
          ]
        }
      ]
    },
    {
      "cell_type": "markdown",
      "source": [
        "# argument 전달 방법:\n",
        "\n",
        "* **positional argument**: 함수 정의에서 선언된 파라미터 순서대로 argument 들을 전달하는 방법.\n",
        "* **keyword argument**: `param=value` 형식으로 argument들을 전달하는 방법.\n",
        "    * keyword argument 방식으로 argument들을 전달할 때는 파라미터 순서를 지키지 않아도 됨.\n",
        "* **(주의)** 함수를 호출할 때 positional 방법과 keyword 방법을 함께 사용하는 경우에는 반드시 positional argument들이 먼저 전달되어야 하고, keyword argument들은 나중에 전달되어야 함."
      ],
      "metadata": {
        "id": "qvBd8nlhi9EW"
      }
    },
    {
      "cell_type": "code",
      "source": [
        "def minus(x, y):\n",
        "    return x - y"
      ],
      "metadata": {
        "id": "Fxs8cjiFkME7"
      },
      "execution_count": 74,
      "outputs": []
    },
    {
      "cell_type": "code",
      "source": [
        "minus(1, 2) # positional argument"
      ],
      "metadata": {
        "colab": {
          "base_uri": "https://localhost:8080/"
        },
        "id": "PP7S4uyEkQdj",
        "outputId": "1174bd48-c5ce-44d9-faf5-5ede00816b8a"
      },
      "execution_count": 75,
      "outputs": [
        {
          "output_type": "execute_result",
          "data": {
            "text/plain": [
              "-1"
            ]
          },
          "metadata": {},
          "execution_count": 75
        }
      ]
    },
    {
      "cell_type": "code",
      "source": [
        "minus(x=1, y=2) # keyword argument"
      ],
      "metadata": {
        "colab": {
          "base_uri": "https://localhost:8080/"
        },
        "id": "w9RieYn4kYxn",
        "outputId": "f94de6aa-9f27-4126-f448-49087bee9aba"
      },
      "execution_count": 76,
      "outputs": [
        {
          "output_type": "execute_result",
          "data": {
            "text/plain": [
              "-1"
            ]
          },
          "metadata": {},
          "execution_count": 76
        }
      ]
    },
    {
      "cell_type": "code",
      "source": [
        "minus(y=2, x=1) # keyword 방식에서는 파라미터 순서를 지키지 않아도 됨."
      ],
      "metadata": {
        "colab": {
          "base_uri": "https://localhost:8080/"
        },
        "id": "aiNFO6Lckwdo",
        "outputId": "72d2ac75-ae88-4345-939e-9205f23ecd91"
      },
      "execution_count": 77,
      "outputs": [
        {
          "output_type": "execute_result",
          "data": {
            "text/plain": [
              "-1"
            ]
          },
          "metadata": {},
          "execution_count": 77
        }
      ]
    },
    {
      "cell_type": "code",
      "source": [
        "minus(1, y=2) # positional 방식과 keyword 방식을 함께 사용해도 됨."
      ],
      "metadata": {
        "colab": {
          "base_uri": "https://localhost:8080/"
        },
        "id": "3ii3i2UUk8UW",
        "outputId": "c3f484f1-b1a3-48e3-b92b-f958be7513ef"
      },
      "execution_count": 78,
      "outputs": [
        {
          "output_type": "execute_result",
          "data": {
            "text/plain": [
              "-1"
            ]
          },
          "metadata": {},
          "execution_count": 78
        }
      ]
    },
    {
      "cell_type": "code",
      "source": [
        "# minus(y=2, 1) # keyword 방식이 positional 방식보다 먼저 나오면 문법 오류가 남"
      ],
      "metadata": {
        "id": "mTGrqaATl7SR"
      },
      "execution_count": 79,
      "outputs": []
    },
    {
      "cell_type": "markdown",
      "source": [
        "# 가변길이 인수(variable-length argument)\n",
        "\n",
        "* 함수를 호출할 때 전달하는 값(argument)의 개수가 임의로 변할 수 있는 것.\n",
        "    * argument를 전달하지 않아도 됨.\n",
        "* 함수를 정의할 때 파라미터 이름 앞에 `*`를 사용하면 가변길이 인수를 전달받을 수 있음.\n",
        "* 함수 내부에서 가변길이 인수는 tuple로 취급해서 코드를 작성.\n",
        "    * 인덱스 사용 가능\n",
        "    * for-in 구문 사용 가능\n",
        "* **(주의)** \n",
        "    * 가변길이 인수는 keyword 방식으로는 전달할 수 없음.\n",
        "    * 함수에서 가변길이 인수를 갖는 파라미터는 오직 1개만 선언 가능.\n",
        "    "
      ],
      "metadata": {
        "id": "_SrAHJIvmh4a"
      }
    },
    {
      "cell_type": "code",
      "source": [
        "print('abc')\n",
        "print()\n",
        "print('abc','def')"
      ],
      "metadata": {
        "colab": {
          "base_uri": "https://localhost:8080/"
        },
        "id": "tiJ6zp9toc-l",
        "outputId": "37a950a2-71c3-49bb-8dd0-6a157a1f7f06"
      },
      "execution_count": 81,
      "outputs": [
        {
          "output_type": "stream",
          "name": "stdout",
          "text": [
            "abc\n",
            "\n",
            "abc def\n"
          ]
        }
      ]
    },
    {
      "cell_type": "code",
      "source": [
        "def add_all(*values):\n",
        "    total = 0\n",
        "    for x in values:\n",
        "        total += x\n",
        "\n",
        "    return total"
      ],
      "metadata": {
        "id": "h5l1eeGMpYDB"
      },
      "execution_count": 82,
      "outputs": []
    },
    {
      "cell_type": "code",
      "source": [
        "add_all()"
      ],
      "metadata": {
        "colab": {
          "base_uri": "https://localhost:8080/"
        },
        "id": "m2wWWJM1pgrk",
        "outputId": "607804c7-2e89-464b-f8c8-a7f8f8ce051a"
      },
      "execution_count": 83,
      "outputs": [
        {
          "output_type": "execute_result",
          "data": {
            "text/plain": [
              "0"
            ]
          },
          "metadata": {},
          "execution_count": 83
        }
      ]
    },
    {
      "cell_type": "code",
      "source": [
        "add_all(1,2,3)"
      ],
      "metadata": {
        "colab": {
          "base_uri": "https://localhost:8080/"
        },
        "id": "CcJfdymQpiMU",
        "outputId": "b6a7f1a2-2c0c-4da7-91db-0b7ca9570fec"
      },
      "execution_count": 84,
      "outputs": [
        {
          "output_type": "execute_result",
          "data": {
            "text/plain": [
              "6"
            ]
          },
          "metadata": {},
          "execution_count": 84
        }
      ]
    },
    {
      "cell_type": "code",
      "source": [
        "def test(*x, y):\n",
        "    print(x)\n",
        "    print(y)\n",
        "    "
      ],
      "metadata": {
        "id": "rsz0Nc_0pjbf"
      },
      "execution_count": 85,
      "outputs": []
    },
    {
      "cell_type": "code",
      "source": [
        "test(1,2, y=3)"
      ],
      "metadata": {
        "colab": {
          "base_uri": "https://localhost:8080/"
        },
        "id": "g5td92bbqqY0",
        "outputId": "44a553de-833f-4a5b-bb17-a16c50732701"
      },
      "execution_count": 86,
      "outputs": [
        {
          "output_type": "stream",
          "name": "stdout",
          "text": [
            "(1, 2)\n",
            "3\n"
          ]
        }
      ]
    },
    {
      "cell_type": "markdown",
      "source": [
        "# 가변길이 키워드 인수(variable-length keyword argument)\n",
        "\n",
        "* variable-length arg - 함수를 호출할 때 전달하는 argument 개수 제한이 없음.\n",
        "* keyword arg - 함수를 호출할 때 argument 반드시 `param=value` 형식으로 전달.\n",
        "* 함수를 정의할 파라미터 이름 앞에 `**`를 붙임.\n",
        "* 함수 내부에서는 dict로 취급해서 코드 작성.\n",
        "* 함수에서 가변길이 키워드 인수는 오직 1개만 선언 가능.\n"
      ],
      "metadata": {
        "id": "wRixWXmuqsEh"
      }
    },
    {
      "cell_type": "code",
      "source": [
        "def test2(**kwargs):\n",
        "    print(kwargs)"
      ],
      "metadata": {
        "id": "9Sd31lVfvdd9"
      },
      "execution_count": 87,
      "outputs": []
    },
    {
      "cell_type": "code",
      "source": [
        "test2(x=1, msg='hello', y=123)"
      ],
      "metadata": {
        "colab": {
          "base_uri": "https://localhost:8080/"
        },
        "id": "Cn8gtWVzvr1G",
        "outputId": "953947aa-d02b-4bdb-8e8f-05c50e751d46"
      },
      "execution_count": 88,
      "outputs": [
        {
          "output_type": "stream",
          "name": "stdout",
          "text": [
            "{'x': 1, 'msg': 'hello', 'y': 123}\n"
          ]
        }
      ]
    },
    {
      "cell_type": "code",
      "source": [
        "test2()"
      ],
      "metadata": {
        "colab": {
          "base_uri": "https://localhost:8080/"
        },
        "id": "8CLB9183vwYa",
        "outputId": "66138b6d-6910-4246-e426-be956d2eac35"
      },
      "execution_count": 89,
      "outputs": [
        {
          "output_type": "stream",
          "name": "stdout",
          "text": [
            "{}\n"
          ]
        }
      ]
    },
    {
      "cell_type": "code",
      "source": [
        "def make_emp(emp_no, emp_name, **kwargs):\n",
        "    emp= {'emp_no': emp_no, 'emp_name': emp_name}\n",
        "    for k, v in kwargs.items():\n",
        "        emp[k] = v\n",
        "\n",
        "    return emp"
      ],
      "metadata": {
        "id": "2GRWmG_JwF2T"
      },
      "execution_count": 93,
      "outputs": []
    },
    {
      "cell_type": "code",
      "source": [
        "make_emp(1, '홍길동')"
      ],
      "metadata": {
        "colab": {
          "base_uri": "https://localhost:8080/"
        },
        "id": "T9a0dj0Jw2Vq",
        "outputId": "8c2f7463-e779-46c2-a172-ba688c1ade4a"
      },
      "execution_count": 91,
      "outputs": [
        {
          "output_type": "execute_result",
          "data": {
            "text/plain": [
              "{'emp_no': 1, 'emp_name': '홍길동'}"
            ]
          },
          "metadata": {},
          "execution_count": 91
        }
      ]
    },
    {
      "cell_type": "code",
      "source": [
        "make_emp(2, 'Scott', phone='010-0000-0000', email='scott@oracle.com')"
      ],
      "metadata": {
        "colab": {
          "base_uri": "https://localhost:8080/"
        },
        "id": "oDddT26rw4Y8",
        "outputId": "613419ea-8a96-4acf-aac4-67107be84762"
      },
      "execution_count": 94,
      "outputs": [
        {
          "output_type": "execute_result",
          "data": {
            "text/plain": [
              "{'emp_no': 2,\n",
              " 'emp_name': 'Scott',\n",
              " 'phone': '010-0000-0000',\n",
              " 'email': 'scott@oracle.com'}"
            ]
          },
          "metadata": {},
          "execution_count": 94
        }
      ]
    },
    {
      "cell_type": "code",
      "source": [
        "def make_emp2(emp_no, emp_name, **kwargs):\n",
        "    emp = {'emp_no': emp_no, 'emp_name': emp_name, 'email': None, 'phone': None}\n",
        "    for k, v in kwargs.items():\n",
        "        if k == 'email' or k == 'phone':\n",
        "            emp[k] = v\n",
        "\n",
        "    return emp"
      ],
      "metadata": {
        "id": "9bghtADXxLSD"
      },
      "execution_count": 97,
      "outputs": []
    },
    {
      "cell_type": "code",
      "source": [
        "make_emp2(3, 'tiger', email='tiger@test.com', tel='000-0000-0000')"
      ],
      "metadata": {
        "colab": {
          "base_uri": "https://localhost:8080/"
        },
        "id": "z5FFdH9fzBAH",
        "outputId": "63d21681-3410-4029-94d6-6b0b86124945"
      },
      "execution_count": 98,
      "outputs": [
        {
          "output_type": "execute_result",
          "data": {
            "text/plain": [
              "{'emp_no': 3, 'emp_name': 'tiger', 'email': 'tiger@test.com', 'phone': None}"
            ]
          },
          "metadata": {},
          "execution_count": 98
        }
      ]
    },
    {
      "cell_type": "code",
      "source": [],
      "metadata": {
        "id": "TlpSO_MozHb-"
      },
      "execution_count": null,
      "outputs": []
    }
  ]
}