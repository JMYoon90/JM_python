{
  "nbformat": 4,
  "nbformat_minor": 0,
  "metadata": {
    "colab": {
      "provenance": [],
      "include_colab_link": true
    },
    "kernelspec": {
      "name": "python3",
      "display_name": "Python 3"
    },
    "language_info": {
      "name": "python"
    }
  },
  "cells": [
    {
      "cell_type": "markdown",
      "metadata": {
        "id": "view-in-github",
        "colab_type": "text"
      },
      "source": [
        "<a href=\"https://colab.research.google.com/github/JMYoon90/JM_python/blob/main/ml01_numpy.ipynb\" target=\"_parent\"><img src=\"https://colab.research.google.com/assets/colab-badge.svg\" alt=\"Open In Colab\"/></a>"
      ]
    },
    {
      "cell_type": "code",
      "execution_count": null,
      "metadata": {
        "id": "GlU8VPRRO8rc"
      },
      "outputs": [],
      "source": [
        "import numpy as np\n",
        "import pandas as pd\n",
        "import matplotlib.pyplot as plt\n",
        "import seaborn as sns"
      ]
    },
    {
      "cell_type": "markdown",
      "source": [
        "# `np.ndarray` 속성들"
      ],
      "metadata": {
        "id": "5ewGWwE2PQkL"
      }
    },
    {
      "cell_type": "code",
      "source": [
        "arr = np.ones(shape=(2, 3))  #> 모든 원소가 1.0인 (2, 3) 모양의 배열을 생성."
      ],
      "metadata": {
        "id": "Wd6h9aXiPLwP"
      },
      "execution_count": null,
      "outputs": []
    },
    {
      "cell_type": "code",
      "source": [
        "print(arr)"
      ],
      "metadata": {
        "colab": {
          "base_uri": "https://localhost:8080/"
        },
        "id": "yfa2rU33PnAn",
        "outputId": "742e7017-4883-470a-82b9-8c682602a192"
      },
      "execution_count": null,
      "outputs": [
        {
          "output_type": "stream",
          "name": "stdout",
          "text": [
            "[[1. 1. 1.]\n",
            " [1. 1. 1.]]\n"
          ]
        }
      ]
    },
    {
      "cell_type": "code",
      "source": [
        "arr.dtype  # 배열 원소의 데이터 타입"
      ],
      "metadata": {
        "colab": {
          "base_uri": "https://localhost:8080/"
        },
        "id": "EaUGKFOtPoOG",
        "outputId": "e94821d6-cb51-41c4-f619-bf4d4fe97839"
      },
      "execution_count": null,
      "outputs": [
        {
          "output_type": "execute_result",
          "data": {
            "text/plain": [
              "dtype('float64')"
            ]
          },
          "metadata": {},
          "execution_count": 4
        }
      ]
    },
    {
      "cell_type": "code",
      "source": [
        "arr.shape  # 배열의 모양: 배열의 각 축(axis)을 따라서 있는 원소의 개수"
      ],
      "metadata": {
        "colab": {
          "base_uri": "https://localhost:8080/"
        },
        "id": "NCLpYDj3QIvQ",
        "outputId": "4ef55fb7-02c9-4824-864f-b8962a7e3344"
      },
      "execution_count": null,
      "outputs": [
        {
          "output_type": "execute_result",
          "data": {
            "text/plain": [
              "(2, 3)"
            ]
          },
          "metadata": {},
          "execution_count": 5
        }
      ]
    },
    {
      "cell_type": "code",
      "source": [
        "arr.ndim  # 배열의 차원(dimension): 배열에서 축의 개수"
      ],
      "metadata": {
        "colab": {
          "base_uri": "https://localhost:8080/"
        },
        "id": "LvgFyFPxQXBG",
        "outputId": "8801c99b-5b9c-48ee-9159-68b2baef6478"
      },
      "execution_count": null,
      "outputs": [
        {
          "output_type": "execute_result",
          "data": {
            "text/plain": [
              "2"
            ]
          },
          "metadata": {},
          "execution_count": 6
        }
      ]
    },
    {
      "cell_type": "code",
      "source": [
        "arr.size  # 크기: 배열의 원소 전체 개수"
      ],
      "metadata": {
        "colab": {
          "base_uri": "https://localhost:8080/"
        },
        "id": "bhgoosp6RNrR",
        "outputId": "d7d6ad8f-ca5a-46d2-bda7-ad14ece12cbb"
      },
      "execution_count": null,
      "outputs": [
        {
          "output_type": "execute_result",
          "data": {
            "text/plain": [
              "6"
            ]
          },
          "metadata": {},
          "execution_count": 7
        }
      ]
    },
    {
      "cell_type": "code",
      "source": [
        "arr = np.arange(10)\n",
        "print(arr)\n",
        "print('dtype:', arr.dtype)\n",
        "print('shape:', arr.shape)\n",
        "print('ndim:', arr.ndim)\n",
        "print('size:', arr.size)"
      ],
      "metadata": {
        "colab": {
          "base_uri": "https://localhost:8080/"
        },
        "id": "IzkS4m__RPKH",
        "outputId": "a73def21-4a3e-4cb7-d9f8-9d48385d1be4"
      },
      "execution_count": null,
      "outputs": [
        {
          "output_type": "stream",
          "name": "stdout",
          "text": [
            "[0 1 2 3 4 5 6 7 8 9]\n",
            "dtype: int64\n",
            "shape: (10,)\n",
            "ndim: 1\n",
            "size: 10\n"
          ]
        }
      ]
    },
    {
      "cell_type": "markdown",
      "source": [
        "# indexing\n",
        "\n",
        "* Python list: `list[i], list[i][j], list[i][j][k], ...`\n",
        "* numpy ndarray\n",
        "    * `array[i], array[i][j], array[i][j][k], ...`\n",
        "    * `array[i], array[i, j], array[i, j, k], ...`\n"
      ],
      "metadata": {
        "id": "oam8GGeXR7qB"
      }
    },
    {
      "cell_type": "code",
      "source": [
        "arr = np.arange(1, 13).reshape((3, 4))\n",
        "print(arr)"
      ],
      "metadata": {
        "colab": {
          "base_uri": "https://localhost:8080/"
        },
        "id": "MpobhDrURqcn",
        "outputId": "ac0ee1cb-aeaa-4b30-b5e1-203b971ed957"
      },
      "execution_count": null,
      "outputs": [
        {
          "output_type": "stream",
          "name": "stdout",
          "text": [
            "[[ 1  2  3  4]\n",
            " [ 5  6  7  8]\n",
            " [ 9 10 11 12]]\n"
          ]
        }
      ]
    },
    {
      "cell_type": "code",
      "source": [
        "arr[0]"
      ],
      "metadata": {
        "colab": {
          "base_uri": "https://localhost:8080/"
        },
        "id": "CUPH0VNJSrvv",
        "outputId": "87a779ec-7a87-4e0a-8582-21c9b8a9594c"
      },
      "execution_count": null,
      "outputs": [
        {
          "output_type": "execute_result",
          "data": {
            "text/plain": [
              "array([1, 2, 3, 4])"
            ]
          },
          "metadata": {},
          "execution_count": 10
        }
      ]
    },
    {
      "cell_type": "code",
      "source": [
        "arr[0, 0]"
      ],
      "metadata": {
        "colab": {
          "base_uri": "https://localhost:8080/"
        },
        "id": "9im2ncyDSwwG",
        "outputId": "f423146f-857f-426f-d9a7-71ec79e6fcfc"
      },
      "execution_count": null,
      "outputs": [
        {
          "output_type": "execute_result",
          "data": {
            "text/plain": [
              "1"
            ]
          },
          "metadata": {},
          "execution_count": 11
        }
      ]
    },
    {
      "cell_type": "code",
      "source": [
        "arr[0][0]"
      ],
      "metadata": {
        "colab": {
          "base_uri": "https://localhost:8080/"
        },
        "id": "rRuCuKLCS1_d",
        "outputId": "aec2b130-8e12-4186-da0b-9ed5f96327a7"
      },
      "execution_count": null,
      "outputs": [
        {
          "output_type": "execute_result",
          "data": {
            "text/plain": [
              "1"
            ]
          },
          "metadata": {},
          "execution_count": 12
        }
      ]
    },
    {
      "cell_type": "markdown",
      "source": [
        "# slicing"
      ],
      "metadata": {
        "id": "mCQt5VVgTBmH"
      }
    },
    {
      "cell_type": "markdown",
      "source": [
        "## 1차원 배열 slicing"
      ],
      "metadata": {
        "id": "-F03WbmZTDz_"
      }
    },
    {
      "cell_type": "code",
      "source": [
        "np.random.seed(1)\n",
        "arr = np.random.randint(100, size=10)\n",
        "print(arr)"
      ],
      "metadata": {
        "colab": {
          "base_uri": "https://localhost:8080/"
        },
        "id": "yIqsAnc6TFre",
        "outputId": "b59ee88c-ab33-456c-f946-34eea47c3816"
      },
      "execution_count": null,
      "outputs": [
        {
          "output_type": "stream",
          "name": "stdout",
          "text": [
            "[37 12 72  9 75  5 79 64 16  1]\n"
          ]
        }
      ]
    },
    {
      "cell_type": "code",
      "source": [
        "arr[2:6]  # [2, 6) 범위의 원소들로 이루어진 부분집합(ndarray)"
      ],
      "metadata": {
        "colab": {
          "base_uri": "https://localhost:8080/"
        },
        "id": "YcN9KNT0TSqG",
        "outputId": "b772f536-d06f-496f-9f04-8ee0dd3f626c"
      },
      "execution_count": null,
      "outputs": [
        {
          "output_type": "execute_result",
          "data": {
            "text/plain": [
              "array([72,  9, 75,  5])"
            ]
          },
          "metadata": {},
          "execution_count": 14
        }
      ]
    },
    {
      "cell_type": "code",
      "source": [
        "arr[:3]  # 첫 3개 원소 자르기"
      ],
      "metadata": {
        "colab": {
          "base_uri": "https://localhost:8080/"
        },
        "id": "jlnIIp17TrR3",
        "outputId": "de880344-d1aa-46fa-a5ac-516824ebfd1f"
      },
      "execution_count": null,
      "outputs": [
        {
          "output_type": "execute_result",
          "data": {
            "text/plain": [
              "array([37, 12, 72])"
            ]
          },
          "metadata": {},
          "execution_count": 15
        }
      ]
    },
    {
      "cell_type": "code",
      "source": [
        "arr[-3:]  # 마지막 3개 원소 자르기"
      ],
      "metadata": {
        "colab": {
          "base_uri": "https://localhost:8080/"
        },
        "id": "pb913K18TxNY",
        "outputId": "36c033e9-7921-4bc4-c98b-5a49ee23ca31"
      },
      "execution_count": null,
      "outputs": [
        {
          "output_type": "execute_result",
          "data": {
            "text/plain": [
              "array([64, 16,  1])"
            ]
          },
          "metadata": {},
          "execution_count": 16
        }
      ]
    },
    {
      "cell_type": "markdown",
      "source": [
        "## 2차원 배열 slicing"
      ],
      "metadata": {
        "id": "K88dThHfT-n6"
      }
    },
    {
      "cell_type": "code",
      "source": [
        "np.random.seed(1)\n",
        "arr = np.random.randint(100, size=(4, 5))\n",
        "print(arr)"
      ],
      "metadata": {
        "colab": {
          "base_uri": "https://localhost:8080/"
        },
        "id": "Qpge3jr5T0_p",
        "outputId": "3a98d5d9-1a2d-42cd-e61d-b0ecc4c7d9e0"
      },
      "execution_count": null,
      "outputs": [
        {
          "output_type": "stream",
          "name": "stdout",
          "text": [
            "[[37 12 72  9 75]\n",
            " [ 5 79 64 16  1]\n",
            " [76 71  6 25 50]\n",
            " [20 18 84 11 28]]\n"
          ]
        }
      ]
    },
    {
      "cell_type": "code",
      "source": [
        "# 첫 2개 row를 선택, 모든 column을 선택\n",
        "arr[:2, :]"
      ],
      "metadata": {
        "colab": {
          "base_uri": "https://localhost:8080/"
        },
        "id": "T48jTNw0UUON",
        "outputId": "cef205a7-669b-4112-a90e-cfc43b2fa832"
      },
      "execution_count": null,
      "outputs": [
        {
          "output_type": "execute_result",
          "data": {
            "text/plain": [
              "array([[37, 12, 72,  9, 75],\n",
              "       [ 5, 79, 64, 16,  1]])"
            ]
          },
          "metadata": {},
          "execution_count": 18
        }
      ]
    },
    {
      "cell_type": "code",
      "source": [
        "arr[:2]"
      ],
      "metadata": {
        "colab": {
          "base_uri": "https://localhost:8080/"
        },
        "id": "2ynPSlVuUzuA",
        "outputId": "1462e810-e54f-402f-9685-7505bb70519c"
      },
      "execution_count": null,
      "outputs": [
        {
          "output_type": "execute_result",
          "data": {
            "text/plain": [
              "array([[37, 12, 72,  9, 75],\n",
              "       [ 5, 79, 64, 16,  1]])"
            ]
          },
          "metadata": {},
          "execution_count": 19
        }
      ]
    },
    {
      "cell_type": "code",
      "source": [
        "# 첫 2개 row을 선택, 첫 3개 column 선택\n",
        "arr[:2, :3]"
      ],
      "metadata": {
        "colab": {
          "base_uri": "https://localhost:8080/"
        },
        "id": "OlD4jiHZU-iP",
        "outputId": "fa226bd3-ebf8-41e9-9600-c1e659434deb"
      },
      "execution_count": null,
      "outputs": [
        {
          "output_type": "execute_result",
          "data": {
            "text/plain": [
              "array([[37, 12, 72],\n",
              "       [ 5, 79, 64]])"
            ]
          },
          "metadata": {},
          "execution_count": 20
        }
      ]
    },
    {
      "cell_type": "code",
      "source": [
        "arr[:1, :1]"
      ],
      "metadata": {
        "colab": {
          "base_uri": "https://localhost:8080/"
        },
        "id": "cr38zr-vVtBQ",
        "outputId": "52eb68fe-b827-4046-d8fd-361eb2819ca8"
      },
      "execution_count": null,
      "outputs": [
        {
          "output_type": "execute_result",
          "data": {
            "text/plain": [
              "array([[37]])"
            ]
          },
          "metadata": {},
          "execution_count": 21
        }
      ]
    },
    {
      "cell_type": "markdown",
      "source": [
        "# Shape 변경\n",
        "\n",
        "* `np.ndarray.reshape(shape)`\n",
        "* `np.ndarray.ravel()`\n",
        "* `np.ndarray.flatten()`\n",
        "* `np.newaxis` 속성 이용\n"
      ],
      "metadata": {
        "id": "CHy7MbU4ZoXX"
      }
    },
    {
      "cell_type": "markdown",
      "source": [
        "## reshape"
      ],
      "metadata": {
        "id": "LmMiEFjxaJtv"
      }
    },
    {
      "cell_type": "code",
      "source": [
        "arr_1d = np.arange(12)\n",
        "print(arr_1d)"
      ],
      "metadata": {
        "colab": {
          "base_uri": "https://localhost:8080/"
        },
        "id": "SsVlgonSaMDl",
        "outputId": "bbead323-cf37-4aa3-ffc5-476db5bcd37a"
      },
      "execution_count": null,
      "outputs": [
        {
          "output_type": "stream",
          "name": "stdout",
          "text": [
            "[ 0  1  2  3  4  5  6  7  8  9 10 11]\n"
          ]
        }
      ]
    },
    {
      "cell_type": "code",
      "source": [
        "# arr_1d 배열을 (4, 3) shape의 2차원 배열로 변환 -> 모양이 변환된 새로운 배열이 리턴.\n",
        "arr_2d = arr_1d.reshape((4, 3))\n",
        "print(arr_2d)"
      ],
      "metadata": {
        "colab": {
          "base_uri": "https://localhost:8080/"
        },
        "id": "Ek4tlXyAaSCd",
        "outputId": "1c4f031c-0a42-40df-bfe3-acab44494c24"
      },
      "execution_count": null,
      "outputs": [
        {
          "output_type": "stream",
          "name": "stdout",
          "text": [
            "[[ 0  1  2]\n",
            " [ 3  4  5]\n",
            " [ 6  7  8]\n",
            " [ 9 10 11]]\n"
          ]
        }
      ]
    },
    {
      "cell_type": "code",
      "source": [
        "# reshape을 할 때 자동으로 계산될 수 있는 차원 값에는 -1을 사용할 수 있음.\n",
        "arr_2d = arr_1d.reshape((3, -1))\n",
        "print(arr_2d)"
      ],
      "metadata": {
        "colab": {
          "base_uri": "https://localhost:8080/"
        },
        "id": "6mZvW-pBayr8",
        "outputId": "87c198ba-fc6c-414d-82c7-389fc66d3574"
      },
      "execution_count": null,
      "outputs": [
        {
          "output_type": "stream",
          "name": "stdout",
          "text": [
            "[[ 0  1  2  3]\n",
            " [ 4  5  6  7]\n",
            " [ 8  9 10 11]]\n"
          ]
        }
      ]
    },
    {
      "cell_type": "code",
      "source": [
        "arr_2d = arr_1d.reshape((-1, 4))\n",
        "print(arr_2d)"
      ],
      "metadata": {
        "colab": {
          "base_uri": "https://localhost:8080/"
        },
        "id": "e5hs9-58daFc",
        "outputId": "c1c3ed54-0f20-4bf6-cdc7-f0661966a625"
      },
      "execution_count": null,
      "outputs": [
        {
          "output_type": "stream",
          "name": "stdout",
          "text": [
            "[[ 0  1  2  3]\n",
            " [ 4  5  6  7]\n",
            " [ 8  9 10 11]]\n"
          ]
        }
      ]
    },
    {
      "cell_type": "code",
      "source": [
        "arr_2d.reshape((3*4,))  # reshape(3*4)"
      ],
      "metadata": {
        "colab": {
          "base_uri": "https://localhost:8080/"
        },
        "id": "lhGlz-CUdv5D",
        "outputId": "f283acdc-d577-4af6-acdf-3e6ad773f183"
      },
      "execution_count": null,
      "outputs": [
        {
          "output_type": "execute_result",
          "data": {
            "text/plain": [
              "array([ 0,  1,  2,  3,  4,  5,  6,  7,  8,  9, 10, 11])"
            ]
          },
          "metadata": {},
          "execution_count": 26
        }
      ]
    },
    {
      "cell_type": "code",
      "source": [
        "arr_2d.reshape((-1,))"
      ],
      "metadata": {
        "colab": {
          "base_uri": "https://localhost:8080/"
        },
        "id": "6VXg4l8aeDYE",
        "outputId": "1a3226e1-b4d2-418e-a3f6-9aff5c36b202"
      },
      "execution_count": null,
      "outputs": [
        {
          "output_type": "execute_result",
          "data": {
            "text/plain": [
              "array([ 0,  1,  2,  3,  4,  5,  6,  7,  8,  9, 10, 11])"
            ]
          },
          "metadata": {},
          "execution_count": 27
        }
      ]
    },
    {
      "cell_type": "markdown",
      "source": [
        "## `ravel` vs `flatten`\n",
        "\n",
        "* `ravel`: 1차원으로 변환된 배열의 **view**를 리턴. 배열은 1개이고, 단지 모양만 다르게 보여주는 것.\n",
        "* `flatten`: 1차원으로 변환된 배열의 **복사본**을 리턴. 원본 배열과는 별개의 새로운 배열이 생성됨.\n"
      ],
      "metadata": {
        "id": "CMtiUHEqfEEO"
      }
    },
    {
      "cell_type": "code",
      "source": [
        "print(arr_2d)"
      ],
      "metadata": {
        "colab": {
          "base_uri": "https://localhost:8080/"
        },
        "id": "oB4dK2N6fDlW",
        "outputId": "f309263d-2da0-4e22-d44c-2168f971600d"
      },
      "execution_count": null,
      "outputs": [
        {
          "output_type": "stream",
          "name": "stdout",
          "text": [
            "[[ 0  1  2  3]\n",
            " [ 4  5  6  7]\n",
            " [ 8  9 10 11]]\n"
          ]
        }
      ]
    },
    {
      "cell_type": "code",
      "source": [
        "flattened = arr_2d.flatten()"
      ],
      "metadata": {
        "id": "OnEgC2Q7f_pd"
      },
      "execution_count": null,
      "outputs": []
    },
    {
      "cell_type": "code",
      "source": [
        "print(flattened)"
      ],
      "metadata": {
        "colab": {
          "base_uri": "https://localhost:8080/"
        },
        "id": "gnmp_etvgH6D",
        "outputId": "03b7e175-a1ff-4af1-e81f-1e513b3e950c"
      },
      "execution_count": null,
      "outputs": [
        {
          "output_type": "stream",
          "name": "stdout",
          "text": [
            "[ 0  1  2  3  4  5  6  7  8  9 10 11]\n"
          ]
        }
      ]
    },
    {
      "cell_type": "code",
      "source": [
        "print(arr_2d)"
      ],
      "metadata": {
        "colab": {
          "base_uri": "https://localhost:8080/"
        },
        "id": "w7FlGVSqgNbV",
        "outputId": "9564a805-2158-407c-a602-827283dda920"
      },
      "execution_count": null,
      "outputs": [
        {
          "output_type": "stream",
          "name": "stdout",
          "text": [
            "[[ 0  1  2  3]\n",
            " [ 4  5  6  7]\n",
            " [ 8  9 10 11]]\n"
          ]
        }
      ]
    },
    {
      "cell_type": "code",
      "source": [
        "flattened[0] = 100\n",
        "print(flattened)\n",
        "print(arr_2d)  # 1차원으로 변환된 배열의 원소를 변경하는 것이 2차원 배열에 영향을 미치지 않음."
      ],
      "metadata": {
        "colab": {
          "base_uri": "https://localhost:8080/"
        },
        "id": "OlScObvVgSj9",
        "outputId": "bb5a90b8-bbc9-4da7-8378-0d48033b878c"
      },
      "execution_count": null,
      "outputs": [
        {
          "output_type": "stream",
          "name": "stdout",
          "text": [
            "[100   1   2   3   4   5   6   7   8   9  10  11]\n",
            "[[ 0  1  2  3]\n",
            " [ 4  5  6  7]\n",
            " [ 8  9 10 11]]\n"
          ]
        }
      ]
    },
    {
      "cell_type": "code",
      "source": [
        "raveled = arr_2d.ravel()\n",
        "print(raveled)\n",
        "print(arr_2d)"
      ],
      "metadata": {
        "colab": {
          "base_uri": "https://localhost:8080/"
        },
        "id": "MpLcf1v3ftik",
        "outputId": "c7f9195e-2709-43cc-e91c-e1dbcfa9bafc"
      },
      "execution_count": null,
      "outputs": [
        {
          "output_type": "stream",
          "name": "stdout",
          "text": [
            "[ 0  1  2  3  4  5  6  7  8  9 10 11]\n",
            "[[ 0  1  2  3]\n",
            " [ 4  5  6  7]\n",
            " [ 8  9 10 11]]\n"
          ]
        }
      ]
    },
    {
      "cell_type": "code",
      "source": [
        "raveled[0] = 100\n",
        "print(raveled)\n",
        "print(arr_2d)  # 1차원 배열의 수정 내용은 원본 2차원 배열에도 적용."
      ],
      "metadata": {
        "colab": {
          "base_uri": "https://localhost:8080/"
        },
        "id": "NFz9xxjxg7_r",
        "outputId": "6af6c24d-8658-452a-aa59-ecc299a50804"
      },
      "execution_count": null,
      "outputs": [
        {
          "output_type": "stream",
          "name": "stdout",
          "text": [
            "[100   1   2   3   4   5   6   7   8   9  10  11]\n",
            "[[100   1   2   3]\n",
            " [  4   5   6   7]\n",
            " [  8   9  10  11]]\n"
          ]
        }
      ]
    },
    {
      "cell_type": "markdown",
      "source": [
        "## `np.newaxis` 속성을 사용한 차원 늘리기"
      ],
      "metadata": {
        "id": "5jFRHEfWiQgG"
      }
    },
    {
      "cell_type": "code",
      "source": [
        "arr = np.arange(5)  # (5,) shape의 1차원 배열\n",
        "print(arr)\n",
        "print(arr.ndim)\n",
        "print(arr.shape)"
      ],
      "metadata": {
        "colab": {
          "base_uri": "https://localhost:8080/"
        },
        "id": "LpbK8voKhIjL",
        "outputId": "abc84b80-a7da-4b31-c5f1-39322292c993"
      },
      "execution_count": null,
      "outputs": [
        {
          "output_type": "stream",
          "name": "stdout",
          "text": [
            "[0 1 2 3 4]\n",
            "1\n",
            "(5,)\n"
          ]
        }
      ]
    },
    {
      "cell_type": "code",
      "source": [
        "# 배열 arr을 (1, 5) shape의 2차원 배열로 변환\n",
        "result = arr.reshape((1, -1))  # (1, 5)\n",
        "print(result)"
      ],
      "metadata": {
        "colab": {
          "base_uri": "https://localhost:8080/"
        },
        "id": "vTiR8zJy0dF6",
        "outputId": "3f796a86-c0cb-405d-d0b8-baba78571f55"
      },
      "execution_count": null,
      "outputs": [
        {
          "output_type": "stream",
          "name": "stdout",
          "text": [
            "[[0 1 2 3 4]]\n"
          ]
        }
      ]
    },
    {
      "cell_type": "code",
      "source": [
        "result = arr[np.newaxis, :]\n",
        "print(result)"
      ],
      "metadata": {
        "colab": {
          "base_uri": "https://localhost:8080/"
        },
        "id": "BEzQhbga1H2p",
        "outputId": "c74f4eac-1942-4b28-fa9e-2b6aa376e3b0"
      },
      "execution_count": null,
      "outputs": [
        {
          "output_type": "stream",
          "name": "stdout",
          "text": [
            "[[0 1 2 3 4]]\n"
          ]
        }
      ]
    },
    {
      "cell_type": "code",
      "source": [
        "# 배열 arr을 (5, 1) shape의 2차원 배열 변환\n",
        "result = arr.reshape((-1, 1))  # (5, 1)\n",
        "print(result)"
      ],
      "metadata": {
        "colab": {
          "base_uri": "https://localhost:8080/"
        },
        "id": "ugF_DEJD1YMq",
        "outputId": "51079031-1117-452a-e51e-ff9c9626208b"
      },
      "execution_count": null,
      "outputs": [
        {
          "output_type": "stream",
          "name": "stdout",
          "text": [
            "[[0]\n",
            " [1]\n",
            " [2]\n",
            " [3]\n",
            " [4]]\n"
          ]
        }
      ]
    },
    {
      "cell_type": "code",
      "source": [
        "result = arr[:, np.newaxis]\n",
        "print(result)"
      ],
      "metadata": {
        "colab": {
          "base_uri": "https://localhost:8080/"
        },
        "id": "UexI4CYZ14Ii",
        "outputId": "7452abfc-fcbd-46e5-e0ed-ccb628a897cd"
      },
      "execution_count": null,
      "outputs": [
        {
          "output_type": "stream",
          "name": "stdout",
          "text": [
            "[[0]\n",
            " [1]\n",
            " [2]\n",
            " [3]\n",
            " [4]]\n"
          ]
        }
      ]
    },
    {
      "cell_type": "markdown",
      "source": [
        "# concatenate\n",
        "\n",
        "* `np.concatenate([array1, array2, ...], axis=0)`: 특정 축(axis) 방향으로 이어 붙이기.\n",
        "* `np.r_[array1, array2]`: 행(row) 이어 붙이기.\n",
        "* `np.c_[array1, array2]`: 열(column) 이어 붙이기.\n"
      ],
      "metadata": {
        "id": "JoDhfkVL2-Jk"
      }
    },
    {
      "cell_type": "code",
      "source": [
        "a1 = np.arange(6).reshape((2, 3))  # (2, 3) shape\n",
        "print(a1)"
      ],
      "metadata": {
        "colab": {
          "base_uri": "https://localhost:8080/"
        },
        "id": "MN_kDsVb2aLR",
        "outputId": "f526b73e-a21c-4c36-9b6c-8c60647ccaa9"
      },
      "execution_count": null,
      "outputs": [
        {
          "output_type": "stream",
          "name": "stdout",
          "text": [
            "[[0 1 2]\n",
            " [3 4 5]]\n"
          ]
        }
      ]
    },
    {
      "cell_type": "code",
      "source": [
        "a2 = np.array([[10, 20, 30]])  # (1, 3) shape\n",
        "print(a2)"
      ],
      "metadata": {
        "colab": {
          "base_uri": "https://localhost:8080/"
        },
        "id": "bYGI37MB30WQ",
        "outputId": "e05511ed-b86e-41e3-b313-e37a323eafc7"
      },
      "execution_count": null,
      "outputs": [
        {
          "output_type": "stream",
          "name": "stdout",
          "text": [
            "[[10 20 30]]\n"
          ]
        }
      ]
    },
    {
      "cell_type": "code",
      "source": [
        "result = np.concatenate([a1, a2])  # axis=0 (기본값)\n",
        "print(result)"
      ],
      "metadata": {
        "colab": {
          "base_uri": "https://localhost:8080/"
        },
        "id": "4pfhYma44Ibo",
        "outputId": "fe081354-f457-434e-ae2d-4789c3a72af0"
      },
      "execution_count": null,
      "outputs": [
        {
          "output_type": "stream",
          "name": "stdout",
          "text": [
            "[[ 0  1  2]\n",
            " [ 3  4  5]\n",
            " [10 20 30]]\n"
          ]
        }
      ]
    },
    {
      "cell_type": "code",
      "source": [
        "a3 = np.array([[100], [200]])  # (2, 1) shape\n",
        "print(a3)"
      ],
      "metadata": {
        "colab": {
          "base_uri": "https://localhost:8080/"
        },
        "id": "0JCrkD9D4mzp",
        "outputId": "ce27b595-9058-4a17-8dbf-ea280dbe1d74"
      },
      "execution_count": null,
      "outputs": [
        {
          "output_type": "stream",
          "name": "stdout",
          "text": [
            "[[100]\n",
            " [200]]\n"
          ]
        }
      ]
    },
    {
      "cell_type": "code",
      "source": [
        "result = np.concatenate([a1, a3], axis=1)\n",
        "print(result)"
      ],
      "metadata": {
        "colab": {
          "base_uri": "https://localhost:8080/"
        },
        "id": "Gy1lM8YH44Og",
        "outputId": "3ed43184-acd7-47f5-ce25-d79261b9de77"
      },
      "execution_count": null,
      "outputs": [
        {
          "output_type": "stream",
          "name": "stdout",
          "text": [
            "[[  0   1   2 100]\n",
            " [  3   4   5 200]]\n"
          ]
        }
      ]
    },
    {
      "cell_type": "code",
      "source": [
        "np.r_[a1, a2]"
      ],
      "metadata": {
        "colab": {
          "base_uri": "https://localhost:8080/"
        },
        "id": "6l_gH--r5MYp",
        "outputId": "ae926933-1b16-4c87-cd1f-1e5a507e0789"
      },
      "execution_count": null,
      "outputs": [
        {
          "output_type": "execute_result",
          "data": {
            "text/plain": [
              "array([[ 0,  1,  2],\n",
              "       [ 3,  4,  5],\n",
              "       [10, 20, 30]])"
            ]
          },
          "metadata": {},
          "execution_count": 45
        }
      ]
    },
    {
      "cell_type": "code",
      "source": [
        "np.c_[a1, a3]"
      ],
      "metadata": {
        "colab": {
          "base_uri": "https://localhost:8080/"
        },
        "id": "_I-N4l645oFQ",
        "outputId": "22460b40-dfb1-4229-f951-4cac8582e310"
      },
      "execution_count": null,
      "outputs": [
        {
          "output_type": "execute_result",
          "data": {
            "text/plain": [
              "array([[  0,   1,   2, 100],\n",
              "       [  3,   4,   5, 200]])"
            ]
          },
          "metadata": {},
          "execution_count": 46
        }
      ]
    },
    {
      "cell_type": "markdown",
      "source": [
        "# Broadcasting(브로드캐스팅)\n",
        "\n",
        "* `np.ndarray`의 산술 연산(`+, -, *, /, ...`)은 같은 위치(인덱스)의 원소들끼리(element-wise) 연산이 수행됨.\n",
        "* 서로 다른 shape을 갖는 배열들끼리 산술 연산을 가능한 경우가 있음.\n",
        "    * broadcast\n"
      ],
      "metadata": {
        "id": "N1Rm6LnC6NXx"
      }
    },
    {
      "cell_type": "code",
      "source": [
        "a1 = np.array([1, 2])  # (2,) shape의 1차원 배열\n",
        "a2 = np.array([3, 4, 5])  # (3,) shape의 1차원 배열\n",
        "# a1 + a2  #> ValueError 발생"
      ],
      "metadata": {
        "id": "g37ddt_I59B4"
      },
      "execution_count": null,
      "outputs": []
    },
    {
      "cell_type": "markdown",
      "source": [
        "## ndarray와 scalar의 연산"
      ],
      "metadata": {
        "id": "6M8rjf5_8GjC"
      }
    },
    {
      "cell_type": "code",
      "source": [
        "a1 + 10"
      ],
      "metadata": {
        "colab": {
          "base_uri": "https://localhost:8080/"
        },
        "id": "85zcpj4X7uaY",
        "outputId": "25bf7bbc-1952-453a-90ff-9285d9af4c69"
      },
      "execution_count": null,
      "outputs": [
        {
          "output_type": "execute_result",
          "data": {
            "text/plain": [
              "array([11, 12])"
            ]
          },
          "metadata": {},
          "execution_count": 48
        }
      ]
    },
    {
      "cell_type": "code",
      "source": [
        "a1 = np.array([[1], [2], [3]])\n",
        "print(a1)"
      ],
      "metadata": {
        "colab": {
          "base_uri": "https://localhost:8080/"
        },
        "id": "wTAooy5G9EZC",
        "outputId": "9498020f-5176-4cf8-fe3a-8536f39d838f"
      },
      "execution_count": null,
      "outputs": [
        {
          "output_type": "stream",
          "name": "stdout",
          "text": [
            "[[1]\n",
            " [2]\n",
            " [3]]\n"
          ]
        }
      ]
    },
    {
      "cell_type": "code",
      "source": [
        "a1 + 10"
      ],
      "metadata": {
        "colab": {
          "base_uri": "https://localhost:8080/"
        },
        "id": "Sahz4ONH9QYQ",
        "outputId": "bd30582f-f959-4489-83ac-f8d46e630406"
      },
      "execution_count": null,
      "outputs": [
        {
          "output_type": "execute_result",
          "data": {
            "text/plain": [
              "array([[11],\n",
              "       [12],\n",
              "       [13]])"
            ]
          },
          "metadata": {},
          "execution_count": 50
        }
      ]
    },
    {
      "cell_type": "markdown",
      "source": [
        "## 2차원 배열과 1차원 배열 또는 2차원 배열에서의 broadcast"
      ],
      "metadata": {
        "id": "ugpNS2J_9-Xy"
      }
    },
    {
      "cell_type": "code",
      "source": [
        "a1 = np.arange(6).reshape((2, -1))  # (2, 3) 2d array\n",
        "print(a1)"
      ],
      "metadata": {
        "colab": {
          "base_uri": "https://localhost:8080/"
        },
        "id": "y2KKJh799SDQ",
        "outputId": "c4600b5b-b14d-41a2-c3c0-b5aa3eae967a"
      },
      "execution_count": null,
      "outputs": [
        {
          "output_type": "stream",
          "name": "stdout",
          "text": [
            "[[0 1 2]\n",
            " [3 4 5]]\n"
          ]
        }
      ]
    },
    {
      "cell_type": "code",
      "source": [
        "a2 = np.arange(10, 40, 10)  # (3,) 1d array\n",
        "print(a2)"
      ],
      "metadata": {
        "colab": {
          "base_uri": "https://localhost:8080/"
        },
        "id": "Q-K0-JMtCVLI",
        "outputId": "ccae28bc-6a02-4610-c50f-c6fe90029c9f"
      },
      "execution_count": null,
      "outputs": [
        {
          "output_type": "stream",
          "name": "stdout",
          "text": [
            "[10 20 30]\n"
          ]
        }
      ]
    },
    {
      "cell_type": "code",
      "source": [
        "a1 + a2\n",
        "# (3,) 1d array --> (1, 3) 2d array --> (2, 3) 2d array broadcast"
      ],
      "metadata": {
        "colab": {
          "base_uri": "https://localhost:8080/"
        },
        "id": "l4pTt9WOCkyY",
        "outputId": "c00625d9-7277-4683-ea60-a5994a574671"
      },
      "execution_count": null,
      "outputs": [
        {
          "output_type": "execute_result",
          "data": {
            "text/plain": [
              "array([[10, 21, 32],\n",
              "       [13, 24, 35]])"
            ]
          },
          "metadata": {},
          "execution_count": 53
        }
      ]
    },
    {
      "cell_type": "code",
      "source": [
        "a3 = np.array([[10], [20]])  # (2, 1) 2d array\n",
        "a1 + a3"
      ],
      "metadata": {
        "colab": {
          "base_uri": "https://localhost:8080/"
        },
        "id": "LppGFFHdCsCf",
        "outputId": "335c6ee6-ad0f-438f-eca2-8c0bd227106d"
      },
      "execution_count": null,
      "outputs": [
        {
          "output_type": "execute_result",
          "data": {
            "text/plain": [
              "array([[10, 11, 12],\n",
              "       [23, 24, 25]])"
            ]
          },
          "metadata": {},
          "execution_count": 54
        }
      ]
    },
    {
      "cell_type": "markdown",
      "source": [
        "## broadcast 활용\n",
        "\n",
        "* 표준화(standardization): 평균이 0이 되고, 표준편차가 1이 되도록 변수들의 스케일을 변환하는 것.\n",
        "* 정규화(normalization): 최솟값이 0이 되고, 최댓값이 1이 되도록 변수들의 스케일을 변환하는 것. min-max scaling.\n"
      ],
      "metadata": {
        "id": "jn8jLm-kE1yg"
      }
    },
    {
      "cell_type": "markdown",
      "source": [
        "### 표준화"
      ],
      "metadata": {
        "id": "iFnZzYyMFgO3"
      }
    },
    {
      "cell_type": "code",
      "source": [
        "x = np.arange(1, 6)\n",
        "print(x)"
      ],
      "metadata": {
        "colab": {
          "base_uri": "https://localhost:8080/"
        },
        "id": "7YUtiCFQFjR4",
        "outputId": "6d236356-cd46-4354-bd2e-4c9e02eab3c6"
      },
      "execution_count": null,
      "outputs": [
        {
          "output_type": "stream",
          "name": "stdout",
          "text": [
            "[1 2 3 4 5]\n"
          ]
        }
      ]
    },
    {
      "cell_type": "code",
      "source": [
        "mu = np.mean(x)  # 1d-array 평균\n",
        "print(mu)"
      ],
      "metadata": {
        "colab": {
          "base_uri": "https://localhost:8080/"
        },
        "id": "E7U7McrqFnxu",
        "outputId": "68e75ce6-4007-46c7-a4e6-556553ba4c4a"
      },
      "execution_count": null,
      "outputs": [
        {
          "output_type": "stream",
          "name": "stdout",
          "text": [
            "3.0\n"
          ]
        }
      ]
    },
    {
      "cell_type": "code",
      "source": [
        "sigma = np.std(x)  # 1d-array 표준편차\n",
        "print(sigma)"
      ],
      "metadata": {
        "colab": {
          "base_uri": "https://localhost:8080/"
        },
        "id": "4-S2ExsDF06W",
        "outputId": "c5d691cc-69b1-420f-8e3d-70ee6b057878"
      },
      "execution_count": null,
      "outputs": [
        {
          "output_type": "stream",
          "name": "stdout",
          "text": [
            "1.4142135623730951\n"
          ]
        }
      ]
    },
    {
      "cell_type": "code",
      "source": [
        "x_scaled = (x - mu) / sigma  # 표준화\n",
        "print(x_scaled)"
      ],
      "metadata": {
        "colab": {
          "base_uri": "https://localhost:8080/"
        },
        "id": "fkmyGiHoF7Ju",
        "outputId": "cefadd4d-1afc-446d-a4d1-a20e2b96cc0c"
      },
      "execution_count": null,
      "outputs": [
        {
          "output_type": "stream",
          "name": "stdout",
          "text": [
            "[-1.41421356 -0.70710678  0.          0.70710678  1.41421356]\n"
          ]
        }
      ]
    },
    {
      "cell_type": "code",
      "source": [
        "np.mean(x_scaled)"
      ],
      "metadata": {
        "colab": {
          "base_uri": "https://localhost:8080/"
        },
        "id": "TW93h8NSGsRW",
        "outputId": "feba62fa-0bd7-457f-f8e2-91bb77f36f8e"
      },
      "execution_count": null,
      "outputs": [
        {
          "output_type": "execute_result",
          "data": {
            "text/plain": [
              "0.0"
            ]
          },
          "metadata": {},
          "execution_count": 59
        }
      ]
    },
    {
      "cell_type": "code",
      "source": [
        "np.std(x_scaled)"
      ],
      "metadata": {
        "colab": {
          "base_uri": "https://localhost:8080/"
        },
        "id": "m9E5SzVSG2Wm",
        "outputId": "3a6f461e-7dbb-4237-e809-9ba95a8616f7"
      },
      "execution_count": null,
      "outputs": [
        {
          "output_type": "execute_result",
          "data": {
            "text/plain": [
              "0.9999999999999999"
            ]
          },
          "metadata": {},
          "execution_count": 60
        }
      ]
    },
    {
      "cell_type": "markdown",
      "source": [
        "### 정규화"
      ],
      "metadata": {
        "id": "uA2FP5OqI9I_"
      }
    },
    {
      "cell_type": "code",
      "source": [
        "xmin = np.min(x)\n",
        "xmax = np.max(x)\n",
        "print(xmin, xmax)"
      ],
      "metadata": {
        "colab": {
          "base_uri": "https://localhost:8080/"
        },
        "id": "VOIqML80G4F1",
        "outputId": "a78d32d6-d132-49af-b5d3-b339c9c44654"
      },
      "execution_count": null,
      "outputs": [
        {
          "output_type": "stream",
          "name": "stdout",
          "text": [
            "1 5\n"
          ]
        }
      ]
    },
    {
      "cell_type": "code",
      "source": [
        "x_normalized = (x - xmin) / (xmax - xmin)  # 정규화\n",
        "print(x_normalized)"
      ],
      "metadata": {
        "colab": {
          "base_uri": "https://localhost:8080/"
        },
        "id": "NH80KNZRJMbW",
        "outputId": "cb36072a-cd47-48ec-e3fc-9ac0e5a97c90"
      },
      "execution_count": null,
      "outputs": [
        {
          "output_type": "stream",
          "name": "stdout",
          "text": [
            "[0.   0.25 0.5  0.75 1.  ]\n"
          ]
        }
      ]
    },
    {
      "cell_type": "markdown",
      "source": [
        "### 2차원 배열의 표준화, 정규화"
      ],
      "metadata": {
        "id": "_UJfeCgQLBBf"
      }
    },
    {
      "cell_type": "code",
      "source": [
        "x = np.arange(1, 7).reshape((3, -1))  # (3, 2) 2d-array\n",
        "print(x)"
      ],
      "metadata": {
        "colab": {
          "base_uri": "https://localhost:8080/"
        },
        "id": "HSA0XJI3JbCd",
        "outputId": "e4bdef56-f5af-4a2c-d60c-78c4ff441ed0"
      },
      "execution_count": null,
      "outputs": [
        {
          "output_type": "stream",
          "name": "stdout",
          "text": [
            "[[1 2]\n",
            " [3 4]\n",
            " [5 6]]\n"
          ]
        }
      ]
    },
    {
      "cell_type": "markdown",
      "source": [
        "2차원 배열 x를 axis=0 방향으로 표준화, 정규화"
      ],
      "metadata": {
        "id": "zyLISW4qLrjm"
      }
    },
    {
      "cell_type": "code",
      "source": [
        "mu = np.mean(x, axis=0)\n",
        "print(mu)\n",
        "sigma = np.std(x, axis=0)\n",
        "print(sigma)"
      ],
      "metadata": {
        "colab": {
          "base_uri": "https://localhost:8080/"
        },
        "id": "t7hHQMP9LOPF",
        "outputId": "427cedd9-e9e8-4ff9-f577-0e5fff2b813e"
      },
      "execution_count": null,
      "outputs": [
        {
          "output_type": "stream",
          "name": "stdout",
          "text": [
            "[3. 4.]\n",
            "[1.63299316 1.63299316]\n"
          ]
        }
      ]
    },
    {
      "cell_type": "code",
      "source": [
        "x_scaled = (x - mu) / sigma\n",
        "print(x_scaled)"
      ],
      "metadata": {
        "colab": {
          "base_uri": "https://localhost:8080/"
        },
        "id": "_svb8HkLRyUd",
        "outputId": "9cdcd9d0-2fde-4a47-8e1a-99e2ac2e45c8"
      },
      "execution_count": null,
      "outputs": [
        {
          "output_type": "stream",
          "name": "stdout",
          "text": [
            "[[-1.22474487 -1.22474487]\n",
            " [ 0.          0.        ]\n",
            " [ 1.22474487  1.22474487]]\n"
          ]
        }
      ]
    },
    {
      "cell_type": "code",
      "source": [
        "xmax = np.max(x, axis=0)\n",
        "print(xmax)\n",
        "xmin = np.min(x, axis=0)\n",
        "print(xmin)"
      ],
      "metadata": {
        "colab": {
          "base_uri": "https://localhost:8080/"
        },
        "id": "vQhg40a-SXlr",
        "outputId": "26a26dda-b66f-4d3b-e8b4-a61927559340"
      },
      "execution_count": null,
      "outputs": [
        {
          "output_type": "stream",
          "name": "stdout",
          "text": [
            "[5 6]\n",
            "[1 2]\n"
          ]
        }
      ]
    },
    {
      "cell_type": "code",
      "source": [
        "x_normalized = (x - xmin) / (xmax - xmin)\n",
        "print(x_normalized)"
      ],
      "metadata": {
        "colab": {
          "base_uri": "https://localhost:8080/"
        },
        "id": "W6396DpRUBIU",
        "outputId": "088172fd-ca3e-428f-8e49-693f1d119cf7"
      },
      "execution_count": null,
      "outputs": [
        {
          "output_type": "stream",
          "name": "stdout",
          "text": [
            "[[0.  0. ]\n",
            " [0.5 0.5]\n",
            " [1.  1. ]]\n"
          ]
        }
      ]
    },
    {
      "cell_type": "markdown",
      "source": [
        "배열 x를 axis=1 방향으로 표준화, 정규화"
      ],
      "metadata": {
        "id": "ZVmJtI0BViBU"
      }
    },
    {
      "cell_type": "code",
      "source": [
        "mu = np.mean(x, axis=1, keepdims=True)\n",
        "print(mu)"
      ],
      "metadata": {
        "colab": {
          "base_uri": "https://localhost:8080/"
        },
        "id": "yrdnf7EpUcsq",
        "outputId": "5b72192b-0953-4653-d2fe-d60e277f58e7"
      },
      "execution_count": null,
      "outputs": [
        {
          "output_type": "stream",
          "name": "stdout",
          "text": [
            "[[1.5]\n",
            " [3.5]\n",
            " [5.5]]\n"
          ]
        }
      ]
    },
    {
      "cell_type": "code",
      "source": [
        "sigma = np.std(x, axis=1, keepdims=True)\n",
        "print(sigma)"
      ],
      "metadata": {
        "colab": {
          "base_uri": "https://localhost:8080/"
        },
        "id": "GUO0gvAdXP6j",
        "outputId": "2baa5a64-d4c7-4500-f330-01e5804ed0cb"
      },
      "execution_count": null,
      "outputs": [
        {
          "output_type": "stream",
          "name": "stdout",
          "text": [
            "[[0.5]\n",
            " [0.5]\n",
            " [0.5]]\n"
          ]
        }
      ]
    },
    {
      "cell_type": "code",
      "source": [
        "x_scaled = (x - mu) / sigma\n",
        "print(x_scaled)"
      ],
      "metadata": {
        "colab": {
          "base_uri": "https://localhost:8080/"
        },
        "id": "GwEz17v3YXwy",
        "outputId": "9fc7c827-d366-4279-c4d8-c1688c8a8b77"
      },
      "execution_count": null,
      "outputs": [
        {
          "output_type": "stream",
          "name": "stdout",
          "text": [
            "[[-1.  1.]\n",
            " [-1.  1.]\n",
            " [-1.  1.]]\n"
          ]
        }
      ]
    }
  ]
}