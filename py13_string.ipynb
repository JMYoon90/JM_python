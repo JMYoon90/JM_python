{
  "nbformat": 4,
  "nbformat_minor": 0,
  "metadata": {
    "colab": {
      "provenance": [],
      "authorship_tag": "ABX9TyNenN92/cJ5EMjYeblX2md4",
      "include_colab_link": true
    },
    "kernelspec": {
      "name": "python3",
      "display_name": "Python 3"
    },
    "language_info": {
      "name": "python"
    }
  },
  "cells": [
    {
      "cell_type": "markdown",
      "metadata": {
        "id": "view-in-github",
        "colab_type": "text"
      },
      "source": [
        "<a href=\"https://colab.research.google.com/github/JMYoon90/JM_python/blob/main/py13_string.ipynb\" target=\"_parent\"><img src=\"https://colab.research.google.com/assets/colab-badge.svg\" alt=\"Open In Colab\"/></a>"
      ]
    },
    {
      "cell_type": "markdown",
      "source": [
        "# `str` 클래스의 메서드\n",
        "\n",
        "* `str` 클래스의 메서드들은 원본 문자열을 변경하지 않음!\n",
        "* 원본 문자열을 변환한 새로운 문자열을 리턴함."
      ],
      "metadata": {
        "id": "hgMq3PkkKCC-"
      }
    },
    {
      "cell_type": "code",
      "source": [
        "s = 'heLLo, pyTHON!안녕하세요. 12345'"
      ],
      "metadata": {
        "id": "BZ_QiCXQKKaq"
      },
      "execution_count": 5,
      "outputs": []
    },
    {
      "cell_type": "code",
      "source": [
        "s.upper()"
      ],
      "metadata": {
        "colab": {
          "base_uri": "https://localhost:8080/",
          "height": 35
        },
        "id": "SdjwlkzwK45X",
        "outputId": "27382aeb-02c0-4f88-d920-87cfa86e595e"
      },
      "execution_count": 6,
      "outputs": [
        {
          "output_type": "execute_result",
          "data": {
            "text/plain": [
              "'HELLO, PYTHON!안녕하세요. 12345'"
            ],
            "application/vnd.google.colaboratory.intrinsic+json": {
              "type": "string"
            }
          },
          "metadata": {},
          "execution_count": 6
        }
      ]
    },
    {
      "cell_type": "code",
      "source": [
        "s.capitalize() # 문자열의 첫글자만 대문자로, 나머지는 소문자로 변경."
      ],
      "metadata": {
        "colab": {
          "base_uri": "https://localhost:8080/",
          "height": 35
        },
        "id": "Vln6yA7RLlhH",
        "outputId": "04b00505-5c6e-479c-9619-cf3e53870a64"
      },
      "execution_count": 7,
      "outputs": [
        {
          "output_type": "execute_result",
          "data": {
            "text/plain": [
              "'Hello, python!안녕하세요. 12345'"
            ],
            "application/vnd.google.colaboratory.intrinsic+json": {
              "type": "string"
            }
          },
          "metadata": {},
          "execution_count": 7
        }
      ]
    },
    {
      "cell_type": "code",
      "source": [
        "s.count('L')"
      ],
      "metadata": {
        "colab": {
          "base_uri": "https://localhost:8080/"
        },
        "id": "PDb-ObvSLosP",
        "outputId": "b5033b78-420f-411b-a39e-8577cb293db7"
      },
      "execution_count": 9,
      "outputs": [
        {
          "output_type": "execute_result",
          "data": {
            "text/plain": [
              "2"
            ]
          },
          "metadata": {},
          "execution_count": 9
        }
      ]
    },
    {
      "cell_type": "code",
      "source": [
        "url = 'http://www.google.com'"
      ],
      "metadata": {
        "id": "Hh6r0s7RMhnQ"
      },
      "execution_count": 10,
      "outputs": []
    },
    {
      "cell_type": "code",
      "source": [
        "url.startswith('http')"
      ],
      "metadata": {
        "colab": {
          "base_uri": "https://localhost:8080/"
        },
        "id": "suiX5SWsNVHt",
        "outputId": "d734e29d-2f46-45cd-bca1-0518d501f1b6"
      },
      "execution_count": 11,
      "outputs": [
        {
          "output_type": "execute_result",
          "data": {
            "text/plain": [
              "True"
            ]
          },
          "metadata": {},
          "execution_count": 11
        }
      ]
    },
    {
      "cell_type": "code",
      "source": [
        "url.startswith('ftp')"
      ],
      "metadata": {
        "colab": {
          "base_uri": "https://localhost:8080/"
        },
        "id": "V2slMl_INZ-z",
        "outputId": "36ad0a9b-4aef-4526-9a39-5c040e984b07"
      },
      "execution_count": 12,
      "outputs": [
        {
          "output_type": "execute_result",
          "data": {
            "text/plain": [
              "False"
            ]
          },
          "metadata": {},
          "execution_count": 12
        }
      ]
    },
    {
      "cell_type": "code",
      "source": [
        "phone = '010-0000-0000'"
      ],
      "metadata": {
        "id": "asZnlEygNcug"
      },
      "execution_count": 13,
      "outputs": []
    },
    {
      "cell_type": "code",
      "source": [
        "phone.split(sep='-')"
      ],
      "metadata": {
        "colab": {
          "base_uri": "https://localhost:8080/"
        },
        "id": "R4-Oikz8N3le",
        "outputId": "ce72de3d-9017-4d17-ff23-60cb811da452"
      },
      "execution_count": 15,
      "outputs": [
        {
          "output_type": "execute_result",
          "data": {
            "text/plain": [
              "['010', '0000', '0000']"
            ]
          },
          "metadata": {},
          "execution_count": 15
        }
      ]
    },
    {
      "cell_type": "code",
      "source": [
        "sentence = 'hello python \\t 안녕하세요 \\n Java'\n",
        "print(sentence)"
      ],
      "metadata": {
        "colab": {
          "base_uri": "https://localhost:8080/"
        },
        "id": "HsKmuQzKOdwa",
        "outputId": "01564476-9aab-4f70-d081-1a96eab8a8dd"
      },
      "execution_count": 17,
      "outputs": [
        {
          "output_type": "stream",
          "name": "stdout",
          "text": [
            "hello python \t 안녕하세요 \n",
            " Java\n"
          ]
        }
      ]
    },
    {
      "cell_type": "code",
      "source": [
        "sentence.split()\n",
        "# 파라미터 sep=None인 경우, 공백(whitespace:스페이스, 탭, 줄바꿈)을 기준으로 자름."
      ],
      "metadata": {
        "colab": {
          "base_uri": "https://localhost:8080/"
        },
        "id": "32JvZXb6Os0Q",
        "outputId": "b18dad17-42a8-4e37-c20e-19ad865595b8"
      },
      "execution_count": 19,
      "outputs": [
        {
          "output_type": "execute_result",
          "data": {
            "text/plain": [
              "['hello', 'python', '안녕하세요', 'Java']"
            ]
          },
          "metadata": {},
          "execution_count": 19
        }
      ]
    },
    {
      "cell_type": "code",
      "source": [
        "# CSV(comma-seperated values) 파일: 데이터들이 comma(,)로 구분된 형식의 파일.\n",
        "csv = '100,scott,200,scott@oracle.com,1234.56,IT,2022-12-29'\n",
        "csv.split(',') # 문자열 -> 문자열 리스트"
      ],
      "metadata": {
        "colab": {
          "base_uri": "https://localhost:8080/"
        },
        "id": "HeqtTCVBP2KP",
        "outputId": "38e1b161-3b04-4c1c-97a6-6a30846fa18e"
      },
      "execution_count": 21,
      "outputs": [
        {
          "output_type": "execute_result",
          "data": {
            "text/plain": [
              "['100', 'scott', '200', 'scott@oracle.com', '1234.56', 'IT', '2022-12-29']"
            ]
          },
          "metadata": {},
          "execution_count": 21
        }
      ]
    },
    {
      "cell_type": "code",
      "source": [
        "'/'.join(['2022', '12', '29'])"
      ],
      "metadata": {
        "colab": {
          "base_uri": "https://localhost:8080/",
          "height": 35
        },
        "id": "E6TqydonQ8cj",
        "outputId": "9d8e8087-84ac-44d6-c15a-1c8758411970"
      },
      "execution_count": 23,
      "outputs": [
        {
          "output_type": "execute_result",
          "data": {
            "text/plain": [
              "'2022/12/29'"
            ],
            "application/vnd.google.colaboratory.intrinsic+json": {
              "type": "string"
            }
          },
          "metadata": {},
          "execution_count": 23
        }
      ]
    },
    {
      "cell_type": "code",
      "source": [
        "s = '               Hello python!              안녕하세요....            '\n",
        "print(s)\n",
        "print(s.lstrip())\n",
        "print(s.rstrip())\n",
        "print(s.strip()) # 문자열의 왼쪽/ 오른쪽 끝에 있는 공백들을 지움."
      ],
      "metadata": {
        "colab": {
          "base_uri": "https://localhost:8080/"
        },
        "id": "9xUtwJp5RfWb",
        "outputId": "40720a46-8b73-4529-a75d-cf2a5c98f972"
      },
      "execution_count": 25,
      "outputs": [
        {
          "output_type": "stream",
          "name": "stdout",
          "text": [
            "               Hello python!              안녕하세요....            \n",
            "Hello python!              안녕하세요....            \n",
            "               Hello python!              안녕하세요....\n",
            "Hello python!              안녕하세요....\n"
          ]
        }
      ]
    },
    {
      "cell_type": "code",
      "source": [
        "s = '100::scott::scott@test.com::IT::2022-12-29'\n",
        "s.replace('::', ',')"
      ],
      "metadata": {
        "colab": {
          "base_uri": "https://localhost:8080/",
          "height": 35
        },
        "id": "TTBdT6TqSwqJ",
        "outputId": "f3b7e6e8-4109-4b3c-a04d-4910052c006e"
      },
      "execution_count": 27,
      "outputs": [
        {
          "output_type": "execute_result",
          "data": {
            "text/plain": [
              "'100,scott,scott@test.com,IT,2022-12-29'"
            ],
            "application/vnd.google.colaboratory.intrinsic+json": {
              "type": "string"
            }
          },
          "metadata": {},
          "execution_count": 27
        }
      ]
    }
  ]
}